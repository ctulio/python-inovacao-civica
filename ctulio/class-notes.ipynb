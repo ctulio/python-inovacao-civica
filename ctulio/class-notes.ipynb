{
 "cells": [
  {
   "cell_type": "markdown",
   "id": "11e06e4a",
   "metadata": {},
   "source": [
    "## Introdução "
   ]
  },
  {
   "cell_type": "code",
   "execution_count": 40,
   "id": "87533f83",
   "metadata": {},
   "outputs": [],
   "source": [
    "anocorrente = !date +%Y"
   ]
  },
  {
   "cell_type": "code",
   "execution_count": 43,
   "id": "5239c12f",
   "metadata": {},
   "outputs": [],
   "source": [
    "anocorrente = int(anocorrente[0])"
   ]
  },
  {
   "cell_type": "code",
   "execution_count": 44,
   "id": "7b3cf7f8",
   "metadata": {},
   "outputs": [
    {
     "data": {
      "text/plain": [
       "int"
      ]
     },
     "execution_count": 44,
     "metadata": {},
     "output_type": "execute_result"
    }
   ],
   "source": [
    "type(anocorrente)"
   ]
  },
  {
   "cell_type": "code",
   "execution_count": 36,
   "id": "0a457809",
   "metadata": {},
   "outputs": [
    {
     "name": "stdout",
     "output_type": "stream",
     "text": [
      "2021\n"
     ]
    }
   ],
   "source": [
    "print(anocorrente)"
   ]
  },
  {
   "cell_type": "code",
   "execution_count": 29,
   "id": "f7a2c073",
   "metadata": {},
   "outputs": [
    {
     "name": "stdout",
     "output_type": "stream",
     "text": [
      "Olá! Qual o seu nome?ct\n"
     ]
    }
   ],
   "source": [
    "nome = input(\"Olá! Qual o seu nome?\")"
   ]
  },
  {
   "cell_type": "code",
   "execution_count": 30,
   "id": "59619a58",
   "metadata": {},
   "outputs": [
    {
     "name": "stdout",
     "output_type": "stream",
     "text": [
      "Qual o ano do seu nascimento?1987\n"
     ]
    }
   ],
   "source": [
    "ano = int(input(\"Qual o ano do seu nascimento?\"))"
   ]
  },
  {
   "cell_type": "code",
   "execution_count": 31,
   "id": "5226f9fc",
   "metadata": {},
   "outputs": [
    {
     "name": "stdout",
     "output_type": "stream",
     "text": [
      "Bem vindo, ct\n"
     ]
    }
   ],
   "source": [
    "print(f'Bem vindo, {nome}')"
   ]
  },
  {
   "cell_type": "code",
   "execution_count": 32,
   "id": "386f16ef",
   "metadata": {},
   "outputs": [],
   "source": [
    "idade = anocorrente - ano"
   ]
  },
  {
   "cell_type": "code",
   "execution_count": 33,
   "id": "0199e572",
   "metadata": {},
   "outputs": [
    {
     "name": "stdout",
     "output_type": "stream",
     "text": [
      "Você tem 34 anos\n"
     ]
    }
   ],
   "source": [
    "print(f'Você tem {idade} anos')"
   ]
  },
  {
   "cell_type": "markdown",
   "id": "6c16c6fb",
   "metadata": {},
   "source": [
    "### Módulo 0"
   ]
  },
  {
   "cell_type": "code",
   "execution_count": 2,
   "id": "49d1dd0b",
   "metadata": {},
   "outputs": [
    {
     "name": "stdout",
     "output_type": "stream",
     "text": [
      "Digite o 1º número: 1\n",
      "Digite o 2º número: 2\n",
      "Digite o 3º número: 3\n",
      "Entrada: 1, 2, 3\n",
      "Processamento: 1+2+3\n",
      "Saída:  6\n"
     ]
    }
   ],
   "source": [
    "\n",
    "num1 = int(input('Digite o 1º número: '))\n",
    "num2 = int(input('Digite o 2º número: '))\n",
    "num3 = int(input('Digite o 3º número: '))\n",
    "\n",
    "soma = num1 + num2 + num3\n",
    "\n",
    "print(f'Entrada: {num1}, {num2}, {num3}')\n",
    "print(f'Processamento: {num1}+{num2}+{num3}')\n",
    "print(f'Saída:  {soma}')"
   ]
  },
  {
   "cell_type": "markdown",
   "id": "27df981b",
   "metadata": {},
   "source": [
    "### Módulo 1"
   ]
  },
  {
   "cell_type": "code",
   "execution_count": 6,
   "id": "7a3d0c8e",
   "metadata": {},
   "outputs": [
    {
     "data": {
      "text/plain": [
       "range(2, 20, 2)"
      ]
     },
     "execution_count": 6,
     "metadata": {},
     "output_type": "execute_result"
    }
   ],
   "source": [
    "## Aula 4\n",
    "\n",
    "range(2,20,2)"
   ]
  },
  {
   "cell_type": "code",
   "execution_count": 5,
   "id": "e9f21826",
   "metadata": {},
   "outputs": [
    {
     "data": {
      "text/plain": [
       "[2, 4, 6, 8, 10, 12, 14, 16, 18]"
      ]
     },
     "execution_count": 5,
     "metadata": {},
     "output_type": "execute_result"
    }
   ],
   "source": [
    "list(range(2,20,2))"
   ]
  },
  {
   "cell_type": "code",
   "execution_count": 10,
   "id": "c3bc8de3",
   "metadata": {},
   "outputs": [
    {
     "data": {
      "text/plain": [
       "range(4, 9, 2)"
      ]
     },
     "execution_count": 10,
     "metadata": {},
     "output_type": "execute_result"
    }
   ],
   "source": [
    "range(4,9,2)"
   ]
  },
  {
   "cell_type": "code",
   "execution_count": 9,
   "id": "e82d353d",
   "metadata": {},
   "outputs": [
    {
     "data": {
      "text/plain": [
       "[4, 6, 8]"
      ]
     },
     "execution_count": 9,
     "metadata": {},
     "output_type": "execute_result"
    }
   ],
   "source": [
    "list(range(4,9,2))"
   ]
  },
  {
   "cell_type": "code",
   "execution_count": 13,
   "id": "06ae5b04",
   "metadata": {},
   "outputs": [],
   "source": [
    "sg_partido = ['DEM', 'DC', 'PTB', 'REPUBLICANOS', 'PSL', 'PC do B', 'PTC',\n",
    "       'CIDADANIA', 'PSOL', 'MDB', 'PT', 'PSB', 'AVANTE', 'PATRIOTA',\n",
    "       'PSD', 'PDT', 'PRTB', 'PL', 'REDE', 'PODE', 'PSDB', 'PMN', 'PP',\n",
    "       'PSC', 'SOLIDARIEDADE', 'PROS', 'PV', 'PCB', 'PMB', 'UP', 'NOVO',\n",
    "       'PCO', 'PSTU']\n",
    "\n",
    "sg_partido_letra_p = []\n",
    "sg_partido_letra_indefinida = []"
   ]
  },
  {
   "cell_type": "markdown",
   "id": "bd6ae840",
   "metadata": {},
   "source": [
    "#### listas [], for, if, else"
   ]
  },
  {
   "cell_type": "code",
   "execution_count": 23,
   "id": "536f73c9",
   "metadata": {},
   "outputs": [
    {
     "name": "stdout",
     "output_type": "stream",
     "text": [
      "Atividade concluída\n",
      "\n",
      "Partidos letra \"P\": ['PTB', 'PSL', 'PC do B', 'PTC', 'PSOL', 'PT', 'PSB', 'PATRIOTA', 'PSD', 'PDT', 'PRTB', 'PL', 'PODE', 'PSDB', 'PMN', 'PP', 'PSC', 'PROS', 'PV', 'PCB', 'PMB', 'PCO', 'PSTU', 'PTB', 'PSL', 'PC do B', 'PTC', 'PSOL', 'PT', 'PSB', 'PATRIOTA', 'PSD', 'PDT', 'PRTB', 'PL', 'PODE', 'PSDB', 'PMN', 'PP', 'PSC', 'PROS', 'PV', 'PCB', 'PMB', 'PCO', 'PSTU', 'PTB', 'PSL', 'PC do B', 'PTC', 'PSOL', 'PT', 'PSB', 'PATRIOTA', 'PSD', 'PDT', 'PRTB', 'PL', 'PODE', 'PSDB', 'PMN', 'PP', 'PSC', 'PROS', 'PV', 'PCB', 'PMB', 'PCO', 'PSTU', 'PTB', 'PSL', 'PC do B', 'PTC', 'PSOL', 'PT', 'PSB', 'PATRIOTA', 'PSD', 'PDT', 'PRTB', 'PL', 'PODE', 'PSDB', 'PMN', 'PP', 'PSC', 'PROS', 'PV', 'PCB', 'PMB', 'PCO', 'PSTU', 'PTB', 'PSL', 'PC do B', 'PTC', 'PSOL', 'PT', 'PSB', 'PATRIOTA', 'PSD', 'PDT', 'PRTB', 'PL', 'PODE', 'PSDB', 'PMN', 'PP', 'PSC', 'PROS', 'PV', 'PCB', 'PMB', 'PCO', 'PSTU', 'PTB', 'PSL', 'PC do B', 'PTC', 'PSOL', 'PT', 'PSB', 'PATRIOTA', 'PSD', 'PDT', 'PRTB', 'PL', 'PODE', 'PSDB', 'PMN', 'PP', 'PSC', 'PROS', 'PV', 'PCB', 'PMB', 'PCO', 'PSTU', 'PTB', 'PSL', 'PC do B', 'PTC', 'PSOL', 'PT', 'PSB', 'PATRIOTA', 'PSD', 'PDT', 'PRTB', 'PL', 'PODE', 'PSDB', 'PMN', 'PP', 'PSC', 'PROS', 'PV', 'PCB', 'PMB', 'PCO', 'PSTU', 'PTB', 'PSL', 'PC do B', 'PTC', 'PSOL', 'PT', 'PSB', 'PATRIOTA', 'PSD', 'PDT', 'PRTB', 'PL', 'PODE', 'PSDB', 'PMN', 'PP', 'PSC', 'PROS', 'PV', 'PCB', 'PMB', 'PCO', 'PSTU', 'PTB', 'PSL', 'PC do B', 'PTC', 'PSOL', 'PT', 'PSB', 'PATRIOTA', 'PSD', 'PDT', 'PRTB', 'PL', 'PODE', 'PSDB', 'PMN', 'PP', 'PSC', 'PROS', 'PV', 'PCB', 'PMB', 'PCO', 'PSTU']\n",
      "\n",
      " Partidos letra indefinida:['DEM', 'DC', 'REPUBLICANOS', 'CIDADANIA', 'MDB', 'AVANTE', 'REDE', 'SOLIDARIEDADE', 'UP', 'NOVO', 'DEM', 'DC', 'REPUBLICANOS', 'CIDADANIA', 'MDB', 'AVANTE', 'REDE', 'SOLIDARIEDADE', 'UP', 'NOVO', 'DEM', 'DC', 'REPUBLICANOS', 'CIDADANIA', 'MDB', 'AVANTE', 'REDE', 'SOLIDARIEDADE', 'UP', 'NOVO', 'DEM', 'DC', 'REPUBLICANOS', 'CIDADANIA', 'MDB', 'AVANTE', 'REDE', 'SOLIDARIEDADE', 'UP', 'NOVO', 'DEM', 'DC', 'REPUBLICANOS', 'CIDADANIA', 'MDB', 'AVANTE', 'REDE', 'SOLIDARIEDADE', 'UP', 'NOVO', 'DEM', 'DC', 'REPUBLICANOS', 'CIDADANIA', 'MDB', 'AVANTE', 'REDE', 'SOLIDARIEDADE', 'UP', 'NOVO', 'DEM', 'DC', 'REPUBLICANOS', 'CIDADANIA', 'MDB', 'AVANTE', 'REDE', 'SOLIDARIEDADE', 'UP', 'NOVO', 'DEM', 'DC', 'REPUBLICANOS', 'CIDADANIA', 'MDB', 'AVANTE', 'REDE', 'SOLIDARIEDADE', 'UP', 'NOVO', 'DEM', 'DC', 'REPUBLICANOS', 'CIDADANIA', 'MDB', 'AVANTE', 'REDE', 'SOLIDARIEDADE', 'UP', 'NOVO']\n"
     ]
    }
   ],
   "source": [
    "for sigla in sg_partido:\n",
    "    if sigla[0] == 'P':\n",
    "        sg_partido_letra_p.append(sigla)\n",
    "    else:\n",
    "        sg_partido_letra_indefinida.append(sigla)\n",
    "else:\n",
    "    print('Atividade concluída\\n')\n",
    "    print(f'Partidos letra \"P\": {sg_partido_letra_p}\\n\\n \\\n",
    "Partidos letra indefinida:{sg_partido_letra_indefinida}')\n",
    "    "
   ]
  },
  {
   "cell_type": "markdown",
   "id": "d5d24373",
   "metadata": {},
   "source": [
    "#### Dicionários {:}"
   ]
  },
  {
   "cell_type": "code",
   "execution_count": 27,
   "id": "dfc3973b",
   "metadata": {},
   "outputs": [],
   "source": [
    "candidaturas = [{'DT_GERACAO': '22/05/2021',\n",
    "  'HH_GERACAO': '12:18:46',\n",
    "  'ANO_ELEICAO': 2020,\n",
    "  'CD_TIPO_ELEICAO': 2,\n",
    "  'NM_TIPO_ELEICAO': 'ELEIÇÃO ORDINÁRIA',\n",
    "  'NR_TURNO': 1,\n",
    "  'CD_ELEICAO': 426,\n",
    "  'DS_ELEICAO': 'Eleições Municipais 2020',\n",
    "  'DT_ELEICAO': '15/11/2020',\n",
    "  'TP_ABRANGENCIA': 'MUNICIPAL',\n",
    "  'SG_UF': 'PE',\n",
    "  'SG_UE': 25216,\n",
    "  'NM_UE': 'PETROLINA',\n",
    "  'CD_CARGO': 13,\n",
    "  'DS_CARGO': 'VEREADOR',\n",
    "  'SQ_CANDIDATO': 170000824939,\n",
    "  'NR_CANDIDATO': 25100,\n",
    "  'NM_CANDIDATO': 'DANIELA TAMARA SANTOS SILVA',\n",
    "  'NM_URNA_CANDIDATO': 'DANI PLUS',\n",
    "  'NM_SOCIAL_CANDIDATO': '#NULO#',\n",
    "  'NR_CPF_CANDIDATO': 4670632493,\n",
    "  'NM_EMAIL': 'DANIELE.SEDESDH@GMAIL.COM',\n",
    "  'CD_SITUACAO_CANDIDATURA': 12,\n",
    "  'DS_SITUACAO_CANDIDATURA': 'APTO',\n",
    "  'CD_DETALHE_SITUACAO_CAND': 2,\n",
    "  'DS_DETALHE_SITUACAO_CAND': 'DEFERIDO',\n",
    "  'TP_AGREMIACAO': 'PARTIDO ISOLADO',\n",
    "  'NR_PARTIDO': 25,\n",
    "  'SG_PARTIDO': 'DEM',\n",
    "  'NM_PARTIDO': 'DEMOCRATAS',\n",
    "  'SQ_COLIGACAO': 170000086526,\n",
    "  'NM_COLIGACAO': 'PARTIDO ISOLADO',\n",
    "  'DS_COMPOSICAO_COLIGACAO': 'DEM',\n",
    "  'CD_NACIONALIDADE': 1,\n",
    "  'DS_NACIONALIDADE': 'BRASILEIRA NATA',\n",
    "  'SG_UF_NASCIMENTO': 'BA',\n",
    "  'CD_MUNICIPIO_NASCIMENTO': -3,\n",
    "  'NM_MUNICIPIO_NASCIMENTO': 'JUAZEIRO',\n",
    "  'DT_NASCIMENTO': '01/05/1981',\n",
    "  'NR_IDADE_DATA_POSSE': 39,\n",
    "  'NR_TITULO_ELEITORAL_CANDIDATO': 53652250884,\n",
    "  'CD_GENERO': 4,\n",
    "  'DS_GENERO': 'FEMININO',\n",
    "  'CD_GRAU_INSTRUCAO': 7,\n",
    "  'DS_GRAU_INSTRUCAO': 'SUPERIOR INCOMPLETO',\n",
    "  'CD_ESTADO_CIVIL': 1,\n",
    "  'DS_ESTADO_CIVIL': 'SOLTEIRO(A)',\n",
    "  'CD_COR_RACA': 2,\n",
    "  'DS_COR_RACA': 'PRETA',\n",
    "  'CD_OCUPACAO': 931,\n",
    "  'DS_OCUPACAO': 'ESTUDANTE, BOLSISTA, ESTAGIÁRIO E ASSEMELHADOS',\n",
    "  'VR_DESPESA_MAX_CAMPANHA': 131218.52,\n",
    "  'CD_SIT_TOT_TURNO': 5,\n",
    "  'DS_SIT_TOT_TURNO': 'SUPLENTE',\n",
    "  'ST_REELEICAO': 'N',\n",
    "  'ST_DECLARAR_BENS': 'N',\n",
    "  'NR_PROTOCOLO_CANDIDATURA': -1,\n",
    "  'NR_PROCESSO': 6002695420206170083,\n",
    "  'CD_SITUACAO_CANDIDATO_PLEITO': 2,\n",
    "  'DS_SITUACAO_CANDIDATO_PLEITO': 'DEFERIDO',\n",
    "  'CD_SITUACAO_CANDIDATO_URNA': 2,\n",
    "  'DS_SITUACAO_CANDIDATO_URNA': 'DEFERIDO',\n",
    "  'ST_CANDIDATO_INSERIDO_URNA': 'SIM'},\n",
    " {'DT_GERACAO': '22/05/2021',\n",
    "  'HH_GERACAO': '12:18:46',\n",
    "  'ANO_ELEICAO': 2020,\n",
    "  'CD_TIPO_ELEICAO': 2,\n",
    "  'NM_TIPO_ELEICAO': 'ELEIÇÃO ORDINÁRIA',\n",
    "  'NR_TURNO': 1,\n",
    "  'CD_ELEICAO': 426,\n",
    "  'DS_ELEICAO': 'Eleições Municipais 2020',\n",
    "  'DT_ELEICAO': '15/11/2020',\n",
    "  'TP_ABRANGENCIA': 'MUNICIPAL',\n",
    "  'SG_UF': 'PE',\n",
    "  'SG_UE': 26310,\n",
    "  'NM_UE': 'ABREU E LIMA',\n",
    "  'CD_CARGO': 13,\n",
    "  'DS_CARGO': 'VEREADOR',\n",
    "  'SQ_CANDIDATO': 170001246990,\n",
    "  'NR_CANDIDATO': 27777,\n",
    "  'NM_CANDIDATO': 'SEVERINO ALVES DA SILVA FILHO',\n",
    "  'NM_URNA_CANDIDATO': 'SILVIO',\n",
    "  'NM_SOCIAL_CANDIDATO': '#NULO#',\n",
    "  'NR_CPF_CANDIDATO': 17986117400,\n",
    "  'NM_EMAIL': 'FENAMUDANCA01@GMAIL.COM',\n",
    "  'CD_SITUACAO_CANDIDATURA': 12,\n",
    "  'DS_SITUACAO_CANDIDATURA': 'APTO',\n",
    "  'CD_DETALHE_SITUACAO_CAND': 2,\n",
    "  'DS_DETALHE_SITUACAO_CAND': 'DEFERIDO',\n",
    "  'TP_AGREMIACAO': 'PARTIDO ISOLADO',\n",
    "  'NR_PARTIDO': 27,\n",
    "  'SG_PARTIDO': 'DC',\n",
    "  'NM_PARTIDO': 'DEMOCRACIA CRISTÃ',\n",
    "  'SQ_COLIGACAO': 170000154616,\n",
    "  'NM_COLIGACAO': 'PARTIDO ISOLADO',\n",
    "  'DS_COMPOSICAO_COLIGACAO': 'DC',\n",
    "  'CD_NACIONALIDADE': 1,\n",
    "  'DS_NACIONALIDADE': 'BRASILEIRA NATA',\n",
    "  'SG_UF_NASCIMENTO': 'RJ',\n",
    "  'CD_MUNICIPIO_NASCIMENTO': -3,\n",
    "  'NM_MUNICIPIO_NASCIMENTO': 'RIO DE JANEIRO',\n",
    "  'DT_NASCIMENTO': '25/09/1956',\n",
    "  'NR_IDADE_DATA_POSSE': 64,\n",
    "  'NR_TITULO_ELEITORAL_CANDIDATO': 11232980868,\n",
    "  'CD_GENERO': 2,\n",
    "  'DS_GENERO': 'MASCULINO',\n",
    "  'CD_GRAU_INSTRUCAO': 3,\n",
    "  'DS_GRAU_INSTRUCAO': 'ENSINO FUNDAMENTAL INCOMPLETO',\n",
    "  'CD_ESTADO_CIVIL': 5,\n",
    "  'DS_ESTADO_CIVIL': 'VIÚVO(A)',\n",
    "  'CD_COR_RACA': 3,\n",
    "  'DS_COR_RACA': 'PARDA',\n",
    "  'CD_OCUPACAO': 246,\n",
    "  'DS_OCUPACAO': 'TÉCNICO DE OBRAS CIVIS, ESTRADAS, SANEAMENTO E ASSEMELHADOS',\n",
    "  'VR_DESPESA_MAX_CAMPANHA': 28533.15,\n",
    "  'CD_SIT_TOT_TURNO': 4,\n",
    "  'DS_SIT_TOT_TURNO': 'NÃO ELEITO',\n",
    "  'ST_REELEICAO': 'N',\n",
    "  'ST_DECLARAR_BENS': 'S',\n",
    "  'NR_PROTOCOLO_CANDIDATURA': -1,\n",
    "  'NR_PROCESSO': 6003620620206170119,\n",
    "  'CD_SITUACAO_CANDIDATO_PLEITO': 2,\n",
    "  'DS_SITUACAO_CANDIDATO_PLEITO': 'DEFERIDO',\n",
    "  'CD_SITUACAO_CANDIDATO_URNA': 2,\n",
    "  'DS_SITUACAO_CANDIDATO_URNA': 'DEFERIDO',\n",
    "  'ST_CANDIDATO_INSERIDO_URNA': 'SIM'},\n",
    " {'DT_GERACAO': '22/05/2021',\n",
    "  'HH_GERACAO': '12:18:46',\n",
    "  'ANO_ELEICAO': 2020,\n",
    "  'CD_TIPO_ELEICAO': 2,\n",
    "  'NM_TIPO_ELEICAO': 'ELEIÇÃO ORDINÁRIA',\n",
    "  'NR_TURNO': 1,\n",
    "  'CD_ELEICAO': 426,\n",
    "  'DS_ELEICAO': 'Eleições Municipais 2020',\n",
    "  'DT_ELEICAO': '15/11/2020',\n",
    "  'TP_ABRANGENCIA': 'MUNICIPAL',\n",
    "  'SG_UF': 'PE',\n",
    "  'SG_UE': 23086,\n",
    "  'NM_UE': 'VERTENTE DO LÉRIO',\n",
    "  'CD_CARGO': 13,\n",
    "  'DS_CARGO': 'VEREADOR',\n",
    "  'SQ_CANDIDATO': 170000971541,\n",
    "  'NR_CANDIDATO': 14555,\n",
    "  'NM_CANDIDATO': 'SEVERINO DA SILVA NASCIMENTO',\n",
    "  'NM_URNA_CANDIDATO': 'SEVERINO DO POVO',\n",
    "  'NM_SOCIAL_CANDIDATO': '#NULO#',\n",
    "  'NR_CPF_CANDIDATO': 2541370407,\n",
    "  'NM_EMAIL': 'JOSILEAL@BOL.COM.BR',\n",
    "  'CD_SITUACAO_CANDIDATURA': 12,\n",
    "  'DS_SITUACAO_CANDIDATURA': 'APTO',\n",
    "  'CD_DETALHE_SITUACAO_CAND': 2,\n",
    "  'DS_DETALHE_SITUACAO_CAND': 'DEFERIDO',\n",
    "  'TP_AGREMIACAO': 'PARTIDO ISOLADO',\n",
    "  'NR_PARTIDO': 14,\n",
    "  'SG_PARTIDO': 'PTB',\n",
    "  'NM_PARTIDO': 'PARTIDO TRABALHISTA BRASILEIRO',\n",
    "  'SQ_COLIGACAO': 170000113103,\n",
    "  'NM_COLIGACAO': 'PARTIDO ISOLADO',\n",
    "  'DS_COMPOSICAO_COLIGACAO': 'PTB',\n",
    "  'CD_NACIONALIDADE': 1,\n",
    "  'DS_NACIONALIDADE': 'BRASILEIRA NATA',\n",
    "  'SG_UF_NASCIMENTO': 'PE',\n",
    "  'CD_MUNICIPIO_NASCIMENTO': -3,\n",
    "  'NM_MUNICIPIO_NASCIMENTO': 'VERTENTE DO LÉRIO',\n",
    "  'DT_NASCIMENTO': '10/12/1976',\n",
    "  'NR_IDADE_DATA_POSSE': 44,\n",
    "  'NR_TITULO_ELEITORAL_CANDIDATO': 48234550892,\n",
    "  'CD_GENERO': 2,\n",
    "  'DS_GENERO': 'MASCULINO',\n",
    "  'CD_GRAU_INSTRUCAO': 4,\n",
    "  'DS_GRAU_INSTRUCAO': 'ENSINO FUNDAMENTAL COMPLETO',\n",
    "  'CD_ESTADO_CIVIL': 3,\n",
    "  'DS_ESTADO_CIVIL': 'CASADO(A)',\n",
    "  'CD_COR_RACA': 3,\n",
    "  'DS_COR_RACA': 'PARDA',\n",
    "  'CD_OCUPACAO': 999,\n",
    "  'DS_OCUPACAO': 'OUTROS',\n",
    "  'VR_DESPESA_MAX_CAMPANHA': 12307.75,\n",
    "  'CD_SIT_TOT_TURNO': 2,\n",
    "  'DS_SIT_TOT_TURNO': 'ELEITO POR QP',\n",
    "  'ST_REELEICAO': 'N',\n",
    "  'ST_DECLARAR_BENS': 'S',\n",
    "  'NR_PROTOCOLO_CANDIDATURA': -1,\n",
    "  'NR_PROCESSO': 6002560820206170034,\n",
    "  'CD_SITUACAO_CANDIDATO_PLEITO': 2,\n",
    "  'DS_SITUACAO_CANDIDATO_PLEITO': 'DEFERIDO',\n",
    "  'CD_SITUACAO_CANDIDATO_URNA': 2,\n",
    "  'DS_SITUACAO_CANDIDATO_URNA': 'DEFERIDO',\n",
    "  'ST_CANDIDATO_INSERIDO_URNA': 'SIM'},\n",
    " {'DT_GERACAO': '22/05/2021',\n",
    "  'HH_GERACAO': '12:18:46',\n",
    "  'ANO_ELEICAO': 2020,\n",
    "  'CD_TIPO_ELEICAO': 2,\n",
    "  'NM_TIPO_ELEICAO': 'ELEIÇÃO ORDINÁRIA',\n",
    "  'NR_TURNO': 1,\n",
    "  'CD_ELEICAO': 426,\n",
    "  'DS_ELEICAO': 'Eleições Municipais 2020',\n",
    "  'DT_ELEICAO': '15/11/2020',\n",
    "  'TP_ABRANGENCIA': 'MUNICIPAL',\n",
    "  'SG_UF': 'PE',\n",
    "  'SG_UE': 24554,\n",
    "  'NM_UE': 'ITAQUITINGA',\n",
    "  'CD_CARGO': 13,\n",
    "  'DS_CARGO': 'VEREADOR',\n",
    "  'SQ_CANDIDATO': 170000990967,\n",
    "  'NR_CANDIDATO': 10456,\n",
    "  'NM_CANDIDATO': 'MARTA MARIA LEMOS DA SILVA',\n",
    "  'NM_URNA_CANDIDATO': 'MARTA LEMOS',\n",
    "  'NM_SOCIAL_CANDIDATO': '#NULO#',\n",
    "  'NR_CPF_CANDIDATO': 42672481415,\n",
    "  'NM_EMAIL': 'LUANMARTINSCASTRO@GMAIL.COM',\n",
    "  'CD_SITUACAO_CANDIDATURA': 12,\n",
    "  'DS_SITUACAO_CANDIDATURA': 'APTO',\n",
    "  'CD_DETALHE_SITUACAO_CAND': 2,\n",
    "  'DS_DETALHE_SITUACAO_CAND': 'DEFERIDO',\n",
    "  'TP_AGREMIACAO': 'PARTIDO ISOLADO',\n",
    "  'NR_PARTIDO': 10,\n",
    "  'SG_PARTIDO': 'REPUBLICANOS',\n",
    "  'NM_PARTIDO': 'REPUBLICANOS',\n",
    "  'SQ_COLIGACAO': 170000116162,\n",
    "  'NM_COLIGACAO': 'PARTIDO ISOLADO',\n",
    "  'DS_COMPOSICAO_COLIGACAO': 'REPUBLICANOS',\n",
    "  'CD_NACIONALIDADE': 1,\n",
    "  'DS_NACIONALIDADE': 'BRASILEIRA NATA',\n",
    "  'SG_UF_NASCIMENTO': 'PE',\n",
    "  'CD_MUNICIPIO_NASCIMENTO': -3,\n",
    "  'NM_MUNICIPIO_NASCIMENTO': 'GOIANA',\n",
    "  'DT_NASCIMENTO': '07/09/1957',\n",
    "  'NR_IDADE_DATA_POSSE': 63,\n",
    "  'NR_TITULO_ELEITORAL_CANDIDATO': 34202470817,\n",
    "  'CD_GENERO': 4,\n",
    "  'DS_GENERO': 'FEMININO',\n",
    "  'CD_GRAU_INSTRUCAO': 6,\n",
    "  'DS_GRAU_INSTRUCAO': 'ENSINO MÉDIO COMPLETO',\n",
    "  'CD_ESTADO_CIVIL': 3,\n",
    "  'DS_ESTADO_CIVIL': 'CASADO(A)',\n",
    "  'CD_COR_RACA': 1,\n",
    "  'DS_COR_RACA': 'BRANCA',\n",
    "  'CD_OCUPACAO': 999,\n",
    "  'DS_OCUPACAO': 'OUTROS',\n",
    "  'VR_DESPESA_MAX_CAMPANHA': 12307.75,\n",
    "  'CD_SIT_TOT_TURNO': 5,\n",
    "  'DS_SIT_TOT_TURNO': 'SUPLENTE',\n",
    "  'ST_REELEICAO': 'N',\n",
    "  'ST_DECLARAR_BENS': 'S',\n",
    "  'NR_PROTOCOLO_CANDIDATURA': -1,\n",
    "  'NR_PROCESSO': 6003827620206170125,\n",
    "  'CD_SITUACAO_CANDIDATO_PLEITO': 2,\n",
    "  'DS_SITUACAO_CANDIDATO_PLEITO': 'DEFERIDO',\n",
    "  'CD_SITUACAO_CANDIDATO_URNA': 2,\n",
    "  'DS_SITUACAO_CANDIDATO_URNA': 'DEFERIDO',\n",
    "  'ST_CANDIDATO_INSERIDO_URNA': 'SIM'},\n",
    " {'DT_GERACAO': '22/05/2021',\n",
    "  'HH_GERACAO': '12:18:46',\n",
    "  'ANO_ELEICAO': 2020,\n",
    "  'CD_TIPO_ELEICAO': 2,\n",
    "  'NM_TIPO_ELEICAO': 'ELEIÇÃO ORDINÁRIA',\n",
    "  'NR_TURNO': 1,\n",
    "  'CD_ELEICAO': 426,\n",
    "  'DS_ELEICAO': 'Eleições Municipais 2020',\n",
    "  'DT_ELEICAO': '15/11/2020',\n",
    "  'TP_ABRANGENCIA': 'MUNICIPAL',\n",
    "  'SG_UF': 'PE',\n",
    "  'SG_UE': 23264,\n",
    "  'NM_UE': 'JATOBÁ',\n",
    "  'CD_CARGO': 13,\n",
    "  'DS_CARGO': 'VEREADOR',\n",
    "  'SQ_CANDIDATO': 170000657782,\n",
    "  'NR_CANDIDATO': 17777,\n",
    "  'NM_CANDIDATO': 'SEBASTIÃO DA COSTA COELHO',\n",
    "  'NM_URNA_CANDIDATO': 'SEBASTIÃO COSTA',\n",
    "  'NM_SOCIAL_CANDIDATO': '#NULO#',\n",
    "  'NR_CPF_CANDIDATO': 13521691420,\n",
    "  'NM_EMAIL': 'PSLJATOBA17@GMAIL.COM',\n",
    "  'CD_SITUACAO_CANDIDATURA': 12,\n",
    "  'DS_SITUACAO_CANDIDATURA': 'APTO',\n",
    "  'CD_DETALHE_SITUACAO_CAND': 2,\n",
    "  'DS_DETALHE_SITUACAO_CAND': 'DEFERIDO',\n",
    "  'TP_AGREMIACAO': 'PARTIDO ISOLADO',\n",
    "  'NR_PARTIDO': 17,\n",
    "  'SG_PARTIDO': 'PSL',\n",
    "  'NM_PARTIDO': 'PARTIDO SOCIAL LIBERAL',\n",
    "  'SQ_COLIGACAO': 170000058640,\n",
    "  'NM_COLIGACAO': 'PARTIDO ISOLADO',\n",
    "  'DS_COMPOSICAO_COLIGACAO': 'PSL',\n",
    "  'CD_NACIONALIDADE': 1,\n",
    "  'DS_NACIONALIDADE': 'BRASILEIRA NATA',\n",
    "  'SG_UF_NASCIMENTO': 'PE',\n",
    "  'CD_MUNICIPIO_NASCIMENTO': -3,\n",
    "  'NM_MUNICIPIO_NASCIMENTO': 'PETROLÂNDIA',\n",
    "  'DT_NASCIMENTO': '22/01/1953',\n",
    "  'NR_IDADE_DATA_POSSE': 67,\n",
    "  'NR_TITULO_ELEITORAL_CANDIDATO': 20067470809,\n",
    "  'CD_GENERO': 2,\n",
    "  'DS_GENERO': 'MASCULINO',\n",
    "  'CD_GRAU_INSTRUCAO': 6,\n",
    "  'DS_GRAU_INSTRUCAO': 'ENSINO MÉDIO COMPLETO',\n",
    "  'CD_ESTADO_CIVIL': 3,\n",
    "  'DS_ESTADO_CIVIL': 'CASADO(A)',\n",
    "  'CD_COR_RACA': 1,\n",
    "  'DS_COR_RACA': 'BRANCA',\n",
    "  'CD_OCUPACAO': 923,\n",
    "  'DS_OCUPACAO': 'APOSENTADO (EXCETO SERVIDOR PÚBLICO)',\n",
    "  'VR_DESPESA_MAX_CAMPANHA': 12307.75,\n",
    "  'CD_SIT_TOT_TURNO': 4,\n",
    "  'DS_SIT_TOT_TURNO': 'NÃO ELEITO',\n",
    "  'ST_REELEICAO': 'N',\n",
    "  'ST_DECLARAR_BENS': 'S',\n",
    "  'NR_PROTOCOLO_CANDIDATURA': -1,\n",
    "  'NR_PROCESSO': 6000476820206170089,\n",
    "  'CD_SITUACAO_CANDIDATO_PLEITO': 2,\n",
    "  'DS_SITUACAO_CANDIDATO_PLEITO': 'DEFERIDO',\n",
    "  'CD_SITUACAO_CANDIDATO_URNA': 2,\n",
    "  'DS_SITUACAO_CANDIDATO_URNA': 'DEFERIDO',\n",
    "  'ST_CANDIDATO_INSERIDO_URNA': 'SIM'},\n",
    " {'DT_GERACAO': '22/05/2021',\n",
    "  'HH_GERACAO': '12:18:46',\n",
    "  'ANO_ELEICAO': 2020,\n",
    "  'CD_TIPO_ELEICAO': 2,\n",
    "  'NM_TIPO_ELEICAO': 'ELEIÇÃO ORDINÁRIA',\n",
    "  'NR_TURNO': 1,\n",
    "  'CD_ELEICAO': 426,\n",
    "  'DS_ELEICAO': 'Eleições Municipais 2020',\n",
    "  'DT_ELEICAO': '15/11/2020',\n",
    "  'TP_ABRANGENCIA': 'MUNICIPAL',\n",
    "  'SG_UF': 'PE',\n",
    "  'SG_UE': 25216,\n",
    "  'NM_UE': 'PETROLINA',\n",
    "  'CD_CARGO': 13,\n",
    "  'DS_CARGO': 'VEREADOR',\n",
    "  'SQ_CANDIDATO': 170001179423,\n",
    "  'NR_CANDIDATO': 17222,\n",
    "  'NM_CANDIDATO': 'DÁRIO CÉSAR MOREIRA',\n",
    "  'NM_URNA_CANDIDATO': 'DÁRIO MORORÓ',\n",
    "  'NM_SOCIAL_CANDIDATO': '#NULO#',\n",
    "  'NR_CPF_CANDIDATO': 7141808400,\n",
    "  'NM_EMAIL': 'DARIOMORORO@GMAIL.COM',\n",
    "  'CD_SITUACAO_CANDIDATURA': 12,\n",
    "  'DS_SITUACAO_CANDIDATURA': 'APTO',\n",
    "  'CD_DETALHE_SITUACAO_CAND': 2,\n",
    "  'DS_DETALHE_SITUACAO_CAND': 'DEFERIDO',\n",
    "  'TP_AGREMIACAO': 'PARTIDO ISOLADO',\n",
    "  'NR_PARTIDO': 17,\n",
    "  'SG_PARTIDO': 'PSL',\n",
    "  'NM_PARTIDO': 'PARTIDO SOCIAL LIBERAL',\n",
    "  'SQ_COLIGACAO': 170000145155,\n",
    "  'NM_COLIGACAO': 'PARTIDO ISOLADO',\n",
    "  'DS_COMPOSICAO_COLIGACAO': 'PSL',\n",
    "  'CD_NACIONALIDADE': 1,\n",
    "  'DS_NACIONALIDADE': 'BRASILEIRA NATA',\n",
    "  'SG_UF_NASCIMENTO': 'PE',\n",
    "  'CD_MUNICIPIO_NASCIMENTO': -3,\n",
    "  'NM_MUNICIPIO_NASCIMENTO': 'SERRA TALHADA',\n",
    "  'DT_NASCIMENTO': '27/09/1989',\n",
    "  'NR_IDADE_DATA_POSSE': 31,\n",
    "  'NR_TITULO_ELEITORAL_CANDIDATO': 74125090850,\n",
    "  'CD_GENERO': 2,\n",
    "  'DS_GENERO': 'MASCULINO',\n",
    "  'CD_GRAU_INSTRUCAO': 6,\n",
    "  'DS_GRAU_INSTRUCAO': 'ENSINO MÉDIO COMPLETO',\n",
    "  'CD_ESTADO_CIVIL': 3,\n",
    "  'DS_ESTADO_CIVIL': 'CASADO(A)',\n",
    "  'CD_COR_RACA': 3,\n",
    "  'DS_COR_RACA': 'PARDA',\n",
    "  'CD_OCUPACAO': 601,\n",
    "  'DS_OCUPACAO': 'AGRICULTOR',\n",
    "  'VR_DESPESA_MAX_CAMPANHA': 131218.52,\n",
    "  'CD_SIT_TOT_TURNO': 4,\n",
    "  'DS_SIT_TOT_TURNO': 'NÃO ELEITO',\n",
    "  'ST_REELEICAO': 'N',\n",
    "  'ST_DECLARAR_BENS': 'S',\n",
    "  'NR_PROTOCOLO_CANDIDATURA': -1,\n",
    "  'NR_PROCESSO': 6004176520206170083,\n",
    "  'CD_SITUACAO_CANDIDATO_PLEITO': 2,\n",
    "  'DS_SITUACAO_CANDIDATO_PLEITO': 'DEFERIDO',\n",
    "  'CD_SITUACAO_CANDIDATO_URNA': 2,\n",
    "  'DS_SITUACAO_CANDIDATO_URNA': 'DEFERIDO',\n",
    "  'ST_CANDIDATO_INSERIDO_URNA': 'SIM'},\n",
    " {'DT_GERACAO': '22/05/2021',\n",
    "  'HH_GERACAO': '12:18:46',\n",
    "  'ANO_ELEICAO': 2020,\n",
    "  'CD_TIPO_ELEICAO': 2,\n",
    "  'NM_TIPO_ELEICAO': 'ELEIÇÃO ORDINÁRIA',\n",
    "  'NR_TURNO': 1,\n",
    "  'CD_ELEICAO': 426,\n",
    "  'DS_ELEICAO': 'Eleições Municipais 2020',\n",
    "  'DT_ELEICAO': '15/11/2020',\n",
    "  'TP_ABRANGENCIA': 'MUNICIPAL',\n",
    "  'SG_UF': 'PE',\n",
    "  'SG_UE': 24350,\n",
    "  'NM_UE': 'IGARASSU',\n",
    "  'CD_CARGO': 13,\n",
    "  'DS_CARGO': 'VEREADOR',\n",
    "  'SQ_CANDIDATO': 170000944712,\n",
    "  'NR_CANDIDATO': 65455,\n",
    "  'NM_CANDIDATO': 'COSME CORDEIRO PAULINO',\n",
    "  'NM_URNA_CANDIDATO': 'COSME DOS MARCOS',\n",
    "  'NM_SOCIAL_CANDIDATO': '#NULO#',\n",
    "  'NR_CPF_CANDIDATO': 59259310415,\n",
    "  'NM_EMAIL': 'RCBUARQUE@GMAIL.COM',\n",
    "  'CD_SITUACAO_CANDIDATURA': 12,\n",
    "  'DS_SITUACAO_CANDIDATURA': 'APTO',\n",
    "  'CD_DETALHE_SITUACAO_CAND': 2,\n",
    "  'DS_DETALHE_SITUACAO_CAND': 'DEFERIDO',\n",
    "  'TP_AGREMIACAO': 'PARTIDO ISOLADO',\n",
    "  'NR_PARTIDO': 65,\n",
    "  'SG_PARTIDO': 'PC do B',\n",
    "  'NM_PARTIDO': 'PARTIDO COMUNISTA DO BRASIL',\n",
    "  'SQ_COLIGACAO': 170000109245,\n",
    "  'NM_COLIGACAO': 'PARTIDO ISOLADO',\n",
    "  'DS_COMPOSICAO_COLIGACAO': 'PC do B',\n",
    "  'CD_NACIONALIDADE': 1,\n",
    "  'DS_NACIONALIDADE': 'BRASILEIRA NATA',\n",
    "  'SG_UF_NASCIMENTO': 'PE',\n",
    "  'CD_MUNICIPIO_NASCIMENTO': -3,\n",
    "  'NM_MUNICIPIO_NASCIMENTO': 'IGARASSU',\n",
    "  'DT_NASCIMENTO': '27/07/1964',\n",
    "  'NR_IDADE_DATA_POSSE': 56,\n",
    "  'NR_TITULO_ELEITORAL_CANDIDATO': 23349670809,\n",
    "  'CD_GENERO': 2,\n",
    "  'DS_GENERO': 'MASCULINO',\n",
    "  'CD_GRAU_INSTRUCAO': 4,\n",
    "  'DS_GRAU_INSTRUCAO': 'ENSINO FUNDAMENTAL COMPLETO',\n",
    "  'CD_ESTADO_CIVIL': 3,\n",
    "  'DS_ESTADO_CIVIL': 'CASADO(A)',\n",
    "  'CD_COR_RACA': 3,\n",
    "  'DS_COR_RACA': 'PARDA',\n",
    "  'CD_OCUPACAO': 169,\n",
    "  'DS_OCUPACAO': 'COMERCIANTE',\n",
    "  'VR_DESPESA_MAX_CAMPANHA': 39466.41,\n",
    "  'CD_SIT_TOT_TURNO': 5,\n",
    "  'DS_SIT_TOT_TURNO': 'SUPLENTE',\n",
    "  'ST_REELEICAO': 'N',\n",
    "  'ST_DECLARAR_BENS': 'S',\n",
    "  'NR_PROTOCOLO_CANDIDATURA': -1,\n",
    "  'NR_PROCESSO': 6002772520206170085,\n",
    "  'CD_SITUACAO_CANDIDATO_PLEITO': 2,\n",
    "  'DS_SITUACAO_CANDIDATO_PLEITO': 'DEFERIDO',\n",
    "  'CD_SITUACAO_CANDIDATO_URNA': 2,\n",
    "  'DS_SITUACAO_CANDIDATO_URNA': 'DEFERIDO',\n",
    "  'ST_CANDIDATO_INSERIDO_URNA': 'SIM'},\n",
    " {'DT_GERACAO': '22/05/2021',\n",
    "  'HH_GERACAO': '12:18:46',\n",
    "  'ANO_ELEICAO': 2020,\n",
    "  'CD_TIPO_ELEICAO': 2,\n",
    "  'NM_TIPO_ELEICAO': 'ELEIÇÃO ORDINÁRIA',\n",
    "  'NR_TURNO': 1,\n",
    "  'CD_ELEICAO': 426,\n",
    "  'DS_ELEICAO': 'Eleições Municipais 2020',\n",
    "  'DT_ELEICAO': '15/11/2020',\n",
    "  'TP_ABRANGENCIA': 'MUNICIPAL',\n",
    "  'SG_UF': 'PE',\n",
    "  'SG_UE': 25615,\n",
    "  'NM_UE': 'SÃO CAITANO',\n",
    "  'CD_CARGO': 13,\n",
    "  'DS_CARGO': 'VEREADOR',\n",
    "  'SQ_CANDIDATO': 170000828281,\n",
    "  'NR_CANDIDATO': 17888,\n",
    "  'NM_CANDIDATO': 'SEVERINO VIEIRA RAMOS NETO',\n",
    "  'NM_URNA_CANDIDATO': 'NETO RAMOS',\n",
    "  'NM_SOCIAL_CANDIDATO': '#NULO#',\n",
    "  'NR_CPF_CANDIDATO': 4198870403,\n",
    "  'NM_EMAIL': 'ANDREDIREITOS@HOTMAIL.COM',\n",
    "  'CD_SITUACAO_CANDIDATURA': 12,\n",
    "  'DS_SITUACAO_CANDIDATURA': 'APTO',\n",
    "  'CD_DETALHE_SITUACAO_CAND': 2,\n",
    "  'DS_DETALHE_SITUACAO_CAND': 'DEFERIDO',\n",
    "  'TP_AGREMIACAO': 'PARTIDO ISOLADO',\n",
    "  'NR_PARTIDO': 17,\n",
    "  'SG_PARTIDO': 'PSL',\n",
    "  'NM_PARTIDO': 'PARTIDO SOCIAL LIBERAL',\n",
    "  'SQ_COLIGACAO': 170000087156,\n",
    "  'NM_COLIGACAO': 'PARTIDO ISOLADO',\n",
    "  'DS_COMPOSICAO_COLIGACAO': 'PSL',\n",
    "  'CD_NACIONALIDADE': 1,\n",
    "  'DS_NACIONALIDADE': 'BRASILEIRA NATA',\n",
    "  'SG_UF_NASCIMENTO': 'PE',\n",
    "  'CD_MUNICIPIO_NASCIMENTO': -3,\n",
    "  'NM_MUNICIPIO_NASCIMENTO': 'BELO JARDIM',\n",
    "  'DT_NASCIMENTO': '19/05/1983',\n",
    "  'NR_IDADE_DATA_POSSE': 37,\n",
    "  'NR_TITULO_ELEITORAL_CANDIDATO': 61604600876,\n",
    "  'CD_GENERO': 2,\n",
    "  'DS_GENERO': 'MASCULINO',\n",
    "  'CD_GRAU_INSTRUCAO': 5,\n",
    "  'DS_GRAU_INSTRUCAO': 'ENSINO MÉDIO INCOMPLETO',\n",
    "  'CD_ESTADO_CIVIL': 3,\n",
    "  'DS_ESTADO_CIVIL': 'CASADO(A)',\n",
    "  'CD_COR_RACA': 3,\n",
    "  'DS_COR_RACA': 'PARDA',\n",
    "  'CD_OCUPACAO': 169,\n",
    "  'DS_OCUPACAO': 'COMERCIANTE',\n",
    "  'VR_DESPESA_MAX_CAMPANHA': 41468.76,\n",
    "  'CD_SIT_TOT_TURNO': 2,\n",
    "  'DS_SIT_TOT_TURNO': 'ELEITO POR QP',\n",
    "  'ST_REELEICAO': 'N',\n",
    "  'ST_DECLARAR_BENS': 'S',\n",
    "  'NR_PROTOCOLO_CANDIDATURA': -1,\n",
    "  'NR_PROCESSO': 6001960520206170044,\n",
    "  'CD_SITUACAO_CANDIDATO_PLEITO': 2,\n",
    "  'DS_SITUACAO_CANDIDATO_PLEITO': 'DEFERIDO',\n",
    "  'CD_SITUACAO_CANDIDATO_URNA': 2,\n",
    "  'DS_SITUACAO_CANDIDATO_URNA': 'DEFERIDO',\n",
    "  'ST_CANDIDATO_INSERIDO_URNA': 'SIM'},\n",
    " {'DT_GERACAO': '22/05/2021',\n",
    "  'HH_GERACAO': '12:18:46',\n",
    "  'ANO_ELEICAO': 2020,\n",
    "  'CD_TIPO_ELEICAO': 2,\n",
    "  'NM_TIPO_ELEICAO': 'ELEIÇÃO ORDINÁRIA',\n",
    "  'NR_TURNO': 1,\n",
    "  'CD_ELEICAO': 426,\n",
    "  'DS_ELEICAO': 'Eleições Municipais 2020',\n",
    "  'DT_ELEICAO': '15/11/2020',\n",
    "  'TP_ABRANGENCIA': 'MUNICIPAL',\n",
    "  'SG_UF': 'PE',\n",
    "  'SG_UE': 24910,\n",
    "  'NM_UE': 'OLINDA',\n",
    "  'CD_CARGO': 13,\n",
    "  'DS_CARGO': 'VEREADOR',\n",
    "  'SQ_CANDIDATO': 170000942736,\n",
    "  'NR_CANDIDATO': 27000,\n",
    "  'NM_CANDIDATO': 'BRUNA RAFAELLA DA SILVA FREITAS',\n",
    "  'NM_URNA_CANDIDATO': 'BRUNA FREITAS',\n",
    "  'NM_SOCIAL_CANDIDATO': '#NULO#',\n",
    "  'NR_CPF_CANDIDATO': 9906778423,\n",
    "  'NM_EMAIL': 'BRUNA.R.FREITAS@BOL.COM.BR',\n",
    "  'CD_SITUACAO_CANDIDATURA': 12,\n",
    "  'DS_SITUACAO_CANDIDATURA': 'APTO',\n",
    "  'CD_DETALHE_SITUACAO_CAND': 2,\n",
    "  'DS_DETALHE_SITUACAO_CAND': 'DEFERIDO',\n",
    "  'TP_AGREMIACAO': 'PARTIDO ISOLADO',\n",
    "  'NR_PARTIDO': 27,\n",
    "  'SG_PARTIDO': 'DC',\n",
    "  'NM_PARTIDO': 'DEMOCRACIA CRISTÃ',\n",
    "  'SQ_COLIGACAO': 170000108952,\n",
    "  'NM_COLIGACAO': 'PARTIDO ISOLADO',\n",
    "  'DS_COMPOSICAO_COLIGACAO': 'DC',\n",
    "  'CD_NACIONALIDADE': 1,\n",
    "  'DS_NACIONALIDADE': 'BRASILEIRA NATA',\n",
    "  'SG_UF_NASCIMENTO': 'PE',\n",
    "  'CD_MUNICIPIO_NASCIMENTO': -3,\n",
    "  'NM_MUNICIPIO_NASCIMENTO': 'MORENO',\n",
    "  'DT_NASCIMENTO': '28/08/1991',\n",
    "  'NR_IDADE_DATA_POSSE': 29,\n",
    "  'NR_TITULO_ELEITORAL_CANDIDATO': 81203280841,\n",
    "  'CD_GENERO': 4,\n",
    "  'DS_GENERO': 'FEMININO',\n",
    "  'CD_GRAU_INSTRUCAO': 6,\n",
    "  'DS_GRAU_INSTRUCAO': 'ENSINO MÉDIO COMPLETO',\n",
    "  'CD_ESTADO_CIVIL': 3,\n",
    "  'DS_ESTADO_CIVIL': 'CASADO(A)',\n",
    "  'CD_COR_RACA': 3,\n",
    "  'DS_COR_RACA': 'PARDA',\n",
    "  'CD_OCUPACAO': 999,\n",
    "  'DS_OCUPACAO': 'OUTROS',\n",
    "  'VR_DESPESA_MAX_CAMPANHA': 105385.98,\n",
    "  'CD_SIT_TOT_TURNO': 4,\n",
    "  'DS_SIT_TOT_TURNO': 'NÃO ELEITO',\n",
    "  'ST_REELEICAO': 'N',\n",
    "  'ST_DECLARAR_BENS': 'S',\n",
    "  'NR_PROTOCOLO_CANDIDATURA': -1,\n",
    "  'NR_PROCESSO': 6003347420206170010,\n",
    "  'CD_SITUACAO_CANDIDATO_PLEITO': 2,\n",
    "  'DS_SITUACAO_CANDIDATO_PLEITO': 'DEFERIDO',\n",
    "  'CD_SITUACAO_CANDIDATO_URNA': 2,\n",
    "  'DS_SITUACAO_CANDIDATO_URNA': 'DEFERIDO',\n",
    "  'ST_CANDIDATO_INSERIDO_URNA': 'SIM'},\n",
    " {'DT_GERACAO': '22/05/2021',\n",
    "  'HH_GERACAO': '12:18:46',\n",
    "  'ANO_ELEICAO': 2020,\n",
    "  'CD_TIPO_ELEICAO': 2,\n",
    "  'NM_TIPO_ELEICAO': 'ELEIÇÃO ORDINÁRIA',\n",
    "  'NR_TURNO': 1,\n",
    "  'CD_ELEICAO': 426,\n",
    "  'DS_ELEICAO': 'Eleições Municipais 2020',\n",
    "  'DT_ELEICAO': '15/11/2020',\n",
    "  'TP_ABRANGENCIA': 'MUNICIPAL',\n",
    "  'SG_UF': 'PE',\n",
    "  'SG_UE': 23795,\n",
    "  'NM_UE': 'CARPINA',\n",
    "  'CD_CARGO': 13,\n",
    "  'DS_CARGO': 'VEREADOR',\n",
    "  'SQ_CANDIDATO': 170001209832,\n",
    "  'NR_CANDIDATO': 36123,\n",
    "  'NM_CANDIDATO': 'MARIA MADALENA NASCIMENTO DE SOUSA',\n",
    "  'NM_URNA_CANDIDATO': 'IRMÃ MADALENA',\n",
    "  'NM_SOCIAL_CANDIDATO': '#NULO#',\n",
    "  'NR_CPF_CANDIDATO': 35870125472,\n",
    "  'NM_EMAIL': 'BETACRISS_42@HOTMAIL.COM',\n",
    "  'CD_SITUACAO_CANDIDATURA': 12,\n",
    "  'DS_SITUACAO_CANDIDATURA': 'APTO',\n",
    "  'CD_DETALHE_SITUACAO_CAND': 2,\n",
    "  'DS_DETALHE_SITUACAO_CAND': 'DEFERIDO',\n",
    "  'TP_AGREMIACAO': 'PARTIDO ISOLADO',\n",
    "  'NR_PARTIDO': 36,\n",
    "  'SG_PARTIDO': 'PTC',\n",
    "  'NM_PARTIDO': 'PARTIDO TRABALHISTA CRISTÃO',\n",
    "  'SQ_COLIGACAO': 170000148880,\n",
    "  'NM_COLIGACAO': 'PARTIDO ISOLADO',\n",
    "  'DS_COMPOSICAO_COLIGACAO': 'PTC',\n",
    "  'CD_NACIONALIDADE': 1,\n",
    "  'DS_NACIONALIDADE': 'BRASILEIRA NATA',\n",
    "  'SG_UF_NASCIMENTO': 'PE',\n",
    "  'CD_MUNICIPIO_NASCIMENTO': -3,\n",
    "  'NM_MUNICIPIO_NASCIMENTO': 'TIMBAÚBA',\n",
    "  'DT_NASCIMENTO': '14/05/1958',\n",
    "  'NR_IDADE_DATA_POSSE': 62,\n",
    "  'NR_TITULO_ELEITORAL_CANDIDATO': 8997220850,\n",
    "  'CD_GENERO': 4,\n",
    "  'DS_GENERO': 'FEMININO',\n",
    "  'CD_GRAU_INSTRUCAO': 8,\n",
    "  'DS_GRAU_INSTRUCAO': 'SUPERIOR COMPLETO',\n",
    "  'CD_ESTADO_CIVIL': 3,\n",
    "  'DS_ESTADO_CIVIL': 'CASADO(A)',\n",
    "  'CD_COR_RACA': 3,\n",
    "  'DS_COR_RACA': 'PARDA',\n",
    "  'CD_OCUPACAO': 296,\n",
    "  'DS_OCUPACAO': 'SERVIDOR PÚBLICO FEDERAL',\n",
    "  'VR_DESPESA_MAX_CAMPANHA': 49954.88,\n",
    "  'CD_SIT_TOT_TURNO': 5,\n",
    "  'DS_SIT_TOT_TURNO': 'SUPLENTE',\n",
    "  'ST_REELEICAO': 'N',\n",
    "  'ST_DECLARAR_BENS': 'S',\n",
    "  'NR_PROTOCOLO_CANDIDATURA': -1,\n",
    "  'NR_PROCESSO': 6002296720206170020,\n",
    "  'CD_SITUACAO_CANDIDATO_PLEITO': 2,\n",
    "  'DS_SITUACAO_CANDIDATO_PLEITO': 'DEFERIDO',\n",
    "  'CD_SITUACAO_CANDIDATO_URNA': 2,\n",
    "  'DS_SITUACAO_CANDIDATO_URNA': 'DEFERIDO',\n",
    "  'ST_CANDIDATO_INSERIDO_URNA': 'SIM'}]"
   ]
  },
  {
   "cell_type": "code",
   "execution_count": null,
   "id": "6afe62fb",
   "metadata": {},
   "outputs": [],
   "source": [
    "## Criando uma lista com dicionário mais enxuto apenas para melhor visualização"
   ]
  },
  {
   "cell_type": "code",
   "execution_count": 89,
   "id": "f528a712",
   "metadata": {},
   "outputs": [],
   "source": [
    "\n",
    "l=[]\n",
    "for candidato in candidaturas:\n",
    "    l.append({'NM_CANDIDATO':candidato['NM_CANDIDATO'],\\\n",
    "              'NR_IDADE_DATA_POSSE':candidato['NR_IDADE_DATA_POSSE'],\\\n",
    "             'SG_PARTIDO':candidato['SG_PARTIDO']})\n",
    "    "
   ]
  },
  {
   "cell_type": "code",
   "execution_count": 90,
   "id": "5f2cdaea",
   "metadata": {},
   "outputs": [
    {
     "data": {
      "text/plain": [
       "[{'NM_CANDIDATO': 'DANIELA TAMARA SANTOS SILVA',\n",
       "  'NR_IDADE_DATA_POSSE': 39,\n",
       "  'SG_PARTIDO': 'DEM'},\n",
       " {'NM_CANDIDATO': 'SEVERINO ALVES DA SILVA FILHO',\n",
       "  'NR_IDADE_DATA_POSSE': 64,\n",
       "  'SG_PARTIDO': 'DC'},\n",
       " {'NM_CANDIDATO': 'SEVERINO DA SILVA NASCIMENTO',\n",
       "  'NR_IDADE_DATA_POSSE': 44,\n",
       "  'SG_PARTIDO': 'PTB'},\n",
       " {'NM_CANDIDATO': 'MARTA MARIA LEMOS DA SILVA',\n",
       "  'NR_IDADE_DATA_POSSE': 63,\n",
       "  'SG_PARTIDO': 'REPUBLICANOS'},\n",
       " {'NM_CANDIDATO': 'SEBASTIÃO DA COSTA COELHO',\n",
       "  'NR_IDADE_DATA_POSSE': 67,\n",
       "  'SG_PARTIDO': 'PSL'},\n",
       " {'NM_CANDIDATO': 'DÁRIO CÉSAR MOREIRA',\n",
       "  'NR_IDADE_DATA_POSSE': 31,\n",
       "  'SG_PARTIDO': 'PSL'},\n",
       " {'NM_CANDIDATO': 'COSME CORDEIRO PAULINO',\n",
       "  'NR_IDADE_DATA_POSSE': 56,\n",
       "  'SG_PARTIDO': 'PC do B'},\n",
       " {'NM_CANDIDATO': 'SEVERINO VIEIRA RAMOS NETO',\n",
       "  'NR_IDADE_DATA_POSSE': 37,\n",
       "  'SG_PARTIDO': 'PSL'},\n",
       " {'NM_CANDIDATO': 'BRUNA RAFAELLA DA SILVA FREITAS',\n",
       "  'NR_IDADE_DATA_POSSE': 29,\n",
       "  'SG_PARTIDO': 'DC'},\n",
       " {'NM_CANDIDATO': 'MARIA MADALENA NASCIMENTO DE SOUSA',\n",
       "  'NR_IDADE_DATA_POSSE': 62,\n",
       "  'SG_PARTIDO': 'PTC'}]"
      ]
     },
     "execution_count": 90,
     "metadata": {},
     "output_type": "execute_result"
    }
   ],
   "source": [
    "l"
   ]
  },
  {
   "cell_type": "code",
   "execution_count": 92,
   "id": "33d668a7",
   "metadata": {},
   "outputs": [],
   "source": [
    "import pandas as pd"
   ]
  },
  {
   "cell_type": "code",
   "execution_count": 104,
   "id": "935d6b46",
   "metadata": {},
   "outputs": [],
   "source": [
    "dataframe = pd.read_csv('./perfil_comparecimento_abstencao_2020.csv', encoding='latin_1', sep=';')"
   ]
  },
  {
   "cell_type": "code",
   "execution_count": null,
   "id": "1feead1e",
   "metadata": {},
   "outputs": [],
   "source": [
    "pd.options.display.max_columns = None"
   ]
  },
  {
   "cell_type": "code",
   "execution_count": null,
   "id": "3e77336c",
   "metadata": {},
   "outputs": [],
   "source": [
    "dataframe.shape"
   ]
  },
  {
   "cell_type": "code",
   "execution_count": 123,
   "id": "89b0e0f1",
   "metadata": {},
   "outputs": [
    {
     "data": {
      "text/plain": [
       "Index(['NR_TURNO', 'SG_UF', 'CD_MUNICIPIO', 'NM_MUNICIPIO', 'NR_ZONA',\n",
       "       'CD_GENERO', 'DS_GENERO', 'CD_ESTADO_CIVIL', 'DS_ESTADO_CIVIL',\n",
       "       'CD_FAIXA_ETARIA', 'DS_FAIXA_ETARIA', 'CD_GRAU_ESCOLARIDADE',\n",
       "       'DS_GRAU_ESCOLARIDADE', 'QT_APTOS', 'QT_COMPARECIMENTO', 'QT_ABSTENCAO',\n",
       "       'QT_COMPARECIMENTO_DEFICIENCIA', 'QT_ABSTENCAO_DEFICIENCIA',\n",
       "       'QT_COMPARECIMENTO_TTE', 'QT_ABSTENCAO_TTE'],\n",
       "      dtype='object')"
      ]
     },
     "execution_count": 123,
     "metadata": {},
     "output_type": "execute_result"
    }
   ],
   "source": [
    "dataframe.columns"
   ]
  },
  {
   "cell_type": "code",
   "execution_count": 121,
   "id": "16c4de05",
   "metadata": {},
   "outputs": [],
   "source": [
    "dataframe.drop(columns=['DT_GERACAO', 'HH_GERACAO', 'ANO_ELEICAO'],inplace=True)"
   ]
  },
  {
   "cell_type": "code",
   "execution_count": 122,
   "id": "bac43f60",
   "metadata": {},
   "outputs": [
    {
     "data": {
      "text/plain": [
       "NR_TURNO                                                     2\n",
       "SG_UF                                                       SP\n",
       "CD_MUNICIPIO                                             71072\n",
       "NM_MUNICIPIO                                         SÃO PAULO\n",
       "NR_ZONA                                                    328\n",
       "CD_GENERO                                                    2\n",
       "DS_GENERO                                            MASCULINO\n",
       "CD_ESTADO_CIVIL                                              3\n",
       "DS_ESTADO_CIVIL                                         CASADO\n",
       "CD_FAIXA_ETARIA                                           7579\n",
       "DS_FAIXA_ETARIA                                   75 a 79 anos\n",
       "CD_GRAU_ESCOLARIDADE                                         3\n",
       "DS_GRAU_ESCOLARIDADE             ENSINO FUNDAMENTAL INCOMPLETO\n",
       "QT_APTOS                                                   269\n",
       "QT_COMPARECIMENTO                                           65\n",
       "QT_ABSTENCAO                                               204\n",
       "QT_COMPARECIMENTO_DEFICIENCIA                                3\n",
       "QT_ABSTENCAO_DEFICIENCIA                                     6\n",
       "QT_COMPARECIMENTO_TTE                                        3\n",
       "QT_ABSTENCAO_TTE                                            16\n",
       "Name: 0, dtype: object"
      ]
     },
     "execution_count": 122,
     "metadata": {},
     "output_type": "execute_result"
    }
   ],
   "source": [
    "dataframe.loc[0]"
   ]
  },
  {
   "cell_type": "code",
   "execution_count": 126,
   "id": "a7aef6e0",
   "metadata": {},
   "outputs": [],
   "source": [
    "data_ro = dataframe[dataframe['SG_UF']=='RO']"
   ]
  },
  {
   "cell_type": "code",
   "execution_count": 131,
   "id": "c0d4317b",
   "metadata": {},
   "outputs": [
    {
     "data": {
      "text/html": [
       "<div>\n",
       "<style scoped>\n",
       "    .dataframe tbody tr th:only-of-type {\n",
       "        vertical-align: middle;\n",
       "    }\n",
       "\n",
       "    .dataframe tbody tr th {\n",
       "        vertical-align: top;\n",
       "    }\n",
       "\n",
       "    .dataframe thead th {\n",
       "        text-align: right;\n",
       "    }\n",
       "</style>\n",
       "<table border=\"1\" class=\"dataframe\">\n",
       "  <thead>\n",
       "    <tr style=\"text-align: right;\">\n",
       "      <th></th>\n",
       "      <th>NR_TURNO</th>\n",
       "      <th>SG_UF</th>\n",
       "      <th>CD_MUNICIPIO</th>\n",
       "      <th>NM_MUNICIPIO</th>\n",
       "      <th>NR_ZONA</th>\n",
       "      <th>CD_GENERO</th>\n",
       "      <th>DS_GENERO</th>\n",
       "      <th>CD_ESTADO_CIVIL</th>\n",
       "      <th>DS_ESTADO_CIVIL</th>\n",
       "      <th>CD_FAIXA_ETARIA</th>\n",
       "      <th>DS_FAIXA_ETARIA</th>\n",
       "      <th>CD_GRAU_ESCOLARIDADE</th>\n",
       "      <th>DS_GRAU_ESCOLARIDADE</th>\n",
       "      <th>QT_APTOS</th>\n",
       "      <th>QT_COMPARECIMENTO</th>\n",
       "      <th>QT_ABSTENCAO</th>\n",
       "      <th>QT_COMPARECIMENTO_DEFICIENCIA</th>\n",
       "      <th>QT_ABSTENCAO_DEFICIENCIA</th>\n",
       "      <th>QT_COMPARECIMENTO_TTE</th>\n",
       "      <th>QT_ABSTENCAO_TTE</th>\n",
       "    </tr>\n",
       "  </thead>\n",
       "  <tbody>\n",
       "    <tr>\n",
       "      <th>10689</th>\n",
       "      <td>1</td>\n",
       "      <td>RO</td>\n",
       "      <td>477</td>\n",
       "      <td>CANDEIAS DO JAMARI</td>\n",
       "      <td>21</td>\n",
       "      <td>4</td>\n",
       "      <td>FEMININO</td>\n",
       "      <td>1</td>\n",
       "      <td>SOLTEIRO</td>\n",
       "      <td>1700</td>\n",
       "      <td>17 anos</td>\n",
       "      <td>1</td>\n",
       "      <td>ANALFABETO</td>\n",
       "      <td>1</td>\n",
       "      <td>1</td>\n",
       "      <td>0</td>\n",
       "      <td>1</td>\n",
       "      <td>0</td>\n",
       "      <td>0</td>\n",
       "      <td>0</td>\n",
       "    </tr>\n",
       "  </tbody>\n",
       "</table>\n",
       "</div>"
      ],
      "text/plain": [
       "       NR_TURNO SG_UF  CD_MUNICIPIO        NM_MUNICIPIO  NR_ZONA  CD_GENERO  \\\n",
       "10689         1    RO           477  CANDEIAS DO JAMARI       21          4   \n",
       "\n",
       "      DS_GENERO  CD_ESTADO_CIVIL DS_ESTADO_CIVIL  CD_FAIXA_ETARIA  \\\n",
       "10689  FEMININO                1        SOLTEIRO             1700   \n",
       "\n",
       "      DS_FAIXA_ETARIA  CD_GRAU_ESCOLARIDADE DS_GRAU_ESCOLARIDADE  QT_APTOS  \\\n",
       "10689         17 anos                     1           ANALFABETO         1   \n",
       "\n",
       "       QT_COMPARECIMENTO  QT_ABSTENCAO  QT_COMPARECIMENTO_DEFICIENCIA  \\\n",
       "10689                  1             0                              1   \n",
       "\n",
       "       QT_ABSTENCAO_DEFICIENCIA  QT_COMPARECIMENTO_TTE  QT_ABSTENCAO_TTE  \n",
       "10689                         0                      0                 0  "
      ]
     },
     "execution_count": 131,
     "metadata": {},
     "output_type": "execute_result"
    }
   ],
   "source": [
    "data_ro.head(1)"
   ]
  },
  {
   "cell_type": "code",
   "execution_count": 133,
   "id": "767af387",
   "metadata": {},
   "outputs": [
    {
     "data": {
      "text/plain": [
       "(4770970, 20)"
      ]
     },
     "execution_count": 133,
     "metadata": {},
     "output_type": "execute_result"
    }
   ],
   "source": [
    "dataframe.shape"
   ]
  },
  {
   "cell_type": "code",
   "execution_count": 132,
   "id": "fbb3aef0",
   "metadata": {},
   "outputs": [
    {
     "data": {
      "text/plain": [
       "(45030, 20)"
      ]
     },
     "execution_count": 132,
     "metadata": {},
     "output_type": "execute_result"
    }
   ],
   "source": [
    "data_ro.shape"
   ]
  },
  {
   "cell_type": "code",
   "execution_count": 138,
   "id": "d5875454",
   "metadata": {},
   "outputs": [],
   "source": [
    "dataframe = []"
   ]
  },
  {
   "cell_type": "code",
   "execution_count": 143,
   "id": "a9154e03",
   "metadata": {},
   "outputs": [],
   "source": [
    "data_ro.to_csv(r\"./conjuntos_dados/ausencias-ro.csv\", sep=\";\", encoding=\"latin_1\")"
   ]
  },
  {
   "cell_type": "code",
   "execution_count": 160,
   "id": "3a007b33",
   "metadata": {},
   "outputs": [],
   "source": [
    "data_ro =pd.read_csv('./conjuntos_dados/ausencias-ro.csv', encoding='latin_1', sep=';', index_col='Unnamed: 0' )"
   ]
  },
  {
   "cell_type": "code",
   "execution_count": 161,
   "id": "63a87444",
   "metadata": {},
   "outputs": [
    {
     "data": {
      "text/html": [
       "<div>\n",
       "<style scoped>\n",
       "    .dataframe tbody tr th:only-of-type {\n",
       "        vertical-align: middle;\n",
       "    }\n",
       "\n",
       "    .dataframe tbody tr th {\n",
       "        vertical-align: top;\n",
       "    }\n",
       "\n",
       "    .dataframe thead th {\n",
       "        text-align: right;\n",
       "    }\n",
       "</style>\n",
       "<table border=\"1\" class=\"dataframe\">\n",
       "  <thead>\n",
       "    <tr style=\"text-align: right;\">\n",
       "      <th></th>\n",
       "      <th>NR_TURNO</th>\n",
       "      <th>SG_UF</th>\n",
       "      <th>CD_MUNICIPIO</th>\n",
       "      <th>NM_MUNICIPIO</th>\n",
       "      <th>NR_ZONA</th>\n",
       "      <th>CD_GENERO</th>\n",
       "      <th>DS_GENERO</th>\n",
       "      <th>CD_ESTADO_CIVIL</th>\n",
       "      <th>DS_ESTADO_CIVIL</th>\n",
       "      <th>CD_FAIXA_ETARIA</th>\n",
       "      <th>DS_FAIXA_ETARIA</th>\n",
       "      <th>CD_GRAU_ESCOLARIDADE</th>\n",
       "      <th>DS_GRAU_ESCOLARIDADE</th>\n",
       "      <th>QT_APTOS</th>\n",
       "      <th>QT_COMPARECIMENTO</th>\n",
       "      <th>QT_ABSTENCAO</th>\n",
       "      <th>QT_COMPARECIMENTO_DEFICIENCIA</th>\n",
       "      <th>QT_ABSTENCAO_DEFICIENCIA</th>\n",
       "      <th>QT_COMPARECIMENTO_TTE</th>\n",
       "      <th>QT_ABSTENCAO_TTE</th>\n",
       "    </tr>\n",
       "  </thead>\n",
       "  <tbody>\n",
       "    <tr>\n",
       "      <th>10689</th>\n",
       "      <td>1</td>\n",
       "      <td>RO</td>\n",
       "      <td>477</td>\n",
       "      <td>CANDEIAS DO JAMARI</td>\n",
       "      <td>21</td>\n",
       "      <td>4</td>\n",
       "      <td>FEMININO</td>\n",
       "      <td>1</td>\n",
       "      <td>SOLTEIRO</td>\n",
       "      <td>1700</td>\n",
       "      <td>17 anos</td>\n",
       "      <td>1</td>\n",
       "      <td>ANALFABETO</td>\n",
       "      <td>1</td>\n",
       "      <td>1</td>\n",
       "      <td>0</td>\n",
       "      <td>1</td>\n",
       "      <td>0</td>\n",
       "      <td>0</td>\n",
       "      <td>0</td>\n",
       "    </tr>\n",
       "    <tr>\n",
       "      <th>12062</th>\n",
       "      <td>1</td>\n",
       "      <td>RO</td>\n",
       "      <td>477</td>\n",
       "      <td>CANDEIAS DO JAMARI</td>\n",
       "      <td>21</td>\n",
       "      <td>4</td>\n",
       "      <td>FEMININO</td>\n",
       "      <td>1</td>\n",
       "      <td>SOLTEIRO</td>\n",
       "      <td>1900</td>\n",
       "      <td>19 anos</td>\n",
       "      <td>7</td>\n",
       "      <td>SUPERIOR INCOMPLETO</td>\n",
       "      <td>8</td>\n",
       "      <td>7</td>\n",
       "      <td>1</td>\n",
       "      <td>0</td>\n",
       "      <td>0</td>\n",
       "      <td>0</td>\n",
       "      <td>0</td>\n",
       "    </tr>\n",
       "  </tbody>\n",
       "</table>\n",
       "</div>"
      ],
      "text/plain": [
       "       NR_TURNO SG_UF  CD_MUNICIPIO        NM_MUNICIPIO  NR_ZONA  CD_GENERO  \\\n",
       "10689         1    RO           477  CANDEIAS DO JAMARI       21          4   \n",
       "12062         1    RO           477  CANDEIAS DO JAMARI       21          4   \n",
       "\n",
       "      DS_GENERO  CD_ESTADO_CIVIL DS_ESTADO_CIVIL  CD_FAIXA_ETARIA  \\\n",
       "10689  FEMININO                1        SOLTEIRO             1700   \n",
       "12062  FEMININO                1        SOLTEIRO             1900   \n",
       "\n",
       "      DS_FAIXA_ETARIA  CD_GRAU_ESCOLARIDADE DS_GRAU_ESCOLARIDADE  QT_APTOS  \\\n",
       "10689         17 anos                     1           ANALFABETO         1   \n",
       "12062         19 anos                     7  SUPERIOR INCOMPLETO         8   \n",
       "\n",
       "       QT_COMPARECIMENTO  QT_ABSTENCAO  QT_COMPARECIMENTO_DEFICIENCIA  \\\n",
       "10689                  1             0                              1   \n",
       "12062                  7             1                              0   \n",
       "\n",
       "       QT_ABSTENCAO_DEFICIENCIA  QT_COMPARECIMENTO_TTE  QT_ABSTENCAO_TTE  \n",
       "10689                         0                      0                 0  \n",
       "12062                         0                      0                 0  "
      ]
     },
     "execution_count": 161,
     "metadata": {},
     "output_type": "execute_result"
    }
   ],
   "source": [
    "data_ro.head(2)"
   ]
  },
  {
   "cell_type": "code",
   "execution_count": 166,
   "id": "1f68a4b9",
   "metadata": {},
   "outputs": [
    {
     "name": "stdout",
     "output_type": "stream",
     "text": [
      "                       data_ro: 23.4 MiB\n",
      "                          _i27: 39.6 KiB\n",
      "                          _i24: 39.6 KiB\n",
      "                          _111:  4.5 KiB\n",
      "                          _112:  3.3 KiB\n",
      "                          _122:  2.9 KiB\n",
      "                           _oh:  2.2 KiB\n",
      "                           Out:  2.2 KiB\n",
      "                           _31:  2.2 KiB\n",
      "                     candidato:  2.2 KiB\n"
     ]
    }
   ],
   "source": [
    "import sys\n",
    "def sizeof_fmt(num, suffix='B'):\n",
    "    ''' by Fred Cirera,  https://stackoverflow.com/a/1094933/1870254, modified'''\n",
    "    for unit in ['','Ki','Mi','Gi','Ti','Pi','Ei','Zi']:\n",
    "        if abs(num) < 1024.0:\n",
    "            return \"%3.1f %s%s\" % (num, unit, suffix)\n",
    "        num /= 1024.0\n",
    "    return \"%.1f %s%s\" % (num, 'Yi', suffix)\n",
    "\n",
    "for name, size in sorted(((name, sys.getsizeof(value)) for name, value in locals().items()),\n",
    "                         key= lambda x: -x[1])[:10]:\n",
    "    print(\"{:>30}: {:>8}\".format(name, sizeof_fmt(size)))"
   ]
  },
  {
   "cell_type": "markdown",
   "id": "c339b467",
   "metadata": {},
   "source": [
    "### 1.7"
   ]
  },
  {
   "cell_type": "code",
   "execution_count": 140,
   "id": "458a3224",
   "metadata": {},
   "outputs": [],
   "source": [
    "# import glob\n",
    "# glob.glob('<pattern>.<extensão_arquivo')"
   ]
  },
  {
   "cell_type": "code",
   "execution_count": null,
   "id": "28b91b71",
   "metadata": {},
   "outputs": [],
   "source": [
    "# pd.concat(lista_dataframes, axis=0 ou 1, ignore_index=True ou Flase)"
   ]
  },
  {
   "cell_type": "code",
   "execution_count": 168,
   "id": "530dda93",
   "metadata": {},
   "outputs": [],
   "source": [
    "import glob\n",
    "dados_RNPE = glob.glob('conjuntos_dados/consulta*.csv')"
   ]
  },
  {
   "cell_type": "code",
   "execution_count": 170,
   "id": "262abbc0",
   "metadata": {},
   "outputs": [
    {
     "data": {
      "text/plain": [
       "list"
      ]
     },
     "execution_count": 170,
     "metadata": {},
     "output_type": "execute_result"
    }
   ],
   "source": [
    "\n",
    "type(dados_RNPE)"
   ]
  },
  {
   "cell_type": "code",
   "execution_count": 171,
   "id": "4688151b",
   "metadata": {},
   "outputs": [],
   "source": [
    "lista_df = []\n",
    "for dados in dados_RNPE:\n",
    "    df_estado = pd.read_csv(dados, sep=\";\", encoding='latin_1')\n",
    "    lista_df.append(df_estado)"
   ]
  },
  {
   "cell_type": "code",
   "execution_count": 172,
   "id": "3cd2acff",
   "metadata": {},
   "outputs": [
    {
     "data": {
      "text/plain": [
       "(31656, 63)"
      ]
     },
     "execution_count": 172,
     "metadata": {},
     "output_type": "execute_result"
    }
   ],
   "source": [
    "df_completo = pd.concat(lista_df, axis=0, ignore_index=True)\n",
    "df_completo.shape"
   ]
  },
  {
   "cell_type": "code",
   "execution_count": 330,
   "id": "0685549d",
   "metadata": {},
   "outputs": [
    {
     "name": "stdout",
     "output_type": "stream",
     "text": [
      "Insira um número inteiro positivo: 4\n",
      "Insira um número inteiro positivo: 5\n",
      "Insira um número inteiro positivo: 8\n"
     ]
    }
   ],
   "source": [
    "\n",
    "lista = []\n",
    "for i in range(3):\n",
    "    lista.append(int(input('Insira um número inteiro positivo: ')))"
   ]
  },
  {
   "cell_type": "code",
   "execution_count": 331,
   "id": "187c702f",
   "metadata": {},
   "outputs": [
    {
     "data": {
      "text/plain": [
       "\"\\n# Utilizando uma nova lista\\nlista_nova=[]\\nfor i in lista:\\n\\n    if i % 3 == 0 and i % 5 == 0:\\n        lista_nova.append('Tecnologia Cívica')\\n    elif i % 3 == 0:\\n        lista_nova.append('Tecnologia')\\n    elif i % 5 == 0:\\n        lista_nova.append('Cívica')\\n    else:\\n        lista_nova.append(i)\""
      ]
     },
     "execution_count": 331,
     "metadata": {},
     "output_type": "execute_result"
    }
   ],
   "source": [
    "# Reutilizando a própria lista\n",
    "# Trabalhando reinserção na mesma lista \n",
    "for i in lista:\n",
    "\n",
    "    if i % 3 == 0 and i % 5 == 0:\n",
    "        lista[lista.index(i)] = 'Tecnologia Cívica'\n",
    "    elif i % 3 == 0:\n",
    "        lista[lista.index(i)] = 'Tecnologia'\n",
    "    elif i % 5 == 0:\n",
    "        lista[lista.index(i)] = 'Cívica'\n",
    " \n",
    "'''\n",
    "# Utilizando uma nova lista\n",
    "lista_nova=[]\n",
    "for i in lista:\n",
    "\n",
    "    if i % 3 == 0 and i % 5 == 0:\n",
    "        lista_nova.append('Tecnologia Cívica')\n",
    "    elif i % 3 == 0:\n",
    "        lista_nova.append('Tecnologia')\n",
    "    elif i % 5 == 0:\n",
    "        lista_nova.append('Cívica')\n",
    "    else:\n",
    "        lista_nova.append(i)'''"
   ]
  },
  {
   "cell_type": "code",
   "execution_count": 332,
   "id": "c12d0e3a",
   "metadata": {},
   "outputs": [
    {
     "data": {
      "text/plain": [
       "[4, 'Cívica', 8]"
      ]
     },
     "execution_count": 332,
     "metadata": {},
     "output_type": "execute_result"
    }
   ],
   "source": [
    "lista"
   ]
  },
  {
   "cell_type": "code",
   "execution_count": 324,
   "id": "9e4ec391",
   "metadata": {},
   "outputs": [
    {
     "data": {
      "text/plain": [
       "[2, 'Tecnologia', 'Tecnologia Cívica']"
      ]
     },
     "execution_count": 324,
     "metadata": {},
     "output_type": "execute_result"
    }
   ],
   "source": [
    "lista_nova"
   ]
  },
  {
   "cell_type": "code",
   "execution_count": 295,
   "id": "0e0e814f",
   "metadata": {},
   "outputs": [
    {
     "data": {
      "text/plain": [
       "1"
      ]
     },
     "execution_count": 295,
     "metadata": {},
     "output_type": "execute_result"
    }
   ],
   "source": [
    "n.index(6)"
   ]
  },
  {
   "cell_type": "code",
   "execution_count": null,
   "id": "eb0b6361",
   "metadata": {},
   "outputs": [],
   "source": []
  }
 ],
 "metadata": {
  "kernelspec": {
   "display_name": "Python 3 (ipykernel)",
   "language": "python",
   "name": "python3"
  },
  "language_info": {
   "codemirror_mode": {
    "name": "ipython",
    "version": 3
   },
   "file_extension": ".py",
   "mimetype": "text/x-python",
   "name": "python",
   "nbconvert_exporter": "python",
   "pygments_lexer": "ipython3",
   "version": "3.8.2"
  }
 },
 "nbformat": 4,
 "nbformat_minor": 5
}
