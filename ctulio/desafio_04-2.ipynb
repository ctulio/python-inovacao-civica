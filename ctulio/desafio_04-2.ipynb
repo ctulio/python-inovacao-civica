{
 "cells": [
  {
   "cell_type": "markdown",
   "id": "3fa47b5e",
   "metadata": {
    "id": "3fa47b5e"
   },
   "source": [
    "Escolha a página do wikipédia relacionada a lista de parlamentares do seu estado e extraia as tabelas existentes na página."
   ]
  },
  {
   "cell_type": "code",
   "execution_count": 1,
   "id": "031c5a0c",
   "metadata": {},
   "outputs": [],
   "source": [
    "import pandas as pd"
   ]
  },
  {
   "cell_type": "code",
   "execution_count": 2,
   "id": "54290dad",
   "metadata": {
    "id": "54290dad"
   },
   "outputs": [],
   "source": [
    "url_1 = 'https://www.camara.leg.br/deputados/quem-sao/resultado?search=&partido=&uf=RO&legislatura=&sexo='\n",
    "url_2 = 'https://pt.wikipedia.org/wiki/Lista_de_parlamentares_de_Rond%C3%B4nia'\n",
    "tables = pd.read_html(url_2)\n"
   ]
  },
  {
   "cell_type": "code",
   "execution_count": 3,
   "id": "d5109c09",
   "metadata": {},
   "outputs": [],
   "source": [
    "#pd.set_option('display.max_columns', None)\n",
    "# pd.set_option('display.max_rows', None)\n",
    "\n",
    "pd.options.display.max_columns = None\n",
    "pd.options.display.max_rows = None"
   ]
  },
  {
   "cell_type": "code",
   "execution_count": 4,
   "id": "9b9c4af4",
   "metadata": {},
   "outputs": [
    {
     "data": {
      "text/plain": [
       "[           Senadores eleitos                  Naturalidade  Mandatos  \\\n",
       " 0              Odacir Soares                Rio Branco, AC         2   \n",
       " 1               Valdir Raupp           São João do Sul, SC         2   \n",
       " 2   Claudionor Roriz[nota 3]                    Jardim, CE         1   \n",
       " 3     Galvão Modesto[nota 3]                   Corumbá, MS         1   \n",
       " 4        Olavo Pires[nota 4]                   Catalão, GO         1   \n",
       " 5             Ronaldo Aragão  Santa Cruz do Capibaribe, PE         1   \n",
       " 6    Ernandes Amorim[nota 5]                   Itagibá, BA         1   \n",
       " 7        José Bianco[nota 6]                 Apucarana, PR         1   \n",
       " 8                 Amir Lando                 Concórdia, SC         1   \n",
       " 9              Fátima Cleide               Porto Velho, RO         1   \n",
       " 10   Expedito Júnior[nota 7]                Guararapes, SP         1   \n",
       " 11                Ivo Cassol                 Concórdia, SC         1   \n",
       " 12      Acir Gurgacz[nota 7]                  Cascavel, PR         1   \n",
       " 13            Confúcio Moura                Dianópolis, TO         1   \n",
       " 14            Marcos Rogério                 Ji-Paraná, RO         1   \n",
       " \n",
       "    Ano da eleição  \n",
       " 0      1982, 1990  \n",
       " 1      2002, 2010  \n",
       " 2            1982  \n",
       " 3            1982  \n",
       " 4            1986  \n",
       " 5            1986  \n",
       " 6            1994  \n",
       " 7            1994  \n",
       " 8            1998  \n",
       " 9            2002  \n",
       " 10           2006  \n",
       " 11           2010  \n",
       " 12           2014  \n",
       " 13           2018  \n",
       " 14           2018  ,\n",
       "        Deputados federais eleitos               Naturalidade  Mandatos  \\\n",
       " 0                   Marinha Raupp                Maracaí, SP         6   \n",
       " 1                 Nilton Capixaba              Cuparaque, MG         4   \n",
       " 2                Aluísio Ferreira      Bragança Paulista, SP         3   \n",
       " 3                Jerônimo Santana                  Jataí, GO         3   \n",
       " 4   Expedito Júnior[nota 8][8][9]             Guararapes, SP         3   \n",
       " 5                  Confúcio Moura             Dianópolis, TO         3   \n",
       " 6         Lindomar Garçon[nota 9]           Rondonópolis, MT         3   \n",
       " 7            Mauro Nazif[nota 10]         Barra do Piraí, RJ         3   \n",
       " 8                    Assis Canuto              Itumbiara, GO         2   \n",
       " 9                 Francisco Sales                Grossos, RN         2   \n",
       " 10                   Rita Furtado  Campos dos Goytacazes, RJ         2   \n",
       " 11        Raquel Cândido[nota 11]          Guajará-Mirim, RO         2   \n",
       " 12              Carlinhos Camurça          Guajará-Mirim, RO         2   \n",
       " 13              Euripedes Miranda                Cardoso, SP         2   \n",
       " 14                  Agnaldo Muniz    Assis Chateaubriand, PR         2   \n",
       " 15                Sérgio Carvalho              Paranavaí, PR         2   \n",
       " 16               Anselmo de Jesus             Mandaguari, PR         2   \n",
       " 17               Eduardo Valverde         Rio de Janeiro, RJ         2   \n",
       " 18                 Moreira Mendes              São Paulo, SP         2   \n",
       " 19         Natan Donadon[nota 11]               Porecatu, PR         2   \n",
       " 20                  Expedito Neto            Porto Velho, RO         2   \n",
       " 21                 Lucio Mosquini           Rondonópolis, MT         2   \n",
       " 22               Mariana Carvalho              São Paulo, SP         2   \n",
       " 23                 Joaquim Rondon                 Cuiabá, MT         1   \n",
       " 24                Renato Medeiros                  [nota 12]         1   \n",
       " 25      Paulo Nunes Leal[nota 13]              Carangola, MG         1   \n",
       " 26                   Isaac Newton        Cruzeiro do Sul, AC         1   \n",
       " 27                Chiquilito Erse                 Manaus, AM         1   \n",
       " 28                Leônidas Rachid          Rosário Oeste, MT         1   \n",
       " 29                  Múcio Athayde          Montes Claros, MG         1   \n",
       " 30                    Olavo Pires                Catalão, GO         1   \n",
       " 31                  Orestes Muniz       Conselheiro Pena, MG         1   \n",
       " 32                    Chagas Neto                 Sobral, CE         1   \n",
       " 33                    José Guedes                Itacajá, TO         1   \n",
       " 34                     José Viana     Brotas de Macaúbas, BA         1   \n",
       " 35                 Edison Fidelis              Apucarana, PR         1   \n",
       " 36          Jabes Rabelo[nota 11]           Campo Mourão, PR         1   \n",
       " 37               Maurício Calixto                  Arcos, MG         1   \n",
       " 38           Nobel Moura[nota 11]             Dianópolis, TO         1   \n",
       " 39                 Pascoal Novais   Presidente Venceslau, SP         1   \n",
       " 40               Reditario Cassol              Concórdia, SC         1   \n",
       " 41                  Emerson Pires                Goiânia, GO         1   \n",
       " 42                Ildemar Küssler               Palmitos, SC         1   \n",
       " 43              Silvernani Santos                 Trairi, CE         1   \n",
       " 44                  Oscar Andrade                Juatuba, MG         1   \n",
       " 45                Miguel de Souza                 Cubati, RO         1   \n",
       " 46                Ernandes Amorim                Itagibá, BA         1   \n",
       " 47             Carlos Magno Ramos             Coromandel, MG         1   \n",
       " 48                Máriton Holanda                 Oeiras, PI         1   \n",
       " 49                   Luiz Cláudio           Bom Conselho, PE         1   \n",
       " 50         Marcos Rogério[nota 9]              Ji-Paraná, RO         1   \n",
       " 51               Jaqueline Cassol    São Miguel do Oeste, SC         1   \n",
       " 52               João Chrisóstomo                   Tefé, AM         1   \n",
       " 53                     Léo Moraes          Foz do Iguaçu, PR         1   \n",
       " 54                Silvia Cristina               Linhares, ES         1   \n",
       " \n",
       "                         Ano da eleição  \n",
       " 0   1994, 1998, 2002, 2006, 2010, 2014  \n",
       " 1               1998, 2002, 2010, 2014  \n",
       " 2                     1947, 1950, 1958  \n",
       " 3                     1970, 1974, 1978  \n",
       " 4                     1986, 1994, 1998  \n",
       " 5                     1994, 1998, 2002  \n",
       " 6                     2006, 2010, 2014  \n",
       " 7                     2006, 2010, 2018  \n",
       " 8                           1982, 1986  \n",
       " 9                           1982, 1986  \n",
       " 10                          1982, 1986  \n",
       " 11                          1986, 1990  \n",
       " 12                          1990, 1994  \n",
       " 13                          1994, 1998  \n",
       " 14                          1998, 2002  \n",
       " 15                          1998, 2002  \n",
       " 16                          2002, 2006  \n",
       " 17                          2002, 2006  \n",
       " 18                          2006, 2010  \n",
       " 19                          2006, 2010  \n",
       " 20                          2014, 2018  \n",
       " 21                          2014, 2018  \n",
       " 22                          2014, 2018  \n",
       " 23                                1954  \n",
       " 24                                1962  \n",
       " 25                                1966  \n",
       " 26                                1978  \n",
       " 27                                1982  \n",
       " 28                                1982  \n",
       " 29                                1982  \n",
       " 30                                1982  \n",
       " 31                                1982  \n",
       " 32                                1986  \n",
       " 33                                1986  \n",
       " 34                                1986  \n",
       " 35                                1990  \n",
       " 36                                1990  \n",
       " 37                                1990  \n",
       " 38                                1990  \n",
       " 39                                1990  \n",
       " 40                                1990  \n",
       " 41                                1994  \n",
       " 42                                1994  \n",
       " 43                                1994  \n",
       " 44                                1998  \n",
       " 45                                2002  \n",
       " 46                                2006  \n",
       " 47                                2010  \n",
       " 48                                2010  \n",
       " 49                                2014  \n",
       " 50                                2014  \n",
       " 51                                2018  \n",
       " 52                                2018  \n",
       " 53                                2018  \n",
       " 54                                2018  ,\n",
       "                   vde Eleições estaduais em Rondônia  \\\n",
       " 0  Território Federal de Rondônia • 1982 • 1986 •...   \n",
       " 1  Em itálico as ocasiões em que não houve eleiçã...   \n",
       " \n",
       "                 vde Eleições estaduais em Rondônia.1  \\\n",
       " 0  Território Federal de Rondônia • 1982 • 1986 •...   \n",
       " 1  Em itálico as ocasiões em que não houve eleiçã...   \n",
       " \n",
       "                 vde Eleições estaduais em Rondônia.2  \n",
       " 0                                                NaN  \n",
       " 1  Em itálico as ocasiões em que não houve eleiçã...  ,\n",
       "   vdeParlamentares do Congresso Nacional do Brasil por estado  \\\n",
       " 0  Acre Alagoas Amapá Amazonas Bahia Ceará Distri...            \n",
       " \n",
       "   vdeParlamentares do Congresso Nacional do Brasil por estado.1  \n",
       " 0  Acre Alagoas Amapá Amazonas Bahia Ceará Distri...             ]"
      ]
     },
     "execution_count": 4,
     "metadata": {},
     "output_type": "execute_result"
    }
   ],
   "source": [
    "tables"
   ]
  },
  {
   "cell_type": "markdown",
   "id": "db63e93d",
   "metadata": {
    "id": "db63e93d"
   },
   "source": [
    "### Quantas tabelas existem na página?"
   ]
  },
  {
   "cell_type": "code",
   "execution_count": 5,
   "id": "74363a0c",
   "metadata": {
    "id": "74363a0c"
   },
   "outputs": [
    {
     "data": {
      "text/plain": [
       "4"
      ]
     },
     "execution_count": 5,
     "metadata": {},
     "output_type": "execute_result"
    }
   ],
   "source": [
    "len(tables)"
   ]
  },
  {
   "cell_type": "code",
   "execution_count": 6,
   "id": "d3f359ca",
   "metadata": {},
   "outputs": [
    {
     "data": {
      "text/html": [
       "<div>\n",
       "<style scoped>\n",
       "    .dataframe tbody tr th:only-of-type {\n",
       "        vertical-align: middle;\n",
       "    }\n",
       "\n",
       "    .dataframe tbody tr th {\n",
       "        vertical-align: top;\n",
       "    }\n",
       "\n",
       "    .dataframe thead th {\n",
       "        text-align: right;\n",
       "    }\n",
       "</style>\n",
       "<table border=\"1\" class=\"dataframe\">\n",
       "  <thead>\n",
       "    <tr style=\"text-align: right;\">\n",
       "      <th></th>\n",
       "      <th>Deputados federais eleitos</th>\n",
       "      <th>Naturalidade</th>\n",
       "      <th>Mandatos</th>\n",
       "      <th>Ano da eleição</th>\n",
       "    </tr>\n",
       "  </thead>\n",
       "  <tbody>\n",
       "    <tr>\n",
       "      <th>0</th>\n",
       "      <td>Marinha Raupp</td>\n",
       "      <td>Maracaí, SP</td>\n",
       "      <td>6</td>\n",
       "      <td>1994, 1998, 2002, 2006, 2010, 2014</td>\n",
       "    </tr>\n",
       "    <tr>\n",
       "      <th>1</th>\n",
       "      <td>Nilton Capixaba</td>\n",
       "      <td>Cuparaque, MG</td>\n",
       "      <td>4</td>\n",
       "      <td>1998, 2002, 2010, 2014</td>\n",
       "    </tr>\n",
       "    <tr>\n",
       "      <th>2</th>\n",
       "      <td>Aluísio Ferreira</td>\n",
       "      <td>Bragança Paulista, SP</td>\n",
       "      <td>3</td>\n",
       "      <td>1947, 1950, 1958</td>\n",
       "    </tr>\n",
       "    <tr>\n",
       "      <th>3</th>\n",
       "      <td>Jerônimo Santana</td>\n",
       "      <td>Jataí, GO</td>\n",
       "      <td>3</td>\n",
       "      <td>1970, 1974, 1978</td>\n",
       "    </tr>\n",
       "    <tr>\n",
       "      <th>4</th>\n",
       "      <td>Expedito Júnior[nota 8][8][9]</td>\n",
       "      <td>Guararapes, SP</td>\n",
       "      <td>3</td>\n",
       "      <td>1986, 1994, 1998</td>\n",
       "    </tr>\n",
       "    <tr>\n",
       "      <th>5</th>\n",
       "      <td>Confúcio Moura</td>\n",
       "      <td>Dianópolis, TO</td>\n",
       "      <td>3</td>\n",
       "      <td>1994, 1998, 2002</td>\n",
       "    </tr>\n",
       "    <tr>\n",
       "      <th>6</th>\n",
       "      <td>Lindomar Garçon[nota 9]</td>\n",
       "      <td>Rondonópolis, MT</td>\n",
       "      <td>3</td>\n",
       "      <td>2006, 2010, 2014</td>\n",
       "    </tr>\n",
       "    <tr>\n",
       "      <th>7</th>\n",
       "      <td>Mauro Nazif[nota 10]</td>\n",
       "      <td>Barra do Piraí, RJ</td>\n",
       "      <td>3</td>\n",
       "      <td>2006, 2010, 2018</td>\n",
       "    </tr>\n",
       "  </tbody>\n",
       "</table>\n",
       "</div>"
      ],
      "text/plain": [
       "      Deputados federais eleitos           Naturalidade  Mandatos  \\\n",
       "0                  Marinha Raupp            Maracaí, SP         6   \n",
       "1                Nilton Capixaba          Cuparaque, MG         4   \n",
       "2               Aluísio Ferreira  Bragança Paulista, SP         3   \n",
       "3               Jerônimo Santana              Jataí, GO         3   \n",
       "4  Expedito Júnior[nota 8][8][9]         Guararapes, SP         3   \n",
       "5                 Confúcio Moura         Dianópolis, TO         3   \n",
       "6        Lindomar Garçon[nota 9]       Rondonópolis, MT         3   \n",
       "7           Mauro Nazif[nota 10]     Barra do Piraí, RJ         3   \n",
       "\n",
       "                       Ano da eleição  \n",
       "0  1994, 1998, 2002, 2006, 2010, 2014  \n",
       "1              1998, 2002, 2010, 2014  \n",
       "2                    1947, 1950, 1958  \n",
       "3                    1970, 1974, 1978  \n",
       "4                    1986, 1994, 1998  \n",
       "5                    1994, 1998, 2002  \n",
       "6                    2006, 2010, 2014  \n",
       "7                    2006, 2010, 2018  "
      ]
     },
     "execution_count": 6,
     "metadata": {},
     "output_type": "execute_result"
    }
   ],
   "source": [
    "tables[1].query(\"Mandatos >= 3\")"
   ]
  },
  {
   "cell_type": "markdown",
   "id": "79e2ce18",
   "metadata": {
    "id": "79e2ce18"
   },
   "source": [
    "### Qual o total de senadores?"
   ]
  },
  {
   "cell_type": "code",
   "execution_count": 7,
   "id": "f2cdd96c",
   "metadata": {},
   "outputs": [
    {
     "data": {
      "text/plain": [
       "15"
      ]
     },
     "execution_count": 7,
     "metadata": {},
     "output_type": "execute_result"
    }
   ],
   "source": [
    "len(tables[0])"
   ]
  },
  {
   "cell_type": "markdown",
   "id": "dd782b0e",
   "metadata": {
    "id": "dd782b0e"
   },
   "source": [
    "### Qual o total de deputados federais?"
   ]
  },
  {
   "cell_type": "code",
   "execution_count": 8,
   "id": "e2d5f589",
   "metadata": {
    "id": "e2d5f589"
   },
   "outputs": [
    {
     "data": {
      "text/plain": [
       "55"
      ]
     },
     "execution_count": 8,
     "metadata": {},
     "output_type": "execute_result"
    }
   ],
   "source": [
    "len(tables[1])"
   ]
  },
  {
   "cell_type": "markdown",
   "id": "e46e7b1a",
   "metadata": {
    "id": "e46e7b1a"
   },
   "source": [
    "### Qual o total de deputados e senadores por cidade?\n",
    "\n",
    "dica: `groupby`"
   ]
  },
  {
   "cell_type": "code",
   "execution_count": null,
   "id": "adb82dcf",
   "metadata": {
    "id": "adb82dcf"
   },
   "outputs": [],
   "source": []
  },
  {
   "cell_type": "markdown",
   "id": "149673f0",
   "metadata": {
    "id": "149673f0"
   },
   "source": [
    "### Qual deputado/senador com mais mandatos?"
   ]
  },
  {
   "cell_type": "markdown",
   "id": "abc5245e",
   "metadata": {},
   "source": [
    "## Raspando dados com HTMLSession"
   ]
  },
  {
   "cell_type": "code",
   "execution_count": 10,
   "id": "c4eebd50",
   "metadata": {},
   "outputs": [],
   "source": [
    "from requests_html import HTMLSession\n",
    "session = HTMLSession()"
   ]
  },
  {
   "cell_type": "code",
   "execution_count": 11,
   "id": "08e081f9",
   "metadata": {},
   "outputs": [],
   "source": [
    "r = session.get(url_1)"
   ]
  },
  {
   "cell_type": "code",
   "execution_count": 12,
   "id": "0be894db",
   "metadata": {
    "id": "0be894db"
   },
   "outputs": [],
   "source": [
    "deputados = r.html.find('li', containing = 'Em exercício')"
   ]
  },
  {
   "cell_type": "code",
   "execution_count": 13,
   "id": "604146a1",
   "metadata": {},
   "outputs": [
    {
     "data": {
      "text/plain": [
       "['Coronel',\n",
       " 'Chrisóstomo',\n",
       " '(PSL-RO)',\n",
       " 'Em',\n",
       " 'exercício',\n",
       " 'Legislaturas',\n",
       " 'em',\n",
       " 'que',\n",
       " 'exerceu',\n",
       " 'mandato:',\n",
       " '56ª,']"
      ]
     },
     "execution_count": 13,
     "metadata": {},
     "output_type": "execute_result"
    }
   ],
   "source": [
    "deputados[7].text.split()#[0]#.split('(')[1].split(\")\")[0]"
   ]
  },
  {
   "cell_type": "code",
   "execution_count": 14,
   "id": "feb77b8f",
   "metadata": {
    "scrolled": true
   },
   "outputs": [],
   "source": [
    "# info = {nome:'nome',\n",
    "#        partido: xzr    \n",
    "#        legislaturas:'zz,xx',\n",
    "#        site:'www'}\n",
    "#        \n",
    "lista_deputados_atuais = []\n",
    "for deputado in deputados:\n",
    "    inf = {}\n",
    "    inf['nome'] = deputado.text.split('(')[0].strip()\n",
    "    inf['partido'] = deputado.text.split('(')[1].split(\")\")[0]\n",
    "    inf['legislaturas'] = deputado.text.split(':')[1].strip()\n",
    "    inf['url'] = str(deputado.links).split(\"'\")[1]\n",
    "    \n",
    "    lista_deputados_atuais.append(inf)\n",
    "    \n",
    "    "
   ]
  },
  {
   "cell_type": "code",
   "execution_count": 15,
   "id": "7cc666bb",
   "metadata": {},
   "outputs": [
    {
     "data": {
      "text/plain": [
       "[{'nome': 'Silvia Cristina',\n",
       "  'partido': 'PDT-RO',\n",
       "  'legislaturas': '56ª,',\n",
       "  'url': 'https://www.camara.leg.br/deputados/204360'},\n",
       " {'nome': 'Mauro Nazif',\n",
       "  'partido': 'PSB-RO',\n",
       "  'legislaturas': '56ª, 54ª, 53ª,',\n",
       "  'url': 'https://www.camara.leg.br/deputados/141508'},\n",
       " {'nome': 'Mariana Carvalho',\n",
       "  'partido': 'PSDB-RO',\n",
       "  'legislaturas': '56ª, 55ª,',\n",
       "  'url': 'https://www.camara.leg.br/deputados/178956'},\n",
       " {'nome': 'Lucio Mosquini',\n",
       "  'partido': 'MDB-RO',\n",
       "  'legislaturas': '56ª, 55ª,\\nPartidos pelos quais já foi deputado',\n",
       "  'url': 'https://www.camara.leg.br/deputados/178954'},\n",
       " {'nome': 'Léo Moraes',\n",
       "  'partido': 'PODE-RO',\n",
       "  'legislaturas': '56ª,',\n",
       "  'url': 'https://www.camara.leg.br/deputados/204359'},\n",
       " {'nome': 'Jaqueline Cassol',\n",
       "  'partido': 'PP-RO',\n",
       "  'legislaturas': '56ª,',\n",
       "  'url': 'https://www.camara.leg.br/deputados/108338'},\n",
       " {'nome': 'Expedito Netto',\n",
       "  'partido': 'PSD-RO',\n",
       "  'legislaturas': '56ª, 55ª,\\nPartidos pelos quais já foi deputado',\n",
       "  'url': 'https://www.camara.leg.br/deputados/178953'},\n",
       " {'nome': 'Coronel Chrisóstomo',\n",
       "  'partido': 'PSL-RO',\n",
       "  'legislaturas': '56ª,',\n",
       "  'url': 'https://www.camara.leg.br/deputados/204378'}]"
      ]
     },
     "execution_count": 15,
     "metadata": {},
     "output_type": "execute_result"
    }
   ],
   "source": [
    "lista_deputados_atuais"
   ]
  },
  {
   "cell_type": "code",
   "execution_count": 17,
   "id": "cf8ee4ce",
   "metadata": {},
   "outputs": [
    {
     "data": {
      "text/plain": [
       "'\\numa forma mais pythônica de resolver esse\\nexemplo simples (e provavelmente uma ideia\\npéssima para códigos mais complexos) é:\\n'"
      ]
     },
     "execution_count": 17,
     "metadata": {},
     "output_type": "execute_result"
    }
   ],
   "source": [
    "'''\n",
    "uma forma mais pythônica de resolver esse\n",
    "exemplo simples (e provavelmente uma ideia\n",
    "péssima para códigos mais complexos) é:\n",
    "'''\n",
    "# lista_2 = [{'nome': nome, 'partido': partido} for nome, partido in lista_1]"
   ]
  },
  {
   "cell_type": "code",
   "execution_count": null,
   "id": "76b8ce8f",
   "metadata": {},
   "outputs": [],
   "source": []
  },
  {
   "cell_type": "markdown",
   "id": "fdeba3c0",
   "metadata": {
    "id": "fdeba3c0"
   },
   "source": [
    "### Desafio extra\n",
    "\n",
    "Esse desafio traz uma ideia extra de cruzamento de dados. Fique a vontade para tentar encontrar essas respostas :)\n",
    "\n",
    "- E se você cruzasse esses dados com os dados da CEAP? Quanto o deputado com maior número de candidaturas gastou?"
   ]
  }
 ],
 "metadata": {
  "colab": {
   "name": "desafio2.ipynb",
   "provenance": []
  },
  "kernelspec": {
   "display_name": "Python 3 (ipykernel)",
   "language": "python",
   "name": "python3"
  },
  "language_info": {
   "codemirror_mode": {
    "name": "ipython",
    "version": 3
   },
   "file_extension": ".py",
   "mimetype": "text/x-python",
   "name": "python",
   "nbconvert_exporter": "python",
   "pygments_lexer": "ipython3",
   "version": "3.8.2"
  }
 },
 "nbformat": 4,
 "nbformat_minor": 5
}
