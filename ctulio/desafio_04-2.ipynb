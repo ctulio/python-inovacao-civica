{
 "cells": [
  {
   "cell_type": "markdown",
   "id": "3fa47b5e",
   "metadata": {
    "id": "3fa47b5e"
   },
   "source": [
    "Escolha a página do wikipédia relacionada a lista de parlamentares do seu estado e extraia as tabelas existentes na página."
   ]
  },
  {
   "cell_type": "code",
   "execution_count": 1,
   "id": "5033be59",
   "metadata": {},
   "outputs": [],
   "source": [
    "import pandas as pd"
   ]
  },
  {
   "cell_type": "code",
   "execution_count": 5,
   "id": "54290dad",
   "metadata": {
    "id": "54290dad"
   },
   "outputs": [
    {
     "ename": "ValueError",
     "evalue": "No tables found",
     "output_type": "error",
     "traceback": [
      "\u001b[0;31m---------------------------------------------------------------------------\u001b[0m",
      "\u001b[0;31mValueError\u001b[0m                                Traceback (most recent call last)",
      "\u001b[0;32m/tmp/ipykernel_4237/3486180138.py\u001b[0m in \u001b[0;36m<module>\u001b[0;34m\u001b[0m\n\u001b[1;32m      1\u001b[0m \u001b[0murl\u001b[0m \u001b[0;34m=\u001b[0m \u001b[0;34m'https://www.camara.leg.br/deputados/quem-sao/resultado?search=&partido=&uf=RO&legislatura=&sexo='\u001b[0m\u001b[0;34m\u001b[0m\u001b[0;34m\u001b[0m\u001b[0m\n\u001b[1;32m      2\u001b[0m \u001b[0;31m#url = 'https://pt.wikipedia.org/wiki/Lista_de_parlamentares_de_Rond%C3%B4nia'\u001b[0m\u001b[0;34m\u001b[0m\u001b[0;34m\u001b[0m\u001b[0;34m\u001b[0m\u001b[0m\n\u001b[0;32m----> 3\u001b[0;31m \u001b[0mtables\u001b[0m \u001b[0;34m=\u001b[0m \u001b[0mpd\u001b[0m\u001b[0;34m.\u001b[0m\u001b[0mread_html\u001b[0m\u001b[0;34m(\u001b[0m\u001b[0murl\u001b[0m\u001b[0;34m)\u001b[0m\u001b[0;34m\u001b[0m\u001b[0;34m\u001b[0m\u001b[0m\n\u001b[0m",
      "\u001b[0;32m~/Documents/python-inovacao-civica/venv/lib/python3.8/site-packages/pandas/util/_decorators.py\u001b[0m in \u001b[0;36mwrapper\u001b[0;34m(*args, **kwargs)\u001b[0m\n\u001b[1;32m    309\u001b[0m                     \u001b[0mstacklevel\u001b[0m\u001b[0;34m=\u001b[0m\u001b[0mstacklevel\u001b[0m\u001b[0;34m,\u001b[0m\u001b[0;34m\u001b[0m\u001b[0;34m\u001b[0m\u001b[0m\n\u001b[1;32m    310\u001b[0m                 )\n\u001b[0;32m--> 311\u001b[0;31m             \u001b[0;32mreturn\u001b[0m \u001b[0mfunc\u001b[0m\u001b[0;34m(\u001b[0m\u001b[0;34m*\u001b[0m\u001b[0margs\u001b[0m\u001b[0;34m,\u001b[0m \u001b[0;34m**\u001b[0m\u001b[0mkwargs\u001b[0m\u001b[0;34m)\u001b[0m\u001b[0;34m\u001b[0m\u001b[0;34m\u001b[0m\u001b[0m\n\u001b[0m\u001b[1;32m    312\u001b[0m \u001b[0;34m\u001b[0m\u001b[0m\n\u001b[1;32m    313\u001b[0m         \u001b[0;32mreturn\u001b[0m \u001b[0mwrapper\u001b[0m\u001b[0;34m\u001b[0m\u001b[0;34m\u001b[0m\u001b[0m\n",
      "\u001b[0;32m~/Documents/python-inovacao-civica/venv/lib/python3.8/site-packages/pandas/io/html.py\u001b[0m in \u001b[0;36mread_html\u001b[0;34m(io, match, flavor, header, index_col, skiprows, attrs, parse_dates, thousands, encoding, decimal, converters, na_values, keep_default_na, displayed_only)\u001b[0m\n\u001b[1;32m   1096\u001b[0m     \u001b[0mio\u001b[0m \u001b[0;34m=\u001b[0m \u001b[0mstringify_path\u001b[0m\u001b[0;34m(\u001b[0m\u001b[0mio\u001b[0m\u001b[0;34m)\u001b[0m\u001b[0;34m\u001b[0m\u001b[0;34m\u001b[0m\u001b[0m\n\u001b[1;32m   1097\u001b[0m \u001b[0;34m\u001b[0m\u001b[0m\n\u001b[0;32m-> 1098\u001b[0;31m     return _parse(\n\u001b[0m\u001b[1;32m   1099\u001b[0m         \u001b[0mflavor\u001b[0m\u001b[0;34m=\u001b[0m\u001b[0mflavor\u001b[0m\u001b[0;34m,\u001b[0m\u001b[0;34m\u001b[0m\u001b[0;34m\u001b[0m\u001b[0m\n\u001b[1;32m   1100\u001b[0m         \u001b[0mio\u001b[0m\u001b[0;34m=\u001b[0m\u001b[0mio\u001b[0m\u001b[0;34m,\u001b[0m\u001b[0;34m\u001b[0m\u001b[0;34m\u001b[0m\u001b[0m\n",
      "\u001b[0;32m~/Documents/python-inovacao-civica/venv/lib/python3.8/site-packages/pandas/io/html.py\u001b[0m in \u001b[0;36m_parse\u001b[0;34m(flavor, io, match, attrs, encoding, displayed_only, **kwargs)\u001b[0m\n\u001b[1;32m    924\u001b[0m     \u001b[0;32melse\u001b[0m\u001b[0;34m:\u001b[0m\u001b[0;34m\u001b[0m\u001b[0;34m\u001b[0m\u001b[0m\n\u001b[1;32m    925\u001b[0m         \u001b[0;32massert\u001b[0m \u001b[0mretained\u001b[0m \u001b[0;32mis\u001b[0m \u001b[0;32mnot\u001b[0m \u001b[0;32mNone\u001b[0m  \u001b[0;31m# for mypy\u001b[0m\u001b[0;34m\u001b[0m\u001b[0;34m\u001b[0m\u001b[0m\n\u001b[0;32m--> 926\u001b[0;31m         \u001b[0;32mraise\u001b[0m \u001b[0mretained\u001b[0m\u001b[0;34m\u001b[0m\u001b[0;34m\u001b[0m\u001b[0m\n\u001b[0m\u001b[1;32m    927\u001b[0m \u001b[0;34m\u001b[0m\u001b[0m\n\u001b[1;32m    928\u001b[0m     \u001b[0mret\u001b[0m \u001b[0;34m=\u001b[0m \u001b[0;34m[\u001b[0m\u001b[0;34m]\u001b[0m\u001b[0;34m\u001b[0m\u001b[0;34m\u001b[0m\u001b[0m\n",
      "\u001b[0;32m~/Documents/python-inovacao-civica/venv/lib/python3.8/site-packages/pandas/io/html.py\u001b[0m in \u001b[0;36m_parse\u001b[0;34m(flavor, io, match, attrs, encoding, displayed_only, **kwargs)\u001b[0m\n\u001b[1;32m    904\u001b[0m \u001b[0;34m\u001b[0m\u001b[0m\n\u001b[1;32m    905\u001b[0m         \u001b[0;32mtry\u001b[0m\u001b[0;34m:\u001b[0m\u001b[0;34m\u001b[0m\u001b[0;34m\u001b[0m\u001b[0m\n\u001b[0;32m--> 906\u001b[0;31m             \u001b[0mtables\u001b[0m \u001b[0;34m=\u001b[0m \u001b[0mp\u001b[0m\u001b[0;34m.\u001b[0m\u001b[0mparse_tables\u001b[0m\u001b[0;34m(\u001b[0m\u001b[0;34m)\u001b[0m\u001b[0;34m\u001b[0m\u001b[0;34m\u001b[0m\u001b[0m\n\u001b[0m\u001b[1;32m    907\u001b[0m         \u001b[0;32mexcept\u001b[0m \u001b[0mValueError\u001b[0m \u001b[0;32mas\u001b[0m \u001b[0mcaught\u001b[0m\u001b[0;34m:\u001b[0m\u001b[0;34m\u001b[0m\u001b[0;34m\u001b[0m\u001b[0m\n\u001b[1;32m    908\u001b[0m             \u001b[0;31m# if `io` is an io-like object, check if it's seekable\u001b[0m\u001b[0;34m\u001b[0m\u001b[0;34m\u001b[0m\u001b[0;34m\u001b[0m\u001b[0m\n",
      "\u001b[0;32m~/Documents/python-inovacao-civica/venv/lib/python3.8/site-packages/pandas/io/html.py\u001b[0m in \u001b[0;36mparse_tables\u001b[0;34m(self)\u001b[0m\n\u001b[1;32m    220\u001b[0m         \u001b[0mlist\u001b[0m \u001b[0mof\u001b[0m \u001b[0mparsed\u001b[0m \u001b[0;34m(\u001b[0m\u001b[0mheader\u001b[0m\u001b[0;34m,\u001b[0m \u001b[0mbody\u001b[0m\u001b[0;34m,\u001b[0m \u001b[0mfooter\u001b[0m\u001b[0;34m)\u001b[0m \u001b[0mtuples\u001b[0m \u001b[0;32mfrom\u001b[0m \u001b[0mtables\u001b[0m\u001b[0;34m.\u001b[0m\u001b[0;34m\u001b[0m\u001b[0;34m\u001b[0m\u001b[0m\n\u001b[1;32m    221\u001b[0m         \"\"\"\n\u001b[0;32m--> 222\u001b[0;31m         \u001b[0mtables\u001b[0m \u001b[0;34m=\u001b[0m \u001b[0mself\u001b[0m\u001b[0;34m.\u001b[0m\u001b[0m_parse_tables\u001b[0m\u001b[0;34m(\u001b[0m\u001b[0mself\u001b[0m\u001b[0;34m.\u001b[0m\u001b[0m_build_doc\u001b[0m\u001b[0;34m(\u001b[0m\u001b[0;34m)\u001b[0m\u001b[0;34m,\u001b[0m \u001b[0mself\u001b[0m\u001b[0;34m.\u001b[0m\u001b[0mmatch\u001b[0m\u001b[0;34m,\u001b[0m \u001b[0mself\u001b[0m\u001b[0;34m.\u001b[0m\u001b[0mattrs\u001b[0m\u001b[0;34m)\u001b[0m\u001b[0;34m\u001b[0m\u001b[0;34m\u001b[0m\u001b[0m\n\u001b[0m\u001b[1;32m    223\u001b[0m         \u001b[0;32mreturn\u001b[0m \u001b[0;34m(\u001b[0m\u001b[0mself\u001b[0m\u001b[0;34m.\u001b[0m\u001b[0m_parse_thead_tbody_tfoot\u001b[0m\u001b[0;34m(\u001b[0m\u001b[0mtable\u001b[0m\u001b[0;34m)\u001b[0m \u001b[0;32mfor\u001b[0m \u001b[0mtable\u001b[0m \u001b[0;32min\u001b[0m \u001b[0mtables\u001b[0m\u001b[0;34m)\u001b[0m\u001b[0;34m\u001b[0m\u001b[0;34m\u001b[0m\u001b[0m\n\u001b[1;32m    224\u001b[0m \u001b[0;34m\u001b[0m\u001b[0m\n",
      "\u001b[0;32m~/Documents/python-inovacao-civica/venv/lib/python3.8/site-packages/pandas/io/html.py\u001b[0m in \u001b[0;36m_parse_tables\u001b[0;34m(self, doc, match, attrs)\u001b[0m\n\u001b[1;32m    550\u001b[0m \u001b[0;34m\u001b[0m\u001b[0m\n\u001b[1;32m    551\u001b[0m         \u001b[0;32mif\u001b[0m \u001b[0;32mnot\u001b[0m \u001b[0mtables\u001b[0m\u001b[0;34m:\u001b[0m\u001b[0;34m\u001b[0m\u001b[0;34m\u001b[0m\u001b[0m\n\u001b[0;32m--> 552\u001b[0;31m             \u001b[0;32mraise\u001b[0m \u001b[0mValueError\u001b[0m\u001b[0;34m(\u001b[0m\u001b[0;34m\"No tables found\"\u001b[0m\u001b[0;34m)\u001b[0m\u001b[0;34m\u001b[0m\u001b[0;34m\u001b[0m\u001b[0m\n\u001b[0m\u001b[1;32m    553\u001b[0m \u001b[0;34m\u001b[0m\u001b[0m\n\u001b[1;32m    554\u001b[0m         \u001b[0mresult\u001b[0m \u001b[0;34m=\u001b[0m \u001b[0;34m[\u001b[0m\u001b[0;34m]\u001b[0m\u001b[0;34m\u001b[0m\u001b[0;34m\u001b[0m\u001b[0m\n",
      "\u001b[0;31mValueError\u001b[0m: No tables found"
     ]
    }
   ],
   "source": [
    "url = 'https://www.camara.leg.br/deputados/quem-sao/resultado?search=&partido=&uf=RO&legislatura=&sexo='\n",
    "#url = 'https://pt.wikipedia.org/wiki/Lista_de_parlamentares_de_Rond%C3%B4nia'\n",
    "tables = pd.read_html(url)\n"
   ]
  },
  {
   "cell_type": "code",
   "execution_count": 4,
   "id": "bbeb93cd",
   "metadata": {},
   "outputs": [
    {
     "data": {
      "text/plain": [
       "[           Senadores eleitos                  Naturalidade  Mandatos  \\\n",
       " 0              Odacir Soares                Rio Branco, AC         2   \n",
       " 1               Valdir Raupp           São João do Sul, SC         2   \n",
       " 2   Claudionor Roriz[nota 3]                    Jardim, CE         1   \n",
       " 3     Galvão Modesto[nota 3]                   Corumbá, MS         1   \n",
       " 4        Olavo Pires[nota 4]                   Catalão, GO         1   \n",
       " 5             Ronaldo Aragão  Santa Cruz do Capibaribe, PE         1   \n",
       " 6    Ernandes Amorim[nota 5]                   Itagibá, BA         1   \n",
       " 7        José Bianco[nota 6]                 Apucarana, PR         1   \n",
       " 8                 Amir Lando                 Concórdia, SC         1   \n",
       " 9              Fátima Cleide               Porto Velho, RO         1   \n",
       " 10   Expedito Júnior[nota 7]                Guararapes, SP         1   \n",
       " 11                Ivo Cassol                 Concórdia, SC         1   \n",
       " 12      Acir Gurgacz[nota 7]                  Cascavel, PR         1   \n",
       " 13            Confúcio Moura                Dianópolis, TO         1   \n",
       " 14            Marcos Rogério                 Ji-Paraná, RO         1   \n",
       " \n",
       "    Ano da eleição  \n",
       " 0      1982, 1990  \n",
       " 1      2002, 2010  \n",
       " 2            1982  \n",
       " 3            1982  \n",
       " 4            1986  \n",
       " 5            1986  \n",
       " 6            1994  \n",
       " 7            1994  \n",
       " 8            1998  \n",
       " 9            2002  \n",
       " 10           2006  \n",
       " 11           2010  \n",
       " 12           2014  \n",
       " 13           2018  \n",
       " 14           2018  ,\n",
       "        Deputados federais eleitos               Naturalidade  Mandatos  \\\n",
       " 0                   Marinha Raupp                Maracaí, SP         6   \n",
       " 1                 Nilton Capixaba              Cuparaque, MG         4   \n",
       " 2                Aluísio Ferreira      Bragança Paulista, SP         3   \n",
       " 3                Jerônimo Santana                  Jataí, GO         3   \n",
       " 4   Expedito Júnior[nota 8][8][9]             Guararapes, SP         3   \n",
       " 5                  Confúcio Moura             Dianópolis, TO         3   \n",
       " 6         Lindomar Garçon[nota 9]           Rondonópolis, MT         3   \n",
       " 7            Mauro Nazif[nota 10]         Barra do Piraí, RJ         3   \n",
       " 8                    Assis Canuto              Itumbiara, GO         2   \n",
       " 9                 Francisco Sales                Grossos, RN         2   \n",
       " 10                   Rita Furtado  Campos dos Goytacazes, RJ         2   \n",
       " 11        Raquel Cândido[nota 11]          Guajará-Mirim, RO         2   \n",
       " 12              Carlinhos Camurça          Guajará-Mirim, RO         2   \n",
       " 13              Euripedes Miranda                Cardoso, SP         2   \n",
       " 14                  Agnaldo Muniz    Assis Chateaubriand, PR         2   \n",
       " 15                Sérgio Carvalho              Paranavaí, PR         2   \n",
       " 16               Anselmo de Jesus             Mandaguari, PR         2   \n",
       " 17               Eduardo Valverde         Rio de Janeiro, RJ         2   \n",
       " 18                 Moreira Mendes              São Paulo, SP         2   \n",
       " 19         Natan Donadon[nota 11]               Porecatu, PR         2   \n",
       " 20                  Expedito Neto            Porto Velho, RO         2   \n",
       " 21                 Lucio Mosquini           Rondonópolis, MT         2   \n",
       " 22               Mariana Carvalho              São Paulo, SP         2   \n",
       " 23                 Joaquim Rondon                 Cuiabá, MT         1   \n",
       " 24                Renato Medeiros                  [nota 12]         1   \n",
       " 25      Paulo Nunes Leal[nota 13]              Carangola, MG         1   \n",
       " 26                   Isaac Newton        Cruzeiro do Sul, AC         1   \n",
       " 27                Chiquilito Erse                 Manaus, AM         1   \n",
       " 28                Leônidas Rachid          Rosário Oeste, MT         1   \n",
       " 29                  Múcio Athayde          Montes Claros, MG         1   \n",
       " 30                    Olavo Pires                Catalão, GO         1   \n",
       " 31                  Orestes Muniz       Conselheiro Pena, MG         1   \n",
       " 32                    Chagas Neto                 Sobral, CE         1   \n",
       " 33                    José Guedes                Itacajá, TO         1   \n",
       " 34                     José Viana     Brotas de Macaúbas, BA         1   \n",
       " 35                 Edison Fidelis              Apucarana, PR         1   \n",
       " 36          Jabes Rabelo[nota 11]           Campo Mourão, PR         1   \n",
       " 37               Maurício Calixto                  Arcos, MG         1   \n",
       " 38           Nobel Moura[nota 11]             Dianópolis, TO         1   \n",
       " 39                 Pascoal Novais   Presidente Venceslau, SP         1   \n",
       " 40               Reditario Cassol              Concórdia, SC         1   \n",
       " 41                  Emerson Pires                Goiânia, GO         1   \n",
       " 42                Ildemar Küssler               Palmitos, SC         1   \n",
       " 43              Silvernani Santos                 Trairi, CE         1   \n",
       " 44                  Oscar Andrade                Juatuba, MG         1   \n",
       " 45                Miguel de Souza                 Cubati, RO         1   \n",
       " 46                Ernandes Amorim                Itagibá, BA         1   \n",
       " 47             Carlos Magno Ramos             Coromandel, MG         1   \n",
       " 48                Máriton Holanda                 Oeiras, PI         1   \n",
       " 49                   Luiz Cláudio           Bom Conselho, PE         1   \n",
       " 50         Marcos Rogério[nota 9]              Ji-Paraná, RO         1   \n",
       " 51               Jaqueline Cassol    São Miguel do Oeste, SC         1   \n",
       " 52               João Chrisóstomo                   Tefé, AM         1   \n",
       " 53                     Léo Moraes          Foz do Iguaçu, PR         1   \n",
       " 54                Silvia Cristina               Linhares, ES         1   \n",
       " \n",
       "                         Ano da eleição  \n",
       " 0   1994, 1998, 2002, 2006, 2010, 2014  \n",
       " 1               1998, 2002, 2010, 2014  \n",
       " 2                     1947, 1950, 1958  \n",
       " 3                     1970, 1974, 1978  \n",
       " 4                     1986, 1994, 1998  \n",
       " 5                     1994, 1998, 2002  \n",
       " 6                     2006, 2010, 2014  \n",
       " 7                     2006, 2010, 2018  \n",
       " 8                           1982, 1986  \n",
       " 9                           1982, 1986  \n",
       " 10                          1982, 1986  \n",
       " 11                          1986, 1990  \n",
       " 12                          1990, 1994  \n",
       " 13                          1994, 1998  \n",
       " 14                          1998, 2002  \n",
       " 15                          1998, 2002  \n",
       " 16                          2002, 2006  \n",
       " 17                          2002, 2006  \n",
       " 18                          2006, 2010  \n",
       " 19                          2006, 2010  \n",
       " 20                          2014, 2018  \n",
       " 21                          2014, 2018  \n",
       " 22                          2014, 2018  \n",
       " 23                                1954  \n",
       " 24                                1962  \n",
       " 25                                1966  \n",
       " 26                                1978  \n",
       " 27                                1982  \n",
       " 28                                1982  \n",
       " 29                                1982  \n",
       " 30                                1982  \n",
       " 31                                1982  \n",
       " 32                                1986  \n",
       " 33                                1986  \n",
       " 34                                1986  \n",
       " 35                                1990  \n",
       " 36                                1990  \n",
       " 37                                1990  \n",
       " 38                                1990  \n",
       " 39                                1990  \n",
       " 40                                1990  \n",
       " 41                                1994  \n",
       " 42                                1994  \n",
       " 43                                1994  \n",
       " 44                                1998  \n",
       " 45                                2002  \n",
       " 46                                2006  \n",
       " 47                                2010  \n",
       " 48                                2010  \n",
       " 49                                2014  \n",
       " 50                                2014  \n",
       " 51                                2018  \n",
       " 52                                2018  \n",
       " 53                                2018  \n",
       " 54                                2018  ,\n",
       "                   vde Eleições estaduais em Rondônia  \\\n",
       " 0  Território Federal de Rondônia • 1982 • 1986 •...   \n",
       " 1  Em itálico as ocasiões em que não houve eleiçã...   \n",
       " \n",
       "                 vde Eleições estaduais em Rondônia.1  \\\n",
       " 0  Território Federal de Rondônia • 1982 • 1986 •...   \n",
       " 1  Em itálico as ocasiões em que não houve eleiçã...   \n",
       " \n",
       "                 vde Eleições estaduais em Rondônia.2  \n",
       " 0                                                NaN  \n",
       " 1  Em itálico as ocasiões em que não houve eleiçã...  ,\n",
       "   vdeParlamentares do Congresso Nacional do Brasil por estado  \\\n",
       " 0  Acre Alagoas Amapá Amazonas Bahia Ceará Distri...            \n",
       " \n",
       "   vdeParlamentares do Congresso Nacional do Brasil por estado.1  \n",
       " 0  Acre Alagoas Amapá Amazonas Bahia Ceará Distri...             ]"
      ]
     },
     "execution_count": 4,
     "metadata": {},
     "output_type": "execute_result"
    }
   ],
   "source": [
    "tables"
   ]
  },
  {
   "cell_type": "markdown",
   "id": "db63e93d",
   "metadata": {
    "id": "db63e93d"
   },
   "source": [
    "### Quantas tabelas existem na página?"
   ]
  },
  {
   "cell_type": "code",
   "execution_count": null,
   "id": "74363a0c",
   "metadata": {
    "id": "74363a0c"
   },
   "outputs": [],
   "source": []
  },
  {
   "cell_type": "markdown",
   "id": "79e2ce18",
   "metadata": {
    "id": "79e2ce18"
   },
   "source": [
    "### Qual o total de senadores?"
   ]
  },
  {
   "cell_type": "code",
   "execution_count": null,
   "id": "dcec24d2",
   "metadata": {
    "id": "dcec24d2"
   },
   "outputs": [],
   "source": []
  },
  {
   "cell_type": "markdown",
   "id": "dd782b0e",
   "metadata": {
    "id": "dd782b0e"
   },
   "source": [
    "### Qual o total de deputados federais?"
   ]
  },
  {
   "cell_type": "code",
   "execution_count": null,
   "id": "e2d5f589",
   "metadata": {
    "id": "e2d5f589"
   },
   "outputs": [],
   "source": []
  },
  {
   "cell_type": "markdown",
   "id": "e46e7b1a",
   "metadata": {
    "id": "e46e7b1a"
   },
   "source": [
    "### Qual o total de deputados e senadores por cidade?\n",
    "\n",
    "dica: `groupby`"
   ]
  },
  {
   "cell_type": "code",
   "execution_count": null,
   "id": "adb82dcf",
   "metadata": {
    "id": "adb82dcf"
   },
   "outputs": [],
   "source": []
  },
  {
   "cell_type": "markdown",
   "id": "149673f0",
   "metadata": {
    "id": "149673f0"
   },
   "source": [
    "### Qual deputado/senador com mais mandatos?"
   ]
  },
  {
   "cell_type": "code",
   "execution_count": null,
   "id": "0be894db",
   "metadata": {
    "id": "0be894db"
   },
   "outputs": [],
   "source": []
  },
  {
   "cell_type": "markdown",
   "id": "fdeba3c0",
   "metadata": {
    "id": "fdeba3c0"
   },
   "source": [
    "### Desafio extra\n",
    "\n",
    "Esse desafio traz uma ideia extra de cruzamento de dados. Fique a vontade para tentar encontrar essas respostas :)\n",
    "\n",
    "- E se você cruzasse esses dados com os dados da CEAP? Quanto o deputado com maior número de candidaturas gastou?"
   ]
  }
 ],
 "metadata": {
  "colab": {
   "name": "desafio2.ipynb",
   "provenance": []
  },
  "kernelspec": {
   "display_name": "Python 3 (ipykernel)",
   "language": "python",
   "name": "python3"
  },
  "language_info": {
   "codemirror_mode": {
    "name": "ipython",
    "version": 3
   },
   "file_extension": ".py",
   "mimetype": "text/x-python",
   "name": "python",
   "nbconvert_exporter": "python",
   "pygments_lexer": "ipython3",
   "version": "3.8.2"
  }
 },
 "nbformat": 4,
 "nbformat_minor": 5
}
