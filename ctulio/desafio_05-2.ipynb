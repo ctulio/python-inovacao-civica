{
 "cells": [
  {
   "cell_type": "markdown",
   "id": "90fd5ca6",
   "metadata": {},
   "source": [
    "# Desafio 2: Licitações publicadas hoje no Diário Oficial da União"
   ]
  },
  {
   "cell_type": "markdown",
   "id": "4805e4af",
   "metadata": {},
   "source": [
    "Neste desafio você irá **acessar o Portal de Compras do Governo Federal (ComprasNET)** e raspar a **descrição** de todas as licitações que foram publicadas hoje no Diário Oficial da União.\n",
    "\n",
    "Antes de começar o desafio, [acesse o site](http://comprasnet.gov.br/ConsultaLicitacoes/ConsLicitacaoDia.asp) e se familiarize com ele. É esperado que tenha bastantes licitações sendo publicadas diariamente. É assim mesmo :)\n",
    "\n",
    "Este desafio é mais livre, assim você pode experimentar mais :)"
   ]
  },
  {
   "cell_type": "markdown",
   "id": "4c4bc5c3",
   "metadata": {},
   "source": [
    "## Importando as bibliotecas\n",
    "\n",
    "O fluxo de raspagem deve ser:\n",
    "\n",
    "1. Acessar a primeira página que apresenta as licitações de hoje\n",
    "2. Raspar a descrição de todas as licitações da página individualmente  \n",
    "   2.1. Raspe como se fosse um bloco de texto corrido mesmo  \n",
    "   2.2. Sem raspar nenhuma etiqueta HTML junto com o texto   \n",
    "3. Adicionar os itens da página em um `DataFrame` da `pandas` apenas com os campos `data` (dia de hoje) e `descricao` (descrição da licitação)\n",
    "4. Repetir os passos 1, 2 e 3 para cada página\n",
    "5. Salvar o `DataFrame` em JSON\n",
    "\n",
    "Realize aqui os `import` necessários para esta tarefa:"
   ]
  },
  {
   "cell_type": "code",
   "execution_count": 3,
   "id": "95697f5e",
   "metadata": {},
   "outputs": [],
   "source": [
    "import datetime\n",
    "\n",
    "import pandas as pd\n",
    "from requests_html import HTMLSession"
   ]
  },
  {
   "cell_type": "markdown",
   "id": "1956ae9e",
   "metadata": {},
   "source": [
    "## Acessando a página inicial"
   ]
  },
  {
   "cell_type": "code",
   "execution_count": null,
   "id": "8a99db20",
   "metadata": {},
   "outputs": [],
   "source": []
  },
  {
   "cell_type": "code",
   "execution_count": 4,
   "id": "887df39a",
   "metadata": {},
   "outputs": [],
   "source": [
    "url = \"http://comprasnet.gov.br/ConsultaLicitacoes/ConsLicitacaoDia.asp\"\n",
    "session = HTMLSession()\n",
    "response = session.get(url)"
   ]
  },
  {
   "cell_type": "markdown",
   "id": "95c6e3b0",
   "metadata": {},
   "source": [
    "## Extraindo os itens da página inicial"
   ]
  },
  {
   "cell_type": "code",
   "execution_count": 12,
   "id": "4e21fe57",
   "metadata": {},
   "outputs": [],
   "source": [
    "licitacoes = []\n",
    "rows = response.html.xpath(\"//form\")\n",
    "for row in rows:\n",
    "    #descricao = row.xpath(\"./form/table/tr[2]//text()\") # Gabarito\n",
    "    descricao = row.xpath(\"./form/table/tr[@class = 'tex3']/td/text()\")\n",
    "    descricao = '\\n'.join(descricao).strip()\n",
    "    item = {\n",
    "        \"data\": datetime.date.today(),\n",
    "        \"descricao\": descricao,\n",
    "    }\n",
    "    licitacoes.append(item)"
   ]
  },
  {
   "cell_type": "markdown",
   "id": "3dce0708",
   "metadata": {},
   "source": [
    "## Adicionando ao DataFrame"
   ]
  },
  {
   "cell_type": "code",
   "execution_count": 13,
   "id": "0fd81a90",
   "metadata": {},
   "outputs": [
    {
     "data": {
      "text/html": [
       "<div>\n",
       "<style scoped>\n",
       "    .dataframe tbody tr th:only-of-type {\n",
       "        vertical-align: middle;\n",
       "    }\n",
       "\n",
       "    .dataframe tbody tr th {\n",
       "        vertical-align: top;\n",
       "    }\n",
       "\n",
       "    .dataframe thead th {\n",
       "        text-align: right;\n",
       "    }\n",
       "</style>\n",
       "<table border=\"1\" class=\"dataframe\">\n",
       "  <thead>\n",
       "    <tr style=\"text-align: right;\">\n",
       "      <th></th>\n",
       "      <th>data</th>\n",
       "      <th>descricao</th>\n",
       "    </tr>\n",
       "  </thead>\n",
       "  <tbody>\n",
       "    <tr>\n",
       "      <th>0</th>\n",
       "      <td>2021-09-13</td>\n",
       "      <td>Objeto: Reforma do Telhado do Laboratório de P...</td>\n",
       "    </tr>\n",
       "    <tr>\n",
       "      <th>1</th>\n",
       "      <td>2021-09-13</td>\n",
       "      <td>Objeto: Contratação de empresa especializada n...</td>\n",
       "    </tr>\n",
       "    <tr>\n",
       "      <th>2</th>\n",
       "      <td>2021-09-13</td>\n",
       "      <td>Objeto: Contratação de serviços de engenharia ...</td>\n",
       "    </tr>\n",
       "    <tr>\n",
       "      <th>3</th>\n",
       "      <td>2021-09-13</td>\n",
       "      <td>Objeto: Instalação da rede HF Celular em Porto...</td>\n",
       "    </tr>\n",
       "    <tr>\n",
       "      <th>4</th>\n",
       "      <td>2021-09-13</td>\n",
       "      <td>Objeto: A escolha da proposta mais vantajosa p...</td>\n",
       "    </tr>\n",
       "    <tr>\n",
       "      <th>5</th>\n",
       "      <td>2021-09-13</td>\n",
       "      <td>Objeto: Contratação de empresa especializada d...</td>\n",
       "    </tr>\n",
       "    <tr>\n",
       "      <th>6</th>\n",
       "      <td>2021-09-13</td>\n",
       "      <td>Objeto: Serviço de Engenharia para forneciment...</td>\n",
       "    </tr>\n",
       "    <tr>\n",
       "      <th>7</th>\n",
       "      <td>2021-09-13</td>\n",
       "      <td>Objeto: Contratação de empresa especializada p...</td>\n",
       "    </tr>\n",
       "    <tr>\n",
       "      <th>8</th>\n",
       "      <td>2021-09-13</td>\n",
       "      <td>Objeto: Contratação de empresa especializada p...</td>\n",
       "    </tr>\n",
       "    <tr>\n",
       "      <th>9</th>\n",
       "      <td>2021-09-13</td>\n",
       "      <td>Objeto: Registro de preços para contratação de...</td>\n",
       "    </tr>\n",
       "    <tr>\n",
       "      <th>10</th>\n",
       "      <td>2021-09-13</td>\n",
       "      <td>Objeto: Registro de Preço para aquisição event...</td>\n",
       "    </tr>\n",
       "    <tr>\n",
       "      <th>11</th>\n",
       "      <td>2021-09-13</td>\n",
       "      <td>Objeto: Pregão Eletrônico -  Aquisição de anti...</td>\n",
       "    </tr>\n",
       "    <tr>\n",
       "      <th>12</th>\n",
       "      <td>2021-09-13</td>\n",
       "      <td>Objeto: Pregão Eletrônico -  Contratação de se...</td>\n",
       "    </tr>\n",
       "    <tr>\n",
       "      <th>13</th>\n",
       "      <td>2021-09-13</td>\n",
       "      <td>Objeto: Pregão Eletrônico -  O objeto da prese...</td>\n",
       "    </tr>\n",
       "    <tr>\n",
       "      <th>14</th>\n",
       "      <td>2021-09-13</td>\n",
       "      <td>Objeto: Pregão Eletrônico -  Escolha da propos...</td>\n",
       "    </tr>\n",
       "    <tr>\n",
       "      <th>15</th>\n",
       "      <td>2021-09-13</td>\n",
       "      <td>Objeto: Pregão Eletrônico -  Aquisição de mate...</td>\n",
       "    </tr>\n",
       "    <tr>\n",
       "      <th>16</th>\n",
       "      <td>2021-09-13</td>\n",
       "      <td>Objeto: Pregão Eletrônico -  Locação de mesas ...</td>\n",
       "    </tr>\n",
       "    <tr>\n",
       "      <th>17</th>\n",
       "      <td>2021-09-13</td>\n",
       "      <td>Objeto: Pregão Eletrônico -  Aquisição de equi...</td>\n",
       "    </tr>\n",
       "    <tr>\n",
       "      <th>18</th>\n",
       "      <td>2021-09-13</td>\n",
       "      <td>Objeto: Pregão Eletrônico -  Aquisição de apar...</td>\n",
       "    </tr>\n",
       "    <tr>\n",
       "      <th>19</th>\n",
       "      <td>2021-09-13</td>\n",
       "      <td>Objeto: Pregão Eletrônico -  Registro de preço...</td>\n",
       "    </tr>\n",
       "  </tbody>\n",
       "</table>\n",
       "</div>"
      ],
      "text/plain": [
       "          data                                          descricao\n",
       "0   2021-09-13  Objeto: Reforma do Telhado do Laboratório de P...\n",
       "1   2021-09-13  Objeto: Contratação de empresa especializada n...\n",
       "2   2021-09-13  Objeto: Contratação de serviços de engenharia ...\n",
       "3   2021-09-13  Objeto: Instalação da rede HF Celular em Porto...\n",
       "4   2021-09-13  Objeto: A escolha da proposta mais vantajosa p...\n",
       "5   2021-09-13  Objeto: Contratação de empresa especializada d...\n",
       "6   2021-09-13  Objeto: Serviço de Engenharia para forneciment...\n",
       "7   2021-09-13  Objeto: Contratação de empresa especializada p...\n",
       "8   2021-09-13  Objeto: Contratação de empresa especializada p...\n",
       "9   2021-09-13  Objeto: Registro de preços para contratação de...\n",
       "10  2021-09-13  Objeto: Registro de Preço para aquisição event...\n",
       "11  2021-09-13  Objeto: Pregão Eletrônico -  Aquisição de anti...\n",
       "12  2021-09-13  Objeto: Pregão Eletrônico -  Contratação de se...\n",
       "13  2021-09-13  Objeto: Pregão Eletrônico -  O objeto da prese...\n",
       "14  2021-09-13  Objeto: Pregão Eletrônico -  Escolha da propos...\n",
       "15  2021-09-13  Objeto: Pregão Eletrônico -  Aquisição de mate...\n",
       "16  2021-09-13  Objeto: Pregão Eletrônico -  Locação de mesas ...\n",
       "17  2021-09-13  Objeto: Pregão Eletrônico -  Aquisição de equi...\n",
       "18  2021-09-13  Objeto: Pregão Eletrônico -  Aquisição de apar...\n",
       "19  2021-09-13  Objeto: Pregão Eletrônico -  Registro de preço..."
      ]
     },
     "execution_count": 13,
     "metadata": {},
     "output_type": "execute_result"
    }
   ],
   "source": [
    "df_licitacoes = pd.DataFrame(licitacoes)\n",
    "df_licitacoes"
   ]
  },
  {
   "cell_type": "markdown",
   "id": "b11124de",
   "metadata": {},
   "source": [
    "## Replicando para todas as páginas\n",
    "\n",
    "Recomenda-se transformar a extração de conteúdo da página em uma função que pode ser chamada para cada página."
   ]
  },
  {
   "cell_type": "code",
   "execution_count": 5,
   "id": "421f45bc",
   "metadata": {},
   "outputs": [],
   "source": [
    "def extract_licitacoes(response):\n",
    "    licitacoes = []\n",
    "    rows = response.html.xpath(\"//form\")\n",
    "    for row in rows:\n",
    "        descricao = row.xpath(\"./form/table/tr[2]//text()\")\n",
    "        descricao = '\\n'.join(descricao).strip()\n",
    "        item = {\n",
    "            \"data\": datetime.date.today(),\n",
    "            \"descricao\": descricao,\n",
    "        }\n",
    "        licitacoes.append(item)\n",
    "    return licitacoes"
   ]
  },
  {
   "cell_type": "markdown",
   "id": "04acb264",
   "metadata": {},
   "source": [
    "E continuar o fluxo de extrações, página a página."
   ]
  },
  {
   "cell_type": "code",
   "execution_count": 6,
   "id": "b3703e89",
   "metadata": {},
   "outputs": [],
   "source": [
    "page = 1\n",
    "next_page_button = response.html.xpath(\"//input[@name='proxima']\")\n",
    "while next_page_button:\n",
    "    page += 1\n",
    "    next_page_url = f\"{url}?pagina={page}\"\n",
    "    response = session.get(next_page_url)\n",
    "    licitacoes = extract_licitacoes(response)\n",
    "    df_licitacoes = df_licitacoes.append(pd.DataFrame(licitacoes))\n",
    "    next_page_button = response.html.xpath(\"//input[@name='proxima']\")"
   ]
  },
  {
   "cell_type": "markdown",
   "id": "f65fbea3",
   "metadata": {},
   "source": [
    "## Salvando em JSON"
   ]
  },
  {
   "cell_type": "code",
   "execution_count": 7,
   "id": "4a071701",
   "metadata": {},
   "outputs": [],
   "source": [
    "df_licitacoes.to_json('licitacoes.json', orient=\"records\", date_format=\"iso\")"
   ]
  },
  {
   "cell_type": "code",
   "execution_count": 15,
   "id": "75cfb450",
   "metadata": {},
   "outputs": [],
   "source": [
    "url = \"https://rondoniaovivo.com\"\n",
    "session = HTMLSession()\n",
    "response = session.get(url)"
   ]
  },
  {
   "cell_type": "code",
   "execution_count": 80,
   "id": "47765d19",
   "metadata": {},
   "outputs": [
    {
     "data": {
      "text/plain": [
       "['CPI da Covid faz requerimentos sobre precatórios do Sintero',\n",
       " 'Homicídios prende assassino de mãe que protegeu o bebê e marido']"
      ]
     },
     "execution_count": 80,
     "metadata": {},
     "output_type": "execute_result"
    }
   ],
   "source": [
    "\n",
    "response.html.xpath(\"//div[@class = 'news-slider-layer first']//p/text()\")#/a/div/p\")"
   ]
  },
  {
   "cell_type": "code",
   "execution_count": 31,
   "id": "bd02cc58",
   "metadata": {},
   "outputs": [
    {
     "data": {
      "text/plain": [
       "list"
      ]
     },
     "execution_count": 31,
     "metadata": {},
     "output_type": "execute_result"
    }
   ],
   "source": [
    "type(t)"
   ]
  },
  {
   "cell_type": "code",
   "execution_count": 22,
   "id": "962786ed",
   "metadata": {},
   "outputs": [
    {
     "data": {
      "text/plain": [
       "'OBSCURO\\nCPI da Covid faz requerimentos sobre precatórios do Sintero'"
      ]
     },
     "execution_count": 22,
     "metadata": {},
     "output_type": "execute_result"
    }
   ],
   "source": [
    "t[0].text"
   ]
  },
  {
   "cell_type": "code",
   "execution_count": null,
   "id": "18e7d17f",
   "metadata": {},
   "outputs": [],
   "source": []
  }
 ],
 "metadata": {
  "kernelspec": {
   "display_name": "Python 3 (ipykernel)",
   "language": "python",
   "name": "python3"
  },
  "language_info": {
   "codemirror_mode": {
    "name": "ipython",
    "version": 3
   },
   "file_extension": ".py",
   "mimetype": "text/x-python",
   "name": "python",
   "nbconvert_exporter": "python",
   "pygments_lexer": "ipython3",
   "version": "3.8.2"
  }
 },
 "nbformat": 4,
 "nbformat_minor": 5
}
