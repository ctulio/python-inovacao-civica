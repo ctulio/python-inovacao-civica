{
 "cells": [
  {
   "cell_type": "code",
   "execution_count": 1,
   "id": "1392b59e",
   "metadata": {},
   "outputs": [
    {
     "name": "stdout",
     "output_type": "stream",
     "text": [
      "abacate\r\n",
      "morango\r\n"
     ]
    }
   ],
   "source": [
    "## TESTE DE ESCRITA EM ARQUIVOS\n",
    "arquivo = open('file.txt', 'w') # read, write, append, binary ('r', 'w', 'a', 'b')\n",
    "arquivo.write('abacate\\n')\n",
    "arquivo.write('morango\\n')\n",
    "arquivo.close()\n",
    "!cat file.txt\n",
    "\n"
   ]
  },
  {
   "cell_type": "code",
   "execution_count": 2,
   "id": "242d7287",
   "metadata": {},
   "outputs": [
    {
     "name": "stdout",
     "output_type": "stream",
     "text": [
      "maça\r\n"
     ]
    }
   ],
   "source": [
    "arquivo = open('file.txt', 'w') # 'w' sobrescreve o arquivo\n",
    "arquivo.write('maça\\n')\n",
    "arquivo.close()\n",
    "!cat file.txt"
   ]
  },
  {
   "cell_type": "code",
   "execution_count": 3,
   "id": "e784e00e",
   "metadata": {},
   "outputs": [
    {
     "name": "stdout",
     "output_type": "stream",
     "text": [
      "maça\r\n",
      "morango\r\n",
      "abacate"
     ]
    }
   ],
   "source": [
    "arquivo = open('file.txt', 'a') # 'a' add ao final do arquivo\n",
    "arquivo.write('morango\\nabacate')\n",
    "arquivo.close()\n",
    "!cat file.txt"
   ]
  },
  {
   "cell_type": "code",
   "execution_count": 4,
   "id": "9473599b",
   "metadata": {},
   "outputs": [
    {
     "name": "stdout",
     "output_type": "stream",
     "text": [
      "consulta_cand_2020_PE_desafio1.csv  desafio_1_resolucao.ipynb\r\n",
      "desafio_1.ipynb\t\t\t    leiame.pdf\r\n"
     ]
    }
   ],
   "source": [
    "!rm file.txt\n",
    "!ls\n",
    "# FIM DO TESTE"
   ]
  },
  {
   "cell_type": "markdown",
   "id": "97a2694e",
   "metadata": {},
   "source": [
    "### Dicas\n",
    "\n",
    "*   Antes de ir pro código, leia a descrição do desafio e busque definir pequenos passos para chegar a solução.  \n",
    "*   Leia o código para se familiarizar com a solução que está em desenvolvimento;\n",
    "\n",
    "*  Tente entender o que o código faz ou significa. \n",
    "\n",
    "*  Busque encontrar as partes que faltam ser colocadas e erros no código que precisam ser corrigidos;\n",
    "\n",
    "*  Se aparecer erros, procure corrigir e/ou repita os passos acima.\n",
    "\n",
    "\n",
    "\n",
    "# 1. Desafio: dicionário\n",
    "\n",
    "Utilizando o conhecimento que obtivemos essa semana, utilize o Google Colab ou o Jupyter Notebook  para fazer um programa que consiga responder às seguintes perguntas:\n",
    "\n",
    "1. Quantas pessoas candidatas no estado de Pernambuco seriam mais novas do que você?\n",
    "2. Quantos porcentos isso representa em relação ao total de pessoas candidatas?\n",
    "\n",
    "Dica: Use como referência a coluna \"NR_IDADE_DATA_POSSE\" do conjunto de dados \"consulta_cand_2020_PE_desafio1.csv\"\n",
    "\n",
    "\n",
    "> Fonte: TSE. Repositório de dados eleitorais. Conjunto de dados [Candidatos - 2020](https://www.tse.jus.br/eleicoes/estatisticas/repositorio-de-dados-eleitorais-1)"
   ]
  },
  {
   "cell_type": "markdown",
   "id": "623268b2",
   "metadata": {},
   "source": [
    "### Importe as bibliotecas que usuará no código"
   ]
  },
  {
   "cell_type": "code",
   "execution_count": 5,
   "id": "287a13e3",
   "metadata": {},
   "outputs": [],
   "source": [
    "from csv import reader\n",
    "from datetime import date as dt"
   ]
  },
  {
   "cell_type": "markdown",
   "id": "bfc5092a",
   "metadata": {},
   "source": [
    "### Determine sua idade"
   ]
  },
  {
   "cell_type": "code",
   "execution_count": 6,
   "id": "a258278d",
   "metadata": {},
   "outputs": [
    {
     "name": "stdout",
     "output_type": "stream",
     "text": [
      "Qual o ano do seu nascimento?1967\n"
     ]
    }
   ],
   "source": [
    "ano_corrente = dt.today().year\n",
    "ano_nascimento = int(input('Qual o ano do seu nascimento?'))\n",
    "idade = ano_corrente - ano_nascimento"
   ]
  },
  {
   "cell_type": "markdown",
   "id": "4ae99d52",
   "metadata": {},
   "source": [
    "\n",
    "### Leia o csv e converta para dicionário"
   ]
  },
  {
   "cell_type": "code",
   "execution_count": 7,
   "id": "ad03e5a6",
   "metadata": {},
   "outputs": [
    {
     "data": {
      "text/plain": [
       "\"\\narquivo =open('../../../conjuntos_dados/consulta_cand_2020_RN.csv', 'r', encoding='latin_1', sep=';')\\npalavras = []\\nfor linha in arquivo:\\n    #linha = linha.strip()\\n    palavras.append(linha)\\narquivo.close() # desnecessário fechar o arquivo se utilizada a sintax 'with open'\\n\""
      ]
     },
     "execution_count": 7,
     "metadata": {},
     "output_type": "execute_result"
    }
   ],
   "source": [
    "'''\n",
    "arquivo =open('../../../conjuntos_dados/consulta_cand_2020_RN.csv', 'r', encoding='latin_1', sep=';')\n",
    "palavras = []\n",
    "for linha in arquivo:\n",
    "    #linha = linha.strip()\n",
    "    palavras.append(linha)\n",
    "arquivo.close() # desnecessário fechar o arquivo se utilizada a sintax 'with open'\n",
    "'''"
   ]
  },
  {
   "cell_type": "code",
   "execution_count": 8,
   "id": "9890ec89",
   "metadata": {},
   "outputs": [],
   "source": [
    "#palavras[:2]"
   ]
  },
  {
   "cell_type": "code",
   "execution_count": 9,
   "id": "1f81ad9f",
   "metadata": {
    "scrolled": true
   },
   "outputs": [
    {
     "name": "stdout",
     "output_type": "stream",
     "text": [
      "[['DT_GERACAO;\"HH_GERACAO\";\"ANO_ELEICAO\";\"CD_TIPO_ELEICAO\";\"NM_TIPO_ELEICAO\";\"NR_TURNO\";\"CD_ELEICAO\";\"DS_ELEICAO\";\"DT_ELEICAO\";\"TP_ABRANGENCIA\";\"SG_UF\";\"SG_UE\";\"NM_UE\";\"CD_CARGO\";\"DS_CARGO\";\"SQ_CANDIDATO\";\"NR_CANDIDATO\";\"NM_CANDIDATO\";\"NM_URNA_CANDIDATO\";\"NM_SOCIAL_CANDIDATO\";\"NR_CPF_CANDIDATO\";\"NM_EMAIL\";\"CD_SITUACAO_CANDIDATURA\";\"DS_SITUACAO_CANDIDATURA\";\"CD_DETALHE_SITUACAO_CAND\";\"DS_DETALHE_SITUACAO_CAND\";\"TP_AGREMIACAO\";\"NR_PARTIDO\";\"SG_PARTIDO\";\"NM_PARTIDO\";\"SQ_COLIGACAO\";\"NM_COLIGACAO\";\"DS_COMPOSICAO_COLIGACAO\";\"CD_NACIONALIDADE\";\"DS_NACIONALIDADE\";\"SG_UF_NASCIMENTO\";\"CD_MUNICIPIO_NASCIMENTO\";\"NM_MUNICIPIO_NASCIMENTO\";\"DT_NASCIMENTO\";\"NR_IDADE_DATA_POSSE\";\"NR_TITULO_ELEITORAL_CANDIDATO\";\"CD_GENERO\";\"DS_GENERO\";\"CD_GRAU_INSTRUCAO\";\"DS_GRAU_INSTRUCAO\";\"CD_ESTADO_CIVIL\";\"DS_ESTADO_CIVIL\";\"CD_COR_RACA\";\"DS_COR_RACA\";\"CD_OCUPACAO\";\"DS_OCUPACAO\";\"VR_DESPESA_MAX_CAMPANHA\";\"CD_SIT_TOT_TURNO\";\"DS_SIT_TOT_TURNO\";\"ST_REELEICAO\";\"ST_DECLARAR_BENS\";\"NR_PROTOCOLO_CANDIDATURA\";\"NR_PROCESSO\";\"CD_SITUACAO_CANDIDATO_PLEITO\";\"DS_SITUACAO_CANDIDATO_PLEITO\";\"CD_SITUACAO_CANDIDATO_URNA\";\"DS_SITUACAO_CANDIDATO_URNA\";\"ST_CANDIDATO_INSERIDO_URNA\"'], ['05/08/2021;\"12:18:13\";\"2020\";\"2\";\"ELEIÇÃO ORDINÁRIA\";\"1\";\"426\";\"Eleições Municipais 2020\";\"15/11/2020\";\"MUNICIPAL\";\"RN\";\"17213\";\"MESSIAS TARGINO\";\"12\";\"VICE-PREFEITO\";\"200000780811\";\"22\";\"ANDERSON MEDEIROS MARTINS\";\"ANDERSON\";\"#NULO#\";\"01179288440\";\"ASSESORIA.PLMT@GMAIL.COM\";\"12\";\"APTO\";\"2\";\"DEFERIDO\";\"COLIGAÇÃO\";\"22\";\"PL\";\"PARTIDO LIBERAL\";\"200000075831\";\"AVANÇA MESSIAS\";\"PT / PL\";\"1\";\"BRASILEIRA NATA\";\"RN\";\"-3\";\"NATAL\";\"26/12/1983\";\"37\";\"020466441678\";\"2\";\"MASCULINO\";\"8\";\"SUPERIOR COMPLETO\";\"1\";\"SOLTEIRO(A)\";\"03\";\"PARDA\";\"278\";\"VEREADOR\";\"-1\";\"1\";\"ELEITO\";\"N\";\"S\";\"-1\";\"06000968720206200037\";\"2\";\"DEFERIDO\";\"2\";\"DEFERIDO\";\"SIM\"']]\n"
     ]
    }
   ],
   "source": [
    "# Utilizando a sintaxe 'with open'\n",
    "list_linhas = []\n",
    "with open ('../../../conjuntos_dados/consulta_cand_2020_RN.csv', 'r', encoding='latin_1') as arquivo:\n",
    "    linhas = reader(arquivo)\n",
    "    list_linhas = list(linhas)\n",
    "print(list_linhas[:2])\n",
    "    "
   ]
  },
  {
   "cell_type": "code",
   "execution_count": 10,
   "id": "e17863ac",
   "metadata": {},
   "outputs": [
    {
     "data": {
      "text/plain": [
       "['05/08/2021',\n",
       " '12:18:13',\n",
       " '2020',\n",
       " '2',\n",
       " 'ELEIÇÃO ORDINÁRIA',\n",
       " '1',\n",
       " '426',\n",
       " 'Eleições Municipais 2020',\n",
       " '15/11/2020',\n",
       " 'MUNICIPAL',\n",
       " 'RN',\n",
       " '17213',\n",
       " 'MESSIAS TARGINO',\n",
       " '12',\n",
       " 'VICE-PREFEITO',\n",
       " '200000780811',\n",
       " '22',\n",
       " 'ANDERSON MEDEIROS MARTINS',\n",
       " 'ANDERSON',\n",
       " '#NULO#',\n",
       " '01179288440',\n",
       " 'ASSESORIA.PLMT@GMAIL.COM',\n",
       " '12',\n",
       " 'APTO',\n",
       " '2',\n",
       " 'DEFERIDO',\n",
       " 'COLIGAÇÃO',\n",
       " '22',\n",
       " 'PL',\n",
       " 'PARTIDO LIBERAL',\n",
       " '200000075831',\n",
       " 'AVANÇA MESSIAS',\n",
       " 'PT / PL',\n",
       " '1',\n",
       " 'BRASILEIRA NATA',\n",
       " 'RN',\n",
       " '-3',\n",
       " 'NATAL',\n",
       " '26/12/1983',\n",
       " '37',\n",
       " '020466441678',\n",
       " '2',\n",
       " 'MASCULINO',\n",
       " '8',\n",
       " 'SUPERIOR COMPLETO',\n",
       " '1',\n",
       " 'SOLTEIRO(A)',\n",
       " '03',\n",
       " 'PARDA',\n",
       " '278',\n",
       " 'VEREADOR',\n",
       " '-1',\n",
       " '1',\n",
       " 'ELEITO',\n",
       " 'N',\n",
       " 'S',\n",
       " '-1',\n",
       " '06000968720206200037',\n",
       " '2',\n",
       " 'DEFERIDO',\n",
       " '2',\n",
       " 'DEFERIDO',\n",
       " 'SIM']"
      ]
     },
     "execution_count": 10,
     "metadata": {},
     "output_type": "execute_result"
    }
   ],
   "source": [
    "#lista_linhas = []\n",
    "\n",
    "with open ('../../../conjuntos_dados/consulta_cand_2020_RN.csv', 'r', encoding='latin_1') as candidatos:\n",
    "    csv_linhas = reader(candidatos, delimiter=';')\n",
    "    lista_linhas = list(csv_linhas)\n",
    "lista_linhas[1]"
   ]
  },
  {
   "cell_type": "code",
   "execution_count": 11,
   "id": "1a0fa149",
   "metadata": {},
   "outputs": [
    {
     "data": {
      "text/plain": [
       "['DT_GERACAO',\n",
       " 'HH_GERACAO',\n",
       " 'ANO_ELEICAO',\n",
       " 'CD_TIPO_ELEICAO',\n",
       " 'NM_TIPO_ELEICAO',\n",
       " 'NR_TURNO',\n",
       " 'CD_ELEICAO',\n",
       " 'DS_ELEICAO',\n",
       " 'DT_ELEICAO',\n",
       " 'TP_ABRANGENCIA',\n",
       " 'SG_UF',\n",
       " 'SG_UE',\n",
       " 'NM_UE',\n",
       " 'CD_CARGO',\n",
       " 'DS_CARGO',\n",
       " 'SQ_CANDIDATO',\n",
       " 'NR_CANDIDATO',\n",
       " 'NM_CANDIDATO',\n",
       " 'NM_URNA_CANDIDATO',\n",
       " 'NM_SOCIAL_CANDIDATO',\n",
       " 'NR_CPF_CANDIDATO',\n",
       " 'NM_EMAIL',\n",
       " 'CD_SITUACAO_CANDIDATURA',\n",
       " 'DS_SITUACAO_CANDIDATURA',\n",
       " 'CD_DETALHE_SITUACAO_CAND',\n",
       " 'DS_DETALHE_SITUACAO_CAND',\n",
       " 'TP_AGREMIACAO',\n",
       " 'NR_PARTIDO',\n",
       " 'SG_PARTIDO',\n",
       " 'NM_PARTIDO',\n",
       " 'SQ_COLIGACAO',\n",
       " 'NM_COLIGACAO',\n",
       " 'DS_COMPOSICAO_COLIGACAO',\n",
       " 'CD_NACIONALIDADE',\n",
       " 'DS_NACIONALIDADE',\n",
       " 'SG_UF_NASCIMENTO',\n",
       " 'CD_MUNICIPIO_NASCIMENTO',\n",
       " 'NM_MUNICIPIO_NASCIMENTO',\n",
       " 'DT_NASCIMENTO',\n",
       " 'NR_IDADE_DATA_POSSE',\n",
       " 'NR_TITULO_ELEITORAL_CANDIDATO',\n",
       " 'CD_GENERO',\n",
       " 'DS_GENERO',\n",
       " 'CD_GRAU_INSTRUCAO',\n",
       " 'DS_GRAU_INSTRUCAO',\n",
       " 'CD_ESTADO_CIVIL',\n",
       " 'DS_ESTADO_CIVIL',\n",
       " 'CD_COR_RACA',\n",
       " 'DS_COR_RACA',\n",
       " 'CD_OCUPACAO',\n",
       " 'DS_OCUPACAO',\n",
       " 'VR_DESPESA_MAX_CAMPANHA',\n",
       " 'CD_SIT_TOT_TURNO',\n",
       " 'DS_SIT_TOT_TURNO',\n",
       " 'ST_REELEICAO',\n",
       " 'ST_DECLARAR_BENS',\n",
       " 'NR_PROTOCOLO_CANDIDATURA',\n",
       " 'NR_PROCESSO',\n",
       " 'CD_SITUACAO_CANDIDATO_PLEITO',\n",
       " 'DS_SITUACAO_CANDIDATO_PLEITO',\n",
       " 'CD_SITUACAO_CANDIDATO_URNA',\n",
       " 'DS_SITUACAO_CANDIDATO_URNA',\n",
       " 'ST_CANDIDATO_INSERIDO_URNA']"
      ]
     },
     "execution_count": 11,
     "metadata": {},
     "output_type": "execute_result"
    }
   ],
   "source": [
    "cabecalho = lista_linhas.pop(0) # .pop() retira o elemento de índice 0 da lista original e o salva na variável assinalada\n",
    "cabecalho"
   ]
  },
  {
   "cell_type": "code",
   "execution_count": 12,
   "id": "5c184dcf",
   "metadata": {
    "scrolled": true
   },
   "outputs": [
    {
     "data": {
      "text/plain": [
       "['05/08/2021',\n",
       " '12:18:13',\n",
       " '2020',\n",
       " '2',\n",
       " 'ELEIÇÃO ORDINÁRIA',\n",
       " '1',\n",
       " '426',\n",
       " 'Eleições Municipais 2020',\n",
       " '15/11/2020',\n",
       " 'MUNICIPAL',\n",
       " 'RN',\n",
       " '17213',\n",
       " 'MESSIAS TARGINO',\n",
       " '12',\n",
       " 'VICE-PREFEITO',\n",
       " '200000780811',\n",
       " '22',\n",
       " 'ANDERSON MEDEIROS MARTINS',\n",
       " 'ANDERSON',\n",
       " '#NULO#',\n",
       " '01179288440',\n",
       " 'ASSESORIA.PLMT@GMAIL.COM',\n",
       " '12',\n",
       " 'APTO',\n",
       " '2',\n",
       " 'DEFERIDO',\n",
       " 'COLIGAÇÃO',\n",
       " '22',\n",
       " 'PL',\n",
       " 'PARTIDO LIBERAL',\n",
       " '200000075831',\n",
       " 'AVANÇA MESSIAS',\n",
       " 'PT / PL',\n",
       " '1',\n",
       " 'BRASILEIRA NATA',\n",
       " 'RN',\n",
       " '-3',\n",
       " 'NATAL',\n",
       " '26/12/1983',\n",
       " '37',\n",
       " '020466441678',\n",
       " '2',\n",
       " 'MASCULINO',\n",
       " '8',\n",
       " 'SUPERIOR COMPLETO',\n",
       " '1',\n",
       " 'SOLTEIRO(A)',\n",
       " '03',\n",
       " 'PARDA',\n",
       " '278',\n",
       " 'VEREADOR',\n",
       " '-1',\n",
       " '1',\n",
       " 'ELEITO',\n",
       " 'N',\n",
       " 'S',\n",
       " '-1',\n",
       " '06000968720206200037',\n",
       " '2',\n",
       " 'DEFERIDO',\n",
       " '2',\n",
       " 'DEFERIDO',\n",
       " 'SIM']"
      ]
     },
     "execution_count": 12,
     "metadata": {},
     "output_type": "execute_result"
    }
   ],
   "source": [
    "lista_linhas[0]"
   ]
  },
  {
   "cell_type": "code",
   "execution_count": 13,
   "id": "1af242bc",
   "metadata": {},
   "outputs": [],
   "source": [
    "list_dicionario = []\n",
    "for candidato in lista_linhas:\n",
    "    dicionario_zip = zip(cabecalho,candidato) # cria tuplas com as listas cabeçalho e candidato\n",
    "    dicionario = dict(dicionario_zip)\n",
    "    list_dicionario.append(dicionario)"
   ]
  },
  {
   "cell_type": "code",
   "execution_count": 14,
   "id": "6fc4ca06",
   "metadata": {},
   "outputs": [
    {
     "data": {
      "text/plain": [
       "{'DT_GERACAO': '05/08/2021',\n",
       " 'HH_GERACAO': '12:18:13',\n",
       " 'ANO_ELEICAO': '2020',\n",
       " 'CD_TIPO_ELEICAO': '2',\n",
       " 'NM_TIPO_ELEICAO': 'ELEIÇÃO ORDINÁRIA',\n",
       " 'NR_TURNO': '1',\n",
       " 'CD_ELEICAO': '426',\n",
       " 'DS_ELEICAO': 'Eleições Municipais 2020',\n",
       " 'DT_ELEICAO': '15/11/2020',\n",
       " 'TP_ABRANGENCIA': 'MUNICIPAL',\n",
       " 'SG_UF': 'RN',\n",
       " 'SG_UE': '17213',\n",
       " 'NM_UE': 'MESSIAS TARGINO',\n",
       " 'CD_CARGO': '12',\n",
       " 'DS_CARGO': 'VICE-PREFEITO',\n",
       " 'SQ_CANDIDATO': '200000780811',\n",
       " 'NR_CANDIDATO': '22',\n",
       " 'NM_CANDIDATO': 'ANDERSON MEDEIROS MARTINS',\n",
       " 'NM_URNA_CANDIDATO': 'ANDERSON',\n",
       " 'NM_SOCIAL_CANDIDATO': '#NULO#',\n",
       " 'NR_CPF_CANDIDATO': '01179288440',\n",
       " 'NM_EMAIL': 'ASSESORIA.PLMT@GMAIL.COM',\n",
       " 'CD_SITUACAO_CANDIDATURA': '12',\n",
       " 'DS_SITUACAO_CANDIDATURA': 'APTO',\n",
       " 'CD_DETALHE_SITUACAO_CAND': '2',\n",
       " 'DS_DETALHE_SITUACAO_CAND': 'DEFERIDO',\n",
       " 'TP_AGREMIACAO': 'COLIGAÇÃO',\n",
       " 'NR_PARTIDO': '22',\n",
       " 'SG_PARTIDO': 'PL',\n",
       " 'NM_PARTIDO': 'PARTIDO LIBERAL',\n",
       " 'SQ_COLIGACAO': '200000075831',\n",
       " 'NM_COLIGACAO': 'AVANÇA MESSIAS',\n",
       " 'DS_COMPOSICAO_COLIGACAO': 'PT / PL',\n",
       " 'CD_NACIONALIDADE': '1',\n",
       " 'DS_NACIONALIDADE': 'BRASILEIRA NATA',\n",
       " 'SG_UF_NASCIMENTO': 'RN',\n",
       " 'CD_MUNICIPIO_NASCIMENTO': '-3',\n",
       " 'NM_MUNICIPIO_NASCIMENTO': 'NATAL',\n",
       " 'DT_NASCIMENTO': '26/12/1983',\n",
       " 'NR_IDADE_DATA_POSSE': '37',\n",
       " 'NR_TITULO_ELEITORAL_CANDIDATO': '020466441678',\n",
       " 'CD_GENERO': '2',\n",
       " 'DS_GENERO': 'MASCULINO',\n",
       " 'CD_GRAU_INSTRUCAO': '8',\n",
       " 'DS_GRAU_INSTRUCAO': 'SUPERIOR COMPLETO',\n",
       " 'CD_ESTADO_CIVIL': '1',\n",
       " 'DS_ESTADO_CIVIL': 'SOLTEIRO(A)',\n",
       " 'CD_COR_RACA': '03',\n",
       " 'DS_COR_RACA': 'PARDA',\n",
       " 'CD_OCUPACAO': '278',\n",
       " 'DS_OCUPACAO': 'VEREADOR',\n",
       " 'VR_DESPESA_MAX_CAMPANHA': '-1',\n",
       " 'CD_SIT_TOT_TURNO': '1',\n",
       " 'DS_SIT_TOT_TURNO': 'ELEITO',\n",
       " 'ST_REELEICAO': 'N',\n",
       " 'ST_DECLARAR_BENS': 'S',\n",
       " 'NR_PROTOCOLO_CANDIDATURA': '-1',\n",
       " 'NR_PROCESSO': '06000968720206200037',\n",
       " 'CD_SITUACAO_CANDIDATO_PLEITO': '2',\n",
       " 'DS_SITUACAO_CANDIDATO_PLEITO': 'DEFERIDO',\n",
       " 'CD_SITUACAO_CANDIDATO_URNA': '2',\n",
       " 'DS_SITUACAO_CANDIDATO_URNA': 'DEFERIDO',\n",
       " 'ST_CANDIDATO_INSERIDO_URNA': 'SIM'}"
      ]
     },
     "execution_count": 14,
     "metadata": {},
     "output_type": "execute_result"
    }
   ],
   "source": [
    "list_dicionario[0]"
   ]
  },
  {
   "cell_type": "code",
   "execution_count": 20,
   "id": "fae5f72f",
   "metadata": {},
   "outputs": [
    {
     "name": "stdout",
     "output_type": "stream",
     "text": [
      "10555\n"
     ]
    },
    {
     "data": {
      "text/plain": [
       "80.42633822832781"
      ]
     },
     "execution_count": 20,
     "metadata": {},
     "output_type": "execute_result"
    }
   ],
   "source": [
    "qtd_total_candidatos = len(list_dicionario)\n",
    "print(qtd_total_candidatos)\n",
    "percentual = (qtd_candidatos_mais_jovens*100)/qtd_total_candidatos\n",
    "#percentual = round(percentual, 2)\n",
    "percentual"
   ]
  },
  {
   "cell_type": "markdown",
   "id": "6dfee1eb",
   "metadata": {},
   "source": [
    "###  Quantas pessoas candidatas no estado de Pernambuco seriam mais novas do que você "
   ]
  },
  {
   "cell_type": "code",
   "execution_count": null,
   "id": "af79eec9",
   "metadata": {},
   "outputs": [],
   "source": [
    "qtd_candidatos_mais_jovens = 0\n",
    "\n",
    "for candidato in list_dicionario:\n",
    "    if int(candidato['NR_IDADE_DATA_POSSE']) < idade:\n",
    "        qtd_candidatos_mais_jovens += 1\n",
    "qtd_candidatos_mais_jovens"
   ]
  },
  {
   "cell_type": "markdown",
   "id": "68ce6ce5",
   "metadata": {},
   "source": [
    "### Quantos porcentos isso representa em relação ao total de pessoas candidatas."
   ]
  },
  {
   "cell_type": "code",
   "execution_count": 44,
   "id": "336e0593",
   "metadata": {},
   "outputs": [
    {
     "name": "stdout",
     "output_type": "stream",
     "text": [
      "Existiram 8489 candidatos mais jovens na eleição 2020.\n",
      "O que corresponde a um percentual de 80.43\n"
     ]
    }
   ],
   "source": [
    "print(f'Existiram {qtd_candidatos_mais_jovens} candidatos mais jovens na eleição 2020.')\n",
    "print('O que corresponde a um percentual de {:.2f}'.format(percentual))"
   ]
  },
  {
   "cell_type": "code",
   "execution_count": null,
   "id": "d61070e3",
   "metadata": {},
   "outputs": [],
   "source": []
  }
 ],
 "metadata": {
  "kernelspec": {
   "display_name": "Python 3 (ipykernel)",
   "language": "python",
   "name": "python3"
  },
  "language_info": {
   "codemirror_mode": {
    "name": "ipython",
    "version": 3
   },
   "file_extension": ".py",
   "mimetype": "text/x-python",
   "name": "python",
   "nbconvert_exporter": "python",
   "pygments_lexer": "ipython3",
   "version": "3.8.2"
  }
 },
 "nbformat": 4,
 "nbformat_minor": 5
}
