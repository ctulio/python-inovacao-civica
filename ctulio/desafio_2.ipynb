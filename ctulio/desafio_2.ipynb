{
 "cells": [
  {
   "cell_type": "markdown",
   "id": "3409681f",
   "metadata": {},
   "source": [
    "# Limpeza de dados e estatística descritiva\n",
    "\n",
    "Neste desafio, iremos revisar alguns conceitos vistos nas aulas e ver algumas novidades. Os dados originais são do [repositório de dados eleitorais do Tribunal Superior Eleitoral](https://www.tse.jus.br/eleicoes/estatisticas/repositorio-de-dados-eleitorais-1). \n",
    "\n",
    "O CSV disponibilizado é formado pela conjunção de algumas tabelas do arquivo [orgao_partidario.zip](https://cdn.tse.jus.br/estatistica/sead/odsele/orgao_partidario/orgao_partidario.zip), localizado no menu Partidos > Órgão Partidário.\n",
    "\n",
    "Preencha as lacunas abaixo para completar o desafio."
   ]
  },
  {
   "cell_type": "markdown",
   "id": "6c7779dc",
   "metadata": {},
   "source": [
    "# Importe os pacotes necessários"
   ]
  },
  {
   "cell_type": "code",
   "execution_count": 14,
   "id": "c1b1e87f",
   "metadata": {},
   "outputs": [],
   "source": [
    "import pandas as pd\n",
    "import numpy as np"
   ]
  },
  {
   "cell_type": "markdown",
   "id": "10b338c2",
   "metadata": {},
   "source": [
    "# Leia o arquivo \"receitas_orgaos_partidarios_2020_NORDESTE.csv\" usando o Pandas\n",
    "\n",
    "Na aula `1.10 - Outliers e valores faltantes`, vimos como utilizar o método `replace` para substituir valores em certos colunas do nosso dataframe e trocar o texto (string) `#NULO#` pela representação padrão do Pandas para valores nulos.\n",
    "\n",
    "Aqui, vamos utilizar um outro método, onde definimos quais strings serão considerados valores nulos já na importação do arquivo.\n",
    "\n",
    "Edite as células abaixo e inclua:\n",
    "\n",
    "* O nome do arquivo que queremos importar\n",
    "* O separador utilizado\n",
    "* Insira uma lista no parâmetro `na_values` que contenha o texto a ser ignorado.\n",
    "\n",
    "Experimente rodar os comandos primeiro sem e depois com o parâmetro `na_values`, então, compare a diferença. Observe, por exemplo, o campo `CD_CNAE_DOADOR`."
   ]
  },
  {
   "cell_type": "code",
   "execution_count": 15,
   "id": "a7cba4ac",
   "metadata": {},
   "outputs": [
    {
     "data": {
      "text/plain": [
       "'/home/ctulio/Documents/python-inovacao-civica/semana_2/desafio'"
      ]
     },
     "execution_count": 15,
     "metadata": {},
     "output_type": "execute_result"
    }
   ],
   "source": [
    "pwd"
   ]
  },
  {
   "cell_type": "code",
   "execution_count": 20,
   "id": "09219558",
   "metadata": {},
   "outputs": [
    {
     "name": "stdout",
     "output_type": "stream",
     "text": [
      "desafio.ipynb  leiame.pdf  receitas_orgaos_partidarios_2020_NORDESTE.csv\r\n"
     ]
    }
   ],
   "source": [
    "!ls ../../semana_2/desafio/receitas_orgaos_partidarios_2020_NORDESTE.csv"
   ]
  },
  {
   "cell_type": "code",
   "execution_count": 21,
   "id": "e2400287",
   "metadata": {},
   "outputs": [
    {
     "name": "stdout",
     "output_type": "stream",
     "text": [
      "../../semana_2/desafio/receitas_orgaos_partidarios_2020_NORDESTE.csv: UTF-8 Unicode text, with very long lines\r\n"
     ]
    }
   ],
   "source": [
    "!file  ../../semana_2/desafio/receitas_orgaos_partidarios_2020_NORDESTE.csv\n"
   ]
  },
  {
   "cell_type": "code",
   "execution_count": 26,
   "id": "e954327a",
   "metadata": {},
   "outputs": [
    {
     "name": "stdout",
     "output_type": "stream",
     "text": [
      "<class 'pandas.core.frame.DataFrame'>\n",
      "RangeIndex: 12874 entries, 0 to 12873\n",
      "Data columns (total 48 columns):\n",
      " #   Column                       Non-Null Count  Dtype \n",
      "---  ------                       --------------  ----- \n",
      " 0   DT_GERACAO                   12874 non-null  object\n",
      " 1   HH_GERACAO                   12874 non-null  object\n",
      " 2   ANO_ELEICAO                  12874 non-null  int64 \n",
      " 3   CD_TIPO_ELEICAO              12874 non-null  int64 \n",
      " 4   NM_TIPO_ELEICAO              12874 non-null  object\n",
      " 5   TP_PRESTACAO_CONTAS          12874 non-null  object\n",
      " 6   DT_PRESTACAO_CONTAS          12874 non-null  object\n",
      " 7   SQ_PRESTADOR_CONTAS          12874 non-null  int64 \n",
      " 8   CD_ESFERA_PARTIDARIA         12874 non-null  object\n",
      " 9   DS_ESFERA_PARTIDARIA         12874 non-null  object\n",
      " 10  SG_UF                        12874 non-null  object\n",
      " 11  CD_MUNICIPIO                 12874 non-null  int64 \n",
      " 12  NM_MUNICIPIO                 12874 non-null  object\n",
      " 13  NR_CNPJ_PRESTADOR_CONTA      12874 non-null  int64 \n",
      " 14  NR_PARTIDO                   12874 non-null  int64 \n",
      " 15  SG_PARTIDO                   12874 non-null  object\n",
      " 16  NM_PARTIDO                   12874 non-null  object\n",
      " 17  CD_FONTE_RECEITA             12874 non-null  int64 \n",
      " 18  DS_FONTE_RECEITA             12874 non-null  object\n",
      " 19  CD_ORIGEM_RECEITA            12874 non-null  int64 \n",
      " 20  DS_ORIGEM_RECEITA            12874 non-null  object\n",
      " 21  CD_NATUREZA_RECEITA          12874 non-null  int64 \n",
      " 22  DS_NATUREZA_RECEITA          12874 non-null  object\n",
      " 23  CD_ESPECIE_RECEITA           12874 non-null  int64 \n",
      " 24  DS_ESPECIE_RECEITA           12874 non-null  object\n",
      " 25  CD_CNAE_DOADOR               12874 non-null  int64 \n",
      " 26  DS_CNAE_DOADOR               12874 non-null  object\n",
      " 27  NR_CPF_CNPJ_DOADOR           12874 non-null  int64 \n",
      " 28  NM_DOADOR                    12874 non-null  object\n",
      " 29  NM_DOADOR_RFB                12874 non-null  object\n",
      " 30  CD_ESFERA_PARTIDARIA_DOADOR  12874 non-null  object\n",
      " 31  DS_ESFERA_PARTIDARIA_DOADOR  12874 non-null  object\n",
      " 32  SG_UF_DOADOR                 12874 non-null  object\n",
      " 33  CD_MUNICIPIO_DOADOR          12874 non-null  int64 \n",
      " 34  NM_MUNICIPIO_DOADOR          12874 non-null  object\n",
      " 35  SQ_CANDIDATO_DOADOR          12874 non-null  int64 \n",
      " 36  NR_CANDIDATO_DOADOR          12874 non-null  int64 \n",
      " 37  CD_CARGO_CANDIDATO_DOADOR    12874 non-null  int64 \n",
      " 38  DS_CARGO_CANDIDATO_DOADOR    12874 non-null  object\n",
      " 39  NR_PARTIDO_DOADOR            12874 non-null  int64 \n",
      " 40  SG_PARTIDO_DOADOR            12874 non-null  object\n",
      " 41  NM_PARTIDO_DOADOR            12874 non-null  object\n",
      " 42  NR_RECIBO_DOACAO             12874 non-null  object\n",
      " 43  NR_DOCUMENTO_DOACAO          12874 non-null  object\n",
      " 44  SQ_RECEITA                   12874 non-null  int64 \n",
      " 45  DT_RECEITA                   12874 non-null  object\n",
      " 46  DS_RECEITA                   12874 non-null  object\n",
      " 47  VR_RECEITA                   12874 non-null  int64 \n",
      "dtypes: int64(19), object(29)\n",
      "memory usage: 4.7+ MB\n"
     ]
    }
   ],
   "source": [
    "df = pd.read_csv('../../semana_2/desafio/receitas_orgaos_partidarios_2020_NORDESTE.csv',sep=';')\n",
    "df.info()"
   ]
  },
  {
   "cell_type": "code",
   "execution_count": 27,
   "id": "6ab7fc08",
   "metadata": {},
   "outputs": [
    {
     "data": {
      "text/plain": [
       "array(['#NULO#', 'Atividades de organizações políticas',\n",
       "       'Atividades de associações de defesa de direitos sociais',\n",
       "       'Desenvolvimento e licenciamento de programas de computador customizáveis',\n",
       "       'Fabricação de embalagens de papel',\n",
       "       'Administração pública em geral',\n",
       "       'Atividades associativas não especificadas anteriormente',\n",
       "       'Confecção de peças do vestuárioxceto roupas íntimas'],\n",
       "      dtype=object)"
      ]
     },
     "execution_count": 27,
     "metadata": {},
     "output_type": "execute_result"
    }
   ],
   "source": [
    "df['DS_CNAE_DOADOR'].unique()"
   ]
  },
  {
   "cell_type": "code",
   "execution_count": 28,
   "id": "e716865f",
   "metadata": {},
   "outputs": [
    {
     "name": "stdout",
     "output_type": "stream",
     "text": [
      "<class 'pandas.core.frame.DataFrame'>\n",
      "RangeIndex: 12874 entries, 0 to 12873\n",
      "Data columns (total 48 columns):\n",
      " #   Column                       Non-Null Count  Dtype \n",
      "---  ------                       --------------  ----- \n",
      " 0   DT_GERACAO                   12874 non-null  object\n",
      " 1   HH_GERACAO                   12874 non-null  object\n",
      " 2   ANO_ELEICAO                  12874 non-null  int64 \n",
      " 3   CD_TIPO_ELEICAO              12874 non-null  int64 \n",
      " 4   NM_TIPO_ELEICAO              12874 non-null  object\n",
      " 5   TP_PRESTACAO_CONTAS          12874 non-null  object\n",
      " 6   DT_PRESTACAO_CONTAS          12874 non-null  object\n",
      " 7   SQ_PRESTADOR_CONTAS          12874 non-null  int64 \n",
      " 8   CD_ESFERA_PARTIDARIA         12874 non-null  object\n",
      " 9   DS_ESFERA_PARTIDARIA         12874 non-null  object\n",
      " 10  SG_UF                        12874 non-null  object\n",
      " 11  CD_MUNICIPIO                 12874 non-null  int64 \n",
      " 12  NM_MUNICIPIO                 11606 non-null  object\n",
      " 13  NR_CNPJ_PRESTADOR_CONTA      12874 non-null  int64 \n",
      " 14  NR_PARTIDO                   12874 non-null  int64 \n",
      " 15  SG_PARTIDO                   12874 non-null  object\n",
      " 16  NM_PARTIDO                   12874 non-null  object\n",
      " 17  CD_FONTE_RECEITA             12874 non-null  int64 \n",
      " 18  DS_FONTE_RECEITA             12874 non-null  object\n",
      " 19  CD_ORIGEM_RECEITA            12874 non-null  int64 \n",
      " 20  DS_ORIGEM_RECEITA            12874 non-null  object\n",
      " 21  CD_NATUREZA_RECEITA          12874 non-null  int64 \n",
      " 22  DS_NATUREZA_RECEITA          12874 non-null  object\n",
      " 23  CD_ESPECIE_RECEITA           12874 non-null  int64 \n",
      " 24  DS_ESPECIE_RECEITA           12874 non-null  object\n",
      " 25  CD_CNAE_DOADOR               12874 non-null  int64 \n",
      " 26  DS_CNAE_DOADOR               5977 non-null   object\n",
      " 27  NR_CPF_CNPJ_DOADOR           12874 non-null  int64 \n",
      " 28  NM_DOADOR                    12785 non-null  object\n",
      " 29  NM_DOADOR_RFB                12784 non-null  object\n",
      " 30  CD_ESFERA_PARTIDARIA_DOADOR  3233 non-null   object\n",
      " 31  DS_ESFERA_PARTIDARIA_DOADOR  3233 non-null   object\n",
      " 32  SG_UF_DOADOR                 5976 non-null   object\n",
      " 33  CD_MUNICIPIO_DOADOR          12874 non-null  int64 \n",
      " 34  NM_MUNICIPIO_DOADOR          3162 non-null   object\n",
      " 35  SQ_CANDIDATO_DOADOR          12874 non-null  int64 \n",
      " 36  NR_CANDIDATO_DOADOR          12874 non-null  int64 \n",
      " 37  CD_CARGO_CANDIDATO_DOADOR    12874 non-null  int64 \n",
      " 38  DS_CARGO_CANDIDATO_DOADOR    2743 non-null   object\n",
      " 39  NR_PARTIDO_DOADOR            12874 non-null  int64 \n",
      " 40  SG_PARTIDO_DOADOR            5976 non-null   object\n",
      " 41  NM_PARTIDO_DOADOR            5976 non-null   object\n",
      " 42  NR_RECIBO_DOACAO             10955 non-null  object\n",
      " 43  NR_DOCUMENTO_DOACAO          9020 non-null   object\n",
      " 44  SQ_RECEITA                   12874 non-null  int64 \n",
      " 45  DT_RECEITA                   12874 non-null  object\n",
      " 46  DS_RECEITA                   3301 non-null   object\n",
      " 47  VR_RECEITA                   12874 non-null  int64 \n",
      "dtypes: int64(19), object(29)\n",
      "memory usage: 4.7+ MB\n"
     ]
    }
   ],
   "source": [
    "df = pd.read_csv('../../semana_2/desafio/receitas_orgaos_partidarios_2020_NORDESTE.csv',sep=';',na_values='#NULO#')\n",
    "\n",
    "df.info()"
   ]
  },
  {
   "cell_type": "code",
   "execution_count": 29,
   "id": "9b0bac65",
   "metadata": {},
   "outputs": [
    {
     "data": {
      "text/plain": [
       "array([nan, 'Atividades de organizações políticas',\n",
       "       'Atividades de associações de defesa de direitos sociais',\n",
       "       'Desenvolvimento e licenciamento de programas de computador customizáveis',\n",
       "       'Fabricação de embalagens de papel',\n",
       "       'Administração pública em geral',\n",
       "       'Atividades associativas não especificadas anteriormente',\n",
       "       'Confecção de peças do vestuárioxceto roupas íntimas'],\n",
       "      dtype=object)"
      ]
     },
     "execution_count": 29,
     "metadata": {},
     "output_type": "execute_result"
    }
   ],
   "source": [
    "df['DS_CNAE_DOADOR'].unique()"
   ]
  },
  {
   "cell_type": "markdown",
   "id": "ee18faac",
   "metadata": {},
   "source": [
    "# Filtre apenas os registros que sejam da prestação de contas final\n"
   ]
  },
  {
   "cell_type": "code",
   "execution_count": 30,
   "id": "2dedc97d",
   "metadata": {},
   "outputs": [
    {
     "data": {
      "text/plain": [
       "array(['Final', 'Relatório Financeiro', 'Parcial',\n",
       "       'Regularização da Omissão'], dtype=object)"
      ]
     },
     "execution_count": 30,
     "metadata": {},
     "output_type": "execute_result"
    }
   ],
   "source": [
    "# Primeiro vamos ver os valores únicos da coluna TP_PRESTACAO_CONTAS\n",
    "\n",
    "df['TP_PRESTACAO_CONTAS'].unique()"
   ]
  },
  {
   "cell_type": "code",
   "execution_count": 31,
   "id": "c1ea3cc5",
   "metadata": {},
   "outputs": [
    {
     "data": {
      "text/plain": [
       "(12874, 48)"
      ]
     },
     "execution_count": 31,
     "metadata": {},
     "output_type": "execute_result"
    }
   ],
   "source": [
    "# O resultado deste comando nos diz que quantas linhas e colunas temos antes do filtro\n",
    "df.shape"
   ]
  },
  {
   "cell_type": "code",
   "execution_count": 33,
   "id": "24f8adc2",
   "metadata": {},
   "outputs": [],
   "source": [
    "# Preencha o campo os espaços abaixo com o nome da coluna e o valor desejado para nosso filtro\n",
    "df_final = df[df['TP_PRESTACAO_CONTAS'] == 'Final'].copy()"
   ]
  },
  {
   "cell_type": "code",
   "execution_count": 35,
   "id": "716699f9",
   "metadata": {},
   "outputs": [
    {
     "data": {
      "text/plain": [
       "(12288, 48)"
      ]
     },
     "execution_count": 35,
     "metadata": {},
     "output_type": "execute_result"
    }
   ],
   "source": [
    "# Rode o comando shape no novo dataframe criado e confira se o número de linhas foi reduzido\n",
    "df_final.shape\n"
   ]
  },
  {
   "cell_type": "markdown",
   "id": "7a7a3950",
   "metadata": {},
   "source": [
    "## Qual foi a maior doação de pessoa física e pessoa jurídica em cada estado?\n",
    "\n",
    "Vamos usar o método `value_counts` para não só listar cada valor único da coluna `CD_CNAE_DOADOR`, como também mostrar quantos registros temos em cada um."
   ]
  },
  {
   "cell_type": "code",
   "execution_count": 36,
   "id": "558ac1d0",
   "metadata": {},
   "outputs": [
    {
     "data": {
      "text/plain": [
       "-1        6509\n",
       " 94928    5735\n",
       " 94308      37\n",
       " 14126       3\n",
       " 62023       1\n",
       " 17311       1\n",
       " 84116       1\n",
       " 94995       1\n",
       "Name: CD_CNAE_DOADOR, dtype: int64"
      ]
     },
     "execution_count": 36,
     "metadata": {},
     "output_type": "execute_result"
    }
   ],
   "source": [
    "# Preencha o nome da coluna abaixo\n",
    "df_final['CD_CNAE_DOADOR'].value_counts()"
   ]
  },
  {
   "cell_type": "code",
   "execution_count": 37,
   "id": "5352e4ea",
   "metadata": {},
   "outputs": [
    {
     "data": {
      "text/plain": [
       "-1        0.529704\n",
       " 94928    0.466715\n",
       " 94308    0.003011\n",
       " 14126    0.000244\n",
       " 62023    0.000081\n",
       " 17311    0.000081\n",
       " 84116    0.000081\n",
       " 94995    0.000081\n",
       "Name: CD_CNAE_DOADOR, dtype: float64"
      ]
     },
     "execution_count": 37,
     "metadata": {},
     "output_type": "execute_result"
    }
   ],
   "source": [
    "# Para ver os resultados em percentuais é fácil! Basta falarmos para o value_counts que queremos os resultados normalizados\n",
    "df_final['CD_CNAE_DOADOR'].value_counts(normalize=True)"
   ]
  },
  {
   "cell_type": "markdown",
   "id": "accf74ef",
   "metadata": {},
   "source": [
    "Se o doador for pessoa jurídica, temos seu respectivo código CNAE. Se for pessoa física, então temos o valor `-1`. \n",
    "\n",
    "Qual conclusão podemos tirar a respeito dos comandos acima?\n",
    "\n",
    "Escreva um **comentário** na célula abaixo com a resposta."
   ]
  },
  {
   "cell_type": "code",
   "execution_count": 11,
   "id": "7562d3d1",
   "metadata": {},
   "outputs": [],
   "source": [
    "# Mais da metade dos registros são de pessoas físicas."
   ]
  },
  {
   "cell_type": "markdown",
   "id": "37baa0bd",
   "metadata": {},
   "source": [
    "Agora, vamos duplicar a coluna `CD_CNAE_DOADOR` e deixar esta nova coluna apenas com 2 categorias: física (representada pelo valor -1) ou jurídica (que vamos representar inicialmente com 1)."
   ]
  },
  {
   "cell_type": "code",
   "execution_count": 51,
   "id": "ea233b05",
   "metadata": {},
   "outputs": [],
   "source": [
    "# Vamos criar uma nova coluna que seja uma cópia exata da coluna CD_CNAE_DOADOR\n",
    "df_final['TIPO_DOADOR'] = df_final.loc[:,'CD_CNAE_DOADOR']\n"
   ]
  },
  {
   "cell_type": "code",
   "execution_count": 54,
   "id": "78c4b114",
   "metadata": {},
   "outputs": [
    {
     "data": {
      "text/html": [
       "<div>\n",
       "<style scoped>\n",
       "    .dataframe tbody tr th:only-of-type {\n",
       "        vertical-align: middle;\n",
       "    }\n",
       "\n",
       "    .dataframe tbody tr th {\n",
       "        vertical-align: top;\n",
       "    }\n",
       "\n",
       "    .dataframe thead th {\n",
       "        text-align: right;\n",
       "    }\n",
       "</style>\n",
       "<table border=\"1\" class=\"dataframe\">\n",
       "  <thead>\n",
       "    <tr style=\"text-align: right;\">\n",
       "      <th></th>\n",
       "      <th>DT_GERACAO</th>\n",
       "      <th>HH_GERACAO</th>\n",
       "      <th>ANO_ELEICAO</th>\n",
       "      <th>CD_TIPO_ELEICAO</th>\n",
       "      <th>NM_TIPO_ELEICAO</th>\n",
       "      <th>TP_PRESTACAO_CONTAS</th>\n",
       "      <th>DT_PRESTACAO_CONTAS</th>\n",
       "      <th>SQ_PRESTADOR_CONTAS</th>\n",
       "      <th>CD_ESFERA_PARTIDARIA</th>\n",
       "      <th>DS_ESFERA_PARTIDARIA</th>\n",
       "      <th>...</th>\n",
       "      <th>NR_PARTIDO_DOADOR</th>\n",
       "      <th>SG_PARTIDO_DOADOR</th>\n",
       "      <th>NM_PARTIDO_DOADOR</th>\n",
       "      <th>NR_RECIBO_DOACAO</th>\n",
       "      <th>NR_DOCUMENTO_DOACAO</th>\n",
       "      <th>SQ_RECEITA</th>\n",
       "      <th>DT_RECEITA</th>\n",
       "      <th>DS_RECEITA</th>\n",
       "      <th>VR_RECEITA</th>\n",
       "      <th>TIPO_DOADOR</th>\n",
       "    </tr>\n",
       "  </thead>\n",
       "  <tbody>\n",
       "    <tr>\n",
       "      <th>0</th>\n",
       "      <td>22/07/2021</td>\n",
       "      <td>23:25:00</td>\n",
       "      <td>2020</td>\n",
       "      <td>2</td>\n",
       "      <td>Ordinária</td>\n",
       "      <td>Final</td>\n",
       "      <td>14/12/2020</td>\n",
       "      <td>1220401248</td>\n",
       "      <td>M</td>\n",
       "      <td>Municipal</td>\n",
       "      <td>...</td>\n",
       "      <td>-1</td>\n",
       "      <td>NaN</td>\n",
       "      <td>NaN</td>\n",
       "      <td>P15000411452PI000005A</td>\n",
       "      <td>NaN</td>\n",
       "      <td>18729827</td>\n",
       "      <td>29/09/2020</td>\n",
       "      <td>LOC. DE IMOVEL P/ FUNCION. DE COMITE ELEITORAL...</td>\n",
       "      <td>1500</td>\n",
       "      <td>fisica</td>\n",
       "    </tr>\n",
       "    <tr>\n",
       "      <th>1</th>\n",
       "      <td>22/07/2021</td>\n",
       "      <td>23:25:00</td>\n",
       "      <td>2020</td>\n",
       "      <td>2</td>\n",
       "      <td>Ordinária</td>\n",
       "      <td>Final</td>\n",
       "      <td>08/03/2021</td>\n",
       "      <td>1364490302</td>\n",
       "      <td>M</td>\n",
       "      <td>Municipal</td>\n",
       "      <td>...</td>\n",
       "      <td>-1</td>\n",
       "      <td>NaN</td>\n",
       "      <td>NaN</td>\n",
       "      <td>P15000412165PI000002A</td>\n",
       "      <td>NaN</td>\n",
       "      <td>19789208</td>\n",
       "      <td>27/09/2020</td>\n",
       "      <td>CESSÃO DE SERVIÇOS DE ASSESSORIA E CONSULTORIA...</td>\n",
       "      <td>1500</td>\n",
       "      <td>fisica</td>\n",
       "    </tr>\n",
       "  </tbody>\n",
       "</table>\n",
       "<p>2 rows × 49 columns</p>\n",
       "</div>"
      ],
      "text/plain": [
       "   DT_GERACAO HH_GERACAO  ANO_ELEICAO  CD_TIPO_ELEICAO NM_TIPO_ELEICAO  \\\n",
       "0  22/07/2021   23:25:00         2020                2       Ordinária   \n",
       "1  22/07/2021   23:25:00         2020                2       Ordinária   \n",
       "\n",
       "  TP_PRESTACAO_CONTAS DT_PRESTACAO_CONTAS  SQ_PRESTADOR_CONTAS  \\\n",
       "0               Final          14/12/2020           1220401248   \n",
       "1               Final          08/03/2021           1364490302   \n",
       "\n",
       "  CD_ESFERA_PARTIDARIA DS_ESFERA_PARTIDARIA  ... NR_PARTIDO_DOADOR  \\\n",
       "0                    M            Municipal  ...                -1   \n",
       "1                    M            Municipal  ...                -1   \n",
       "\n",
       "   SG_PARTIDO_DOADOR NM_PARTIDO_DOADOR       NR_RECIBO_DOACAO  \\\n",
       "0                NaN               NaN  P15000411452PI000005A   \n",
       "1                NaN               NaN  P15000412165PI000002A   \n",
       "\n",
       "   NR_DOCUMENTO_DOACAO SQ_RECEITA  DT_RECEITA  \\\n",
       "0                  NaN   18729827  29/09/2020   \n",
       "1                  NaN   19789208  27/09/2020   \n",
       "\n",
       "                                          DS_RECEITA VR_RECEITA  TIPO_DOADOR  \n",
       "0  LOC. DE IMOVEL P/ FUNCION. DE COMITE ELEITORAL...       1500       fisica  \n",
       "1  CESSÃO DE SERVIÇOS DE ASSESSORIA E CONSULTORIA...       1500       fisica  \n",
       "\n",
       "[2 rows x 49 columns]"
      ]
     },
     "execution_count": 54,
     "metadata": {},
     "output_type": "execute_result"
    }
   ],
   "source": [
    "df_final.head(2)"
   ]
  },
  {
   "cell_type": "markdown",
   "id": "9c4661ac",
   "metadata": {},
   "source": [
    "## Substituição condicional (conditional replacing)\n",
    "\n",
    "Agora, vamos usar o método where do pacote NumPy (carinhosamente chamado de np abaixo).\n",
    "\n",
    "Esta função recebe três parâmetros:\n",
    "\n",
    "* Uma condição: no nosso caso, queremos que filtrar as coluna do CNAE onde os valores sejam -1\n",
    "* Um valor: caso a condição acima seja verdadeira, qual valor deverá ser retornado?\n",
    "* Outro valor: se a condição for falsa, então, qual outro valor deverá ser retornado?\n"
   ]
  },
  {
   "cell_type": "code",
   "execution_count": 53,
   "id": "25cf479c",
   "metadata": {},
   "outputs": [],
   "source": [
    "df_final['TIPO_DOADOR'] = np.where(df_final['TIPO_DOADOR']==-1, 'fisica', 'juridica')"
   ]
  },
  {
   "cell_type": "markdown",
   "id": "eaeb6116",
   "metadata": {},
   "source": [
    "## Agrupando (group by)"
   ]
  },
  {
   "cell_type": "code",
   "execution_count": 56,
   "id": "af335f7d",
   "metadata": {},
   "outputs": [
    {
     "data": {
      "text/html": [
       "<div>\n",
       "<style scoped>\n",
       "    .dataframe tbody tr th:only-of-type {\n",
       "        vertical-align: middle;\n",
       "    }\n",
       "\n",
       "    .dataframe tbody tr th {\n",
       "        vertical-align: top;\n",
       "    }\n",
       "\n",
       "    .dataframe thead th {\n",
       "        text-align: right;\n",
       "    }\n",
       "</style>\n",
       "<table border=\"1\" class=\"dataframe\">\n",
       "  <thead>\n",
       "    <tr style=\"text-align: right;\">\n",
       "      <th></th>\n",
       "      <th></th>\n",
       "      <th>VR_RECEITA</th>\n",
       "    </tr>\n",
       "    <tr>\n",
       "      <th>TIPO_DOADOR</th>\n",
       "      <th>SG_UF</th>\n",
       "      <th></th>\n",
       "    </tr>\n",
       "  </thead>\n",
       "  <tbody>\n",
       "    <tr>\n",
       "      <th rowspan=\"9\" valign=\"top\">fisica</th>\n",
       "      <th>AL</th>\n",
       "      <td>17665</td>\n",
       "    </tr>\n",
       "    <tr>\n",
       "      <th>BA</th>\n",
       "      <td>200000</td>\n",
       "    </tr>\n",
       "    <tr>\n",
       "      <th>CE</th>\n",
       "      <td>200000</td>\n",
       "    </tr>\n",
       "    <tr>\n",
       "      <th>MA</th>\n",
       "      <td>100000</td>\n",
       "    </tr>\n",
       "    <tr>\n",
       "      <th>PB</th>\n",
       "      <td>23000</td>\n",
       "    </tr>\n",
       "    <tr>\n",
       "      <th>PE</th>\n",
       "      <td>150000</td>\n",
       "    </tr>\n",
       "    <tr>\n",
       "      <th>PI</th>\n",
       "      <td>23708</td>\n",
       "    </tr>\n",
       "    <tr>\n",
       "      <th>RN</th>\n",
       "      <td>25000</td>\n",
       "    </tr>\n",
       "    <tr>\n",
       "      <th>SE</th>\n",
       "      <td>31000</td>\n",
       "    </tr>\n",
       "    <tr>\n",
       "      <th rowspan=\"9\" valign=\"top\">juridica</th>\n",
       "      <th>AL</th>\n",
       "      <td>3900000</td>\n",
       "    </tr>\n",
       "    <tr>\n",
       "      <th>BA</th>\n",
       "      <td>11900000</td>\n",
       "    </tr>\n",
       "    <tr>\n",
       "      <th>CE</th>\n",
       "      <td>3900000</td>\n",
       "    </tr>\n",
       "    <tr>\n",
       "      <th>MA</th>\n",
       "      <td>3900000</td>\n",
       "    </tr>\n",
       "    <tr>\n",
       "      <th>PB</th>\n",
       "      <td>2169395</td>\n",
       "    </tr>\n",
       "    <tr>\n",
       "      <th>PE</th>\n",
       "      <td>4998000</td>\n",
       "    </tr>\n",
       "    <tr>\n",
       "      <th>PI</th>\n",
       "      <td>3900000</td>\n",
       "    </tr>\n",
       "    <tr>\n",
       "      <th>RN</th>\n",
       "      <td>3900000</td>\n",
       "    </tr>\n",
       "    <tr>\n",
       "      <th>SE</th>\n",
       "      <td>4000000</td>\n",
       "    </tr>\n",
       "  </tbody>\n",
       "</table>\n",
       "</div>"
      ],
      "text/plain": [
       "                   VR_RECEITA\n",
       "TIPO_DOADOR SG_UF            \n",
       "fisica      AL          17665\n",
       "            BA         200000\n",
       "            CE         200000\n",
       "            MA         100000\n",
       "            PB          23000\n",
       "            PE         150000\n",
       "            PI          23708\n",
       "            RN          25000\n",
       "            SE          31000\n",
       "juridica    AL        3900000\n",
       "            BA       11900000\n",
       "            CE        3900000\n",
       "            MA        3900000\n",
       "            PB        2169395\n",
       "            PE        4998000\n",
       "            PI        3900000\n",
       "            RN        3900000\n",
       "            SE        4000000"
      ]
     },
     "execution_count": 56,
     "metadata": {},
     "output_type": "execute_result"
    }
   ],
   "source": [
    "# Preencha abaixo primeiro uma lista com as 3 colunas que precisamos utilizar para responder à pergunta. E depois o nome das 2 colunas que precisamos agrupar.\n",
    "\n",
    "df_final[['TIPO_DOADOR','SG_UF', 'VR_RECEITA']].groupby(by=['TIPO_DOADOR', 'SG_UF']).max()"
   ]
  },
  {
   "cell_type": "code",
   "execution_count": 57,
   "id": "ee882728",
   "metadata": {},
   "outputs": [
    {
     "data": {
      "text/html": [
       "<div>\n",
       "<style scoped>\n",
       "    .dataframe tbody tr th:only-of-type {\n",
       "        vertical-align: middle;\n",
       "    }\n",
       "\n",
       "    .dataframe tbody tr th {\n",
       "        vertical-align: top;\n",
       "    }\n",
       "\n",
       "    .dataframe thead th {\n",
       "        text-align: right;\n",
       "    }\n",
       "</style>\n",
       "<table border=\"1\" class=\"dataframe\">\n",
       "  <thead>\n",
       "    <tr style=\"text-align: right;\">\n",
       "      <th></th>\n",
       "      <th>TIPO_DOADOR</th>\n",
       "      <th>SG_UF</th>\n",
       "      <th>VR_RECEITA</th>\n",
       "    </tr>\n",
       "  </thead>\n",
       "  <tbody>\n",
       "    <tr>\n",
       "      <th>0</th>\n",
       "      <td>fisica</td>\n",
       "      <td>AL</td>\n",
       "      <td>17665</td>\n",
       "    </tr>\n",
       "    <tr>\n",
       "      <th>1</th>\n",
       "      <td>fisica</td>\n",
       "      <td>BA</td>\n",
       "      <td>200000</td>\n",
       "    </tr>\n",
       "    <tr>\n",
       "      <th>2</th>\n",
       "      <td>fisica</td>\n",
       "      <td>CE</td>\n",
       "      <td>200000</td>\n",
       "    </tr>\n",
       "    <tr>\n",
       "      <th>3</th>\n",
       "      <td>fisica</td>\n",
       "      <td>MA</td>\n",
       "      <td>100000</td>\n",
       "    </tr>\n",
       "    <tr>\n",
       "      <th>4</th>\n",
       "      <td>fisica</td>\n",
       "      <td>PB</td>\n",
       "      <td>23000</td>\n",
       "    </tr>\n",
       "    <tr>\n",
       "      <th>5</th>\n",
       "      <td>fisica</td>\n",
       "      <td>PE</td>\n",
       "      <td>150000</td>\n",
       "    </tr>\n",
       "    <tr>\n",
       "      <th>6</th>\n",
       "      <td>fisica</td>\n",
       "      <td>PI</td>\n",
       "      <td>23708</td>\n",
       "    </tr>\n",
       "    <tr>\n",
       "      <th>7</th>\n",
       "      <td>fisica</td>\n",
       "      <td>RN</td>\n",
       "      <td>25000</td>\n",
       "    </tr>\n",
       "    <tr>\n",
       "      <th>8</th>\n",
       "      <td>fisica</td>\n",
       "      <td>SE</td>\n",
       "      <td>31000</td>\n",
       "    </tr>\n",
       "    <tr>\n",
       "      <th>9</th>\n",
       "      <td>juridica</td>\n",
       "      <td>AL</td>\n",
       "      <td>3900000</td>\n",
       "    </tr>\n",
       "    <tr>\n",
       "      <th>10</th>\n",
       "      <td>juridica</td>\n",
       "      <td>BA</td>\n",
       "      <td>11900000</td>\n",
       "    </tr>\n",
       "    <tr>\n",
       "      <th>11</th>\n",
       "      <td>juridica</td>\n",
       "      <td>CE</td>\n",
       "      <td>3900000</td>\n",
       "    </tr>\n",
       "    <tr>\n",
       "      <th>12</th>\n",
       "      <td>juridica</td>\n",
       "      <td>MA</td>\n",
       "      <td>3900000</td>\n",
       "    </tr>\n",
       "    <tr>\n",
       "      <th>13</th>\n",
       "      <td>juridica</td>\n",
       "      <td>PB</td>\n",
       "      <td>2169395</td>\n",
       "    </tr>\n",
       "    <tr>\n",
       "      <th>14</th>\n",
       "      <td>juridica</td>\n",
       "      <td>PE</td>\n",
       "      <td>4998000</td>\n",
       "    </tr>\n",
       "    <tr>\n",
       "      <th>15</th>\n",
       "      <td>juridica</td>\n",
       "      <td>PI</td>\n",
       "      <td>3900000</td>\n",
       "    </tr>\n",
       "    <tr>\n",
       "      <th>16</th>\n",
       "      <td>juridica</td>\n",
       "      <td>RN</td>\n",
       "      <td>3900000</td>\n",
       "    </tr>\n",
       "    <tr>\n",
       "      <th>17</th>\n",
       "      <td>juridica</td>\n",
       "      <td>SE</td>\n",
       "      <td>4000000</td>\n",
       "    </tr>\n",
       "  </tbody>\n",
       "</table>\n",
       "</div>"
      ],
      "text/plain": [
       "   TIPO_DOADOR SG_UF  VR_RECEITA\n",
       "0       fisica    AL       17665\n",
       "1       fisica    BA      200000\n",
       "2       fisica    CE      200000\n",
       "3       fisica    MA      100000\n",
       "4       fisica    PB       23000\n",
       "5       fisica    PE      150000\n",
       "6       fisica    PI       23708\n",
       "7       fisica    RN       25000\n",
       "8       fisica    SE       31000\n",
       "9     juridica    AL     3900000\n",
       "10    juridica    BA    11900000\n",
       "11    juridica    CE     3900000\n",
       "12    juridica    MA     3900000\n",
       "13    juridica    PB     2169395\n",
       "14    juridica    PE     4998000\n",
       "15    juridica    PI     3900000\n",
       "16    juridica    RN     3900000\n",
       "17    juridica    SE     4000000"
      ]
     },
     "execution_count": 57,
     "metadata": {},
     "output_type": "execute_result"
    }
   ],
   "source": [
    "# Para repetir o valor da coluna TIPO_DOADOR nas linhas, coloque o parâmetro as_index=False no método groupby do comando acima\n",
    "df_final[['TIPO_DOADOR','SG_UF', 'VR_RECEITA']].groupby(by=['TIPO_DOADOR', 'SG_UF'], as_index=False).max()"
   ]
  },
  {
   "cell_type": "markdown",
   "id": "3f71551b",
   "metadata": {},
   "source": [
    "## Qual o total de doações recebidas por partido?"
   ]
  },
  {
   "cell_type": "code",
   "execution_count": 70,
   "id": "f3539119",
   "metadata": {},
   "outputs": [
    {
     "data": {
      "text/html": [
       "<div>\n",
       "<style scoped>\n",
       "    .dataframe tbody tr th:only-of-type {\n",
       "        vertical-align: middle;\n",
       "    }\n",
       "\n",
       "    .dataframe tbody tr th {\n",
       "        vertical-align: top;\n",
       "    }\n",
       "\n",
       "    .dataframe thead th {\n",
       "        text-align: right;\n",
       "    }\n",
       "</style>\n",
       "<table border=\"1\" class=\"dataframe\">\n",
       "  <thead>\n",
       "    <tr style=\"text-align: right;\">\n",
       "      <th></th>\n",
       "      <th></th>\n",
       "      <th>VR_RECEITA</th>\n",
       "    </tr>\n",
       "    <tr>\n",
       "      <th>SG_PARTIDO</th>\n",
       "      <th>NM_PARTIDO</th>\n",
       "      <th></th>\n",
       "    </tr>\n",
       "  </thead>\n",
       "  <tbody>\n",
       "    <tr>\n",
       "      <th>AVANTE</th>\n",
       "      <th>AVANTE</th>\n",
       "      <td>1555473</td>\n",
       "    </tr>\n",
       "    <tr>\n",
       "      <th>CIDADANIA</th>\n",
       "      <th>Cidadania</th>\n",
       "      <td>5433420</td>\n",
       "    </tr>\n",
       "    <tr>\n",
       "      <th>DC</th>\n",
       "      <th>Democracia Cristã</th>\n",
       "      <td>1415608</td>\n",
       "    </tr>\n",
       "    <tr>\n",
       "      <th>DEM</th>\n",
       "      <th>Democratas</th>\n",
       "      <td>2521140</td>\n",
       "    </tr>\n",
       "    <tr>\n",
       "      <th>MDB</th>\n",
       "      <th>Movimento Democrático Brasileiro</th>\n",
       "      <td>39185338</td>\n",
       "    </tr>\n",
       "    <tr>\n",
       "      <th>NOVO</th>\n",
       "      <th>Partido Novo</th>\n",
       "      <td>138588</td>\n",
       "    </tr>\n",
       "    <tr>\n",
       "      <th>PATRIOTA</th>\n",
       "      <th>Patriota</th>\n",
       "      <td>946022</td>\n",
       "    </tr>\n",
       "    <tr>\n",
       "      <th>PC do B</th>\n",
       "      <th>Partido Comunista do Brasil</th>\n",
       "      <td>2393497</td>\n",
       "    </tr>\n",
       "    <tr>\n",
       "      <th>PCB</th>\n",
       "      <th>Partido Comunista Brasileiro</th>\n",
       "      <td>146072</td>\n",
       "    </tr>\n",
       "    <tr>\n",
       "      <th>PDT</th>\n",
       "      <th>Partido Democrático Trabalhista</th>\n",
       "      <td>13420365</td>\n",
       "    </tr>\n",
       "    <tr>\n",
       "      <th>PL</th>\n",
       "      <th>Partido Liberal</th>\n",
       "      <td>1620905</td>\n",
       "    </tr>\n",
       "    <tr>\n",
       "      <th>PMB</th>\n",
       "      <th>Partido da Mulher Brasileira</th>\n",
       "      <td>65117</td>\n",
       "    </tr>\n",
       "    <tr>\n",
       "      <th>PMN</th>\n",
       "      <th>Partido da Mobilização Nacional</th>\n",
       "      <td>93731</td>\n",
       "    </tr>\n",
       "    <tr>\n",
       "      <th>PODE</th>\n",
       "      <th>Podemos</th>\n",
       "      <td>15425546</td>\n",
       "    </tr>\n",
       "    <tr>\n",
       "      <th>PP</th>\n",
       "      <th>PROGRESSISTAS</th>\n",
       "      <td>50241447</td>\n",
       "    </tr>\n",
       "    <tr>\n",
       "      <th>PROS</th>\n",
       "      <th>Partido Republicano da Ordem Social</th>\n",
       "      <td>9186878</td>\n",
       "    </tr>\n",
       "    <tr>\n",
       "      <th>PRTB</th>\n",
       "      <th>Partido Renovador Trabalhista Brasileiro</th>\n",
       "      <td>94798</td>\n",
       "    </tr>\n",
       "    <tr>\n",
       "      <th>PSB</th>\n",
       "      <th>Partido Socialista Brasileiro</th>\n",
       "      <td>38124175</td>\n",
       "    </tr>\n",
       "    <tr>\n",
       "      <th>PSC</th>\n",
       "      <th>Partido Social Cristão</th>\n",
       "      <td>294951</td>\n",
       "    </tr>\n",
       "    <tr>\n",
       "      <th>PSD</th>\n",
       "      <th>Partido Social Democrático</th>\n",
       "      <td>55485632</td>\n",
       "    </tr>\n",
       "    <tr>\n",
       "      <th>PSDB</th>\n",
       "      <th>Partido da Social Democracia Brasileira</th>\n",
       "      <td>3410914</td>\n",
       "    </tr>\n",
       "    <tr>\n",
       "      <th>PSL</th>\n",
       "      <th>Partido Social Liberal</th>\n",
       "      <td>32500228</td>\n",
       "    </tr>\n",
       "    <tr>\n",
       "      <th>PSOL</th>\n",
       "      <th>Partido Socialismo e Liberdade</th>\n",
       "      <td>10307063</td>\n",
       "    </tr>\n",
       "    <tr>\n",
       "      <th>PSTU</th>\n",
       "      <th>Partido Socialista dos Trabalhadores Unificado</th>\n",
       "      <td>4200</td>\n",
       "    </tr>\n",
       "    <tr>\n",
       "      <th>PT</th>\n",
       "      <th>Partido dos Trabalhadores</th>\n",
       "      <td>43423701</td>\n",
       "    </tr>\n",
       "    <tr>\n",
       "      <th>PTB</th>\n",
       "      <th>Partido Trabalhista Brasileiro</th>\n",
       "      <td>13536876</td>\n",
       "    </tr>\n",
       "    <tr>\n",
       "      <th>PTC</th>\n",
       "      <th>Partido Trabalhista Cristão</th>\n",
       "      <td>1307068</td>\n",
       "    </tr>\n",
       "    <tr>\n",
       "      <th>PV</th>\n",
       "      <th>Partido Verde</th>\n",
       "      <td>6677278</td>\n",
       "    </tr>\n",
       "    <tr>\n",
       "      <th>REDE</th>\n",
       "      <th>Rede Sustentabilidade</th>\n",
       "      <td>4790577</td>\n",
       "    </tr>\n",
       "    <tr>\n",
       "      <th>REPUBLICANOS</th>\n",
       "      <th>REPUBLICANOS</th>\n",
       "      <td>13015752</td>\n",
       "    </tr>\n",
       "    <tr>\n",
       "      <th>SOLIDARIEDADE</th>\n",
       "      <th>Solidariedade</th>\n",
       "      <td>13144797</td>\n",
       "    </tr>\n",
       "    <tr>\n",
       "      <th>UP</th>\n",
       "      <th>Unidade Popular</th>\n",
       "      <td>281887</td>\n",
       "    </tr>\n",
       "  </tbody>\n",
       "</table>\n",
       "</div>"
      ],
      "text/plain": [
       "                                                              VR_RECEITA\n",
       "SG_PARTIDO    NM_PARTIDO                                                \n",
       "AVANTE        AVANTE                                             1555473\n",
       "CIDADANIA     Cidadania                                          5433420\n",
       "DC            Democracia Cristã                                  1415608\n",
       "DEM           Democratas                                         2521140\n",
       "MDB           Movimento Democrático Brasileiro                  39185338\n",
       "NOVO          Partido Novo                                        138588\n",
       "PATRIOTA      Patriota                                            946022\n",
       "PC do B       Partido Comunista do Brasil                        2393497\n",
       "PCB           Partido Comunista Brasileiro                        146072\n",
       "PDT           Partido Democrático Trabalhista                   13420365\n",
       "PL            Partido Liberal                                    1620905\n",
       "PMB           Partido da Mulher Brasileira                         65117\n",
       "PMN           Partido da Mobilização Nacional                      93731\n",
       "PODE          Podemos                                           15425546\n",
       "PP            PROGRESSISTAS                                     50241447\n",
       "PROS          Partido Republicano da Ordem Social                9186878\n",
       "PRTB          Partido Renovador Trabalhista Brasileiro             94798\n",
       "PSB           Partido Socialista Brasileiro                     38124175\n",
       "PSC           Partido Social Cristão                              294951\n",
       "PSD           Partido Social Democrático                        55485632\n",
       "PSDB          Partido da Social Democracia Brasileira            3410914\n",
       "PSL           Partido Social Liberal                            32500228\n",
       "PSOL          Partido Socialismo e Liberdade                    10307063\n",
       "PSTU          Partido Socialista dos Trabalhadores Unificado        4200\n",
       "PT            Partido dos Trabalhadores                         43423701\n",
       "PTB           Partido Trabalhista Brasileiro                    13536876\n",
       "PTC           Partido Trabalhista Cristão                        1307068\n",
       "PV            Partido Verde                                      6677278\n",
       "REDE          Rede Sustentabilidade                              4790577\n",
       "REPUBLICANOS  REPUBLICANOS                                      13015752\n",
       "SOLIDARIEDADE Solidariedade                                     13144797\n",
       "UP            Unidade Popular                                     281887"
      ]
     },
     "execution_count": 70,
     "metadata": {},
     "output_type": "execute_result"
    }
   ],
   "source": [
    "total_doacoes = df_final[['SG_PARTIDO', 'NM_PARTIDO', 'VR_RECEITA']].groupby(by=['SG_PARTIDO', 'NM_PARTIDO']).sum()\n",
    "total_doacoes"
   ]
  },
  {
   "cell_type": "markdown",
   "id": "945d3c85",
   "metadata": {},
   "source": [
    "## Qual é o top 10?\n",
    "\n",
    "Crie um novo dataframe com os 10 partidos com mais doações. Você precisa primeiro ordenar os resultados e depois selecionar apenas os 10 primeiros.\n",
    "\n"
   ]
  },
  {
   "cell_type": "code",
   "execution_count": 72,
   "id": "75358430",
   "metadata": {},
   "outputs": [
    {
     "data": {
      "text/html": [
       "<div>\n",
       "<style scoped>\n",
       "    .dataframe tbody tr th:only-of-type {\n",
       "        vertical-align: middle;\n",
       "    }\n",
       "\n",
       "    .dataframe tbody tr th {\n",
       "        vertical-align: top;\n",
       "    }\n",
       "\n",
       "    .dataframe thead th {\n",
       "        text-align: right;\n",
       "    }\n",
       "</style>\n",
       "<table border=\"1\" class=\"dataframe\">\n",
       "  <thead>\n",
       "    <tr style=\"text-align: right;\">\n",
       "      <th></th>\n",
       "      <th></th>\n",
       "      <th>VR_RECEITA</th>\n",
       "    </tr>\n",
       "    <tr>\n",
       "      <th>SG_PARTIDO</th>\n",
       "      <th>NM_PARTIDO</th>\n",
       "      <th></th>\n",
       "    </tr>\n",
       "  </thead>\n",
       "  <tbody>\n",
       "    <tr>\n",
       "      <th>PSD</th>\n",
       "      <th>Partido Social Democrático</th>\n",
       "      <td>55485632</td>\n",
       "    </tr>\n",
       "    <tr>\n",
       "      <th>PP</th>\n",
       "      <th>PROGRESSISTAS</th>\n",
       "      <td>50241447</td>\n",
       "    </tr>\n",
       "    <tr>\n",
       "      <th>PT</th>\n",
       "      <th>Partido dos Trabalhadores</th>\n",
       "      <td>43423701</td>\n",
       "    </tr>\n",
       "    <tr>\n",
       "      <th>MDB</th>\n",
       "      <th>Movimento Democrático Brasileiro</th>\n",
       "      <td>39185338</td>\n",
       "    </tr>\n",
       "    <tr>\n",
       "      <th>PSB</th>\n",
       "      <th>Partido Socialista Brasileiro</th>\n",
       "      <td>38124175</td>\n",
       "    </tr>\n",
       "    <tr>\n",
       "      <th>PSL</th>\n",
       "      <th>Partido Social Liberal</th>\n",
       "      <td>32500228</td>\n",
       "    </tr>\n",
       "    <tr>\n",
       "      <th>PODE</th>\n",
       "      <th>Podemos</th>\n",
       "      <td>15425546</td>\n",
       "    </tr>\n",
       "    <tr>\n",
       "      <th>PTB</th>\n",
       "      <th>Partido Trabalhista Brasileiro</th>\n",
       "      <td>13536876</td>\n",
       "    </tr>\n",
       "    <tr>\n",
       "      <th>PDT</th>\n",
       "      <th>Partido Democrático Trabalhista</th>\n",
       "      <td>13420365</td>\n",
       "    </tr>\n",
       "    <tr>\n",
       "      <th>SOLIDARIEDADE</th>\n",
       "      <th>Solidariedade</th>\n",
       "      <td>13144797</td>\n",
       "    </tr>\n",
       "  </tbody>\n",
       "</table>\n",
       "</div>"
      ],
      "text/plain": [
       "                                                VR_RECEITA\n",
       "SG_PARTIDO    NM_PARTIDO                                  \n",
       "PSD           Partido Social Democrático          55485632\n",
       "PP            PROGRESSISTAS                       50241447\n",
       "PT            Partido dos Trabalhadores           43423701\n",
       "MDB           Movimento Democrático Brasileiro    39185338\n",
       "PSB           Partido Socialista Brasileiro       38124175\n",
       "PSL           Partido Social Liberal              32500228\n",
       "PODE          Podemos                             15425546\n",
       "PTB           Partido Trabalhista Brasileiro      13536876\n",
       "PDT           Partido Democrático Trabalhista     13420365\n",
       "SOLIDARIEDADE Solidariedade                       13144797"
      ]
     },
     "execution_count": 72,
     "metadata": {},
     "output_type": "execute_result"
    }
   ],
   "source": [
    "top_10 = total_doacoes.sort_values(by='VR_RECEITA',ascending=False).head(10)\n",
    "top_10"
   ]
  },
  {
   "cell_type": "markdown",
   "id": "6d0e643d",
   "metadata": {},
   "source": [
    "# Vamos visualizar os resultados?\n",
    "Na aula, nós vimos como usar o matplotlib para gerar gráficos. Agora, vamos descobrir uma nova forma de fazer o mesmo usando um método nativo Pandas. Experimente colocar `.plot(kind='barh')` após a consulta ou dataframe anterior.\n",
    "\n",
    "Com este comando, podemos produzir um gráfico (plot) do tipo (kind) de barras horizontais (barh)."
   ]
  },
  {
   "cell_type": "code",
   "execution_count": 69,
   "id": "9828d762",
   "metadata": {},
   "outputs": [
    {
     "data": {
      "text/plain": [
       "<AxesSubplot:ylabel='SG_PARTIDO,NM_PARTIDO'>"
      ]
     },
     "execution_count": 69,
     "metadata": {},
     "output_type": "execute_result"
    },
    {
     "data": {
      "image/png": "[encoded data removed]",
      "text/plain": [
       "<Figure size 432x288 with 1 Axes>"
      ]
     },
     "metadata": {
      "needs_background": "light"
     },
     "output_type": "display_data"
    }
   ],
   "source": [
    "top_10.plot(kind='barh')"
   ]
  },
  {
   "cell_type": "markdown",
   "id": "e8636631",
   "metadata": {},
   "source": [
    "## Qual o valor médio das doações por tipo de doador?\n",
    "\n",
    "Agora é sua vez! A partir dos comandos anteriores, faça uma nova consulta para descobrir a mediana de acordo com o tipo de doador."
   ]
  },
  {
   "cell_type": "code",
   "execution_count": 75,
   "id": "4c9bcd82",
   "metadata": {},
   "outputs": [
    {
     "data": {
      "text/plain": [
       "count       12288.00\n",
       "mean        30939.86\n",
       "std        213886.00\n",
       "min             0.00\n",
       "25%           100.00\n",
       "50%           800.00\n",
       "75%          4000.00\n",
       "max      11900000.00\n",
       "Name: VR_RECEITA, dtype: float64"
      ]
     },
     "execution_count": 75,
     "metadata": {},
     "output_type": "execute_result"
    }
   ],
   "source": [
    "round(df_final['VR_RECEITA'].describe(), 2)"
   ]
  },
  {
   "cell_type": "code",
   "execution_count": 78,
   "id": "b084b185",
   "metadata": {},
   "outputs": [
    {
     "data": {
      "text/html": [
       "<div>\n",
       "<style scoped>\n",
       "    .dataframe tbody tr th:only-of-type {\n",
       "        vertical-align: middle;\n",
       "    }\n",
       "\n",
       "    .dataframe tbody tr th {\n",
       "        vertical-align: top;\n",
       "    }\n",
       "\n",
       "    .dataframe thead th {\n",
       "        text-align: right;\n",
       "    }\n",
       "</style>\n",
       "<table border=\"1\" class=\"dataframe\">\n",
       "  <thead>\n",
       "    <tr style=\"text-align: right;\">\n",
       "      <th></th>\n",
       "      <th>TIPO_DOADOR</th>\n",
       "      <th>SG_UF</th>\n",
       "      <th>VR_RECEITA</th>\n",
       "    </tr>\n",
       "  </thead>\n",
       "  <tbody>\n",
       "    <tr>\n",
       "      <th>0</th>\n",
       "      <td>fisica</td>\n",
       "      <td>AL</td>\n",
       "      <td>653.868035</td>\n",
       "    </tr>\n",
       "    <tr>\n",
       "      <th>1</th>\n",
       "      <td>fisica</td>\n",
       "      <td>BA</td>\n",
       "      <td>1962.934749</td>\n",
       "    </tr>\n",
       "    <tr>\n",
       "      <th>2</th>\n",
       "      <td>fisica</td>\n",
       "      <td>CE</td>\n",
       "      <td>2127.782723</td>\n",
       "    </tr>\n",
       "    <tr>\n",
       "      <th>3</th>\n",
       "      <td>fisica</td>\n",
       "      <td>MA</td>\n",
       "      <td>2542.015365</td>\n",
       "    </tr>\n",
       "    <tr>\n",
       "      <th>4</th>\n",
       "      <td>fisica</td>\n",
       "      <td>PB</td>\n",
       "      <td>817.424870</td>\n",
       "    </tr>\n",
       "    <tr>\n",
       "      <th>5</th>\n",
       "      <td>fisica</td>\n",
       "      <td>PE</td>\n",
       "      <td>2687.897753</td>\n",
       "    </tr>\n",
       "    <tr>\n",
       "      <th>6</th>\n",
       "      <td>fisica</td>\n",
       "      <td>PI</td>\n",
       "      <td>1200.901786</td>\n",
       "    </tr>\n",
       "    <tr>\n",
       "      <th>7</th>\n",
       "      <td>fisica</td>\n",
       "      <td>RN</td>\n",
       "      <td>1244.894526</td>\n",
       "    </tr>\n",
       "    <tr>\n",
       "      <th>8</th>\n",
       "      <td>fisica</td>\n",
       "      <td>SE</td>\n",
       "      <td>1888.990654</td>\n",
       "    </tr>\n",
       "    <tr>\n",
       "      <th>9</th>\n",
       "      <td>juridica</td>\n",
       "      <td>AL</td>\n",
       "      <td>121419.702128</td>\n",
       "    </tr>\n",
       "    <tr>\n",
       "      <th>10</th>\n",
       "      <td>juridica</td>\n",
       "      <td>BA</td>\n",
       "      <td>40453.708991</td>\n",
       "    </tr>\n",
       "    <tr>\n",
       "      <th>11</th>\n",
       "      <td>juridica</td>\n",
       "      <td>CE</td>\n",
       "      <td>66957.925706</td>\n",
       "    </tr>\n",
       "    <tr>\n",
       "      <th>12</th>\n",
       "      <td>juridica</td>\n",
       "      <td>MA</td>\n",
       "      <td>65374.247379</td>\n",
       "    </tr>\n",
       "    <tr>\n",
       "      <th>13</th>\n",
       "      <td>juridica</td>\n",
       "      <td>PB</td>\n",
       "      <td>71048.879845</td>\n",
       "    </tr>\n",
       "    <tr>\n",
       "      <th>14</th>\n",
       "      <td>juridica</td>\n",
       "      <td>PE</td>\n",
       "      <td>94264.599217</td>\n",
       "    </tr>\n",
       "    <tr>\n",
       "      <th>15</th>\n",
       "      <td>juridica</td>\n",
       "      <td>PI</td>\n",
       "      <td>78605.486711</td>\n",
       "    </tr>\n",
       "    <tr>\n",
       "      <th>16</th>\n",
       "      <td>juridica</td>\n",
       "      <td>RN</td>\n",
       "      <td>48464.931313</td>\n",
       "    </tr>\n",
       "    <tr>\n",
       "      <th>17</th>\n",
       "      <td>juridica</td>\n",
       "      <td>SE</td>\n",
       "      <td>53392.889423</td>\n",
       "    </tr>\n",
       "  </tbody>\n",
       "</table>\n",
       "</div>"
      ],
      "text/plain": [
       "   TIPO_DOADOR SG_UF     VR_RECEITA\n",
       "0       fisica    AL     653.868035\n",
       "1       fisica    BA    1962.934749\n",
       "2       fisica    CE    2127.782723\n",
       "3       fisica    MA    2542.015365\n",
       "4       fisica    PB     817.424870\n",
       "5       fisica    PE    2687.897753\n",
       "6       fisica    PI    1200.901786\n",
       "7       fisica    RN    1244.894526\n",
       "8       fisica    SE    1888.990654\n",
       "9     juridica    AL  121419.702128\n",
       "10    juridica    BA   40453.708991\n",
       "11    juridica    CE   66957.925706\n",
       "12    juridica    MA   65374.247379\n",
       "13    juridica    PB   71048.879845\n",
       "14    juridica    PE   94264.599217\n",
       "15    juridica    PI   78605.486711\n",
       "16    juridica    RN   48464.931313\n",
       "17    juridica    SE   53392.889423"
      ]
     },
     "execution_count": 78,
     "metadata": {},
     "output_type": "execute_result"
    }
   ],
   "source": [
    "df_final[['TIPO_DOADOR','SG_UF', 'VR_RECEITA']].groupby(by=['TIPO_DOADOR', 'SG_UF'], as_index=False).median()"
   ]
  },
  {
   "cell_type": "markdown",
   "id": "9c3759e0",
   "metadata": {},
   "source": [
    "# Entreviste você mesmo"
   ]
  },
  {
   "cell_type": "markdown",
   "id": "c4f8537c",
   "metadata": {},
   "source": [
    "Escreva abaixo pelo menos outras três perguntas que podem ser feitas à base de dados. Escreva a pergunta como um comentário acima do código com a consulta em Python."
   ]
  },
  {
   "cell_type": "markdown",
   "id": "6898d0c8",
   "metadata": {},
   "source": []
  }
 ],
 "metadata": {
  "interpreter": {
   "hash": "916dbcbb3f70747c44a77c7bcd40155683ae19c65e1c03b4aa3499c5328201f1"
  },
  "kernelspec": {
   "display_name": "Python 3 (ipykernel)",
   "language": "python",
   "name": "python3"
  },
  "language_info": {
   "codemirror_mode": {
    "name": "ipython",
    "version": 3
   },
   "file_extension": ".py",
   "mimetype": "text/x-python",
   "name": "python",
   "nbconvert_exporter": "python",
   "pygments_lexer": "ipython3",
   "version": "3.8.2"
  }
 },
 "nbformat": 4,
 "nbformat_minor": 5
}
