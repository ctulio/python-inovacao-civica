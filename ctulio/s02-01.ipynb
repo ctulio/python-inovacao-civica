{
 "cells": [
  {
   "cell_type": "markdown",
   "id": "7734693e",
   "metadata": {},
   "source": [
    "# Escola de Dados - Python para inovação cívica\n",
    "## Módulo 1: Noções básicas de estatística descritiva e pré-processamento\n",
    "\n",
    "- [Aula 8](#Aula-8:-Introdução-a-estatística)\n",
    "- [Aula 9](#Aula-9:-Medidas-de-tendência-central-e-dispersão)\n",
    "- [Aula 10](#Aula-10:-Outliers-e-valores-faltantes)\n",
    "- [Aula 12](#Aula-12:-Operações-básicas-com-python)\n",
    "- [Aula 13](#Aula-13:-Métodos-`filter`-e-`sort_values`)\n",
    "- [Aula 14](#Aula-14:-Operações-com-dados-e-método-`apply`)\n",
    "- [Aula 15](#Aula-15:-Operações-com-dados-e-método-`groupby`)\n",
    "\n",
    "\n",
    "### Aula 8: Introdução a estatística\n",
    "\n",
    "Os dados que usaremos nesse notebook pode ser encontrado em: [TSE. Candidaturas em 2020](https://www.tse.jus.br/eleicoes/estatisticas/repositorio-de-dados-eleitorais-1).\n",
    "\n",
    "Trabalharemos com os dados referentes as candidaturas nos estados de Pernambuco e Rio Grande do Norte.\n"
   ]
  },
  {
   "cell_type": "code",
   "execution_count": 14,
   "id": "2d8c10dc",
   "metadata": {},
   "outputs": [],
   "source": [
    "import pandas as pd"
   ]
  },
  {
   "cell_type": "code",
   "execution_count": 15,
   "id": "23db38e0",
   "metadata": {},
   "outputs": [],
   "source": [
    "\n",
    "dados_pe_rn = ['../semana_2/base_dados/consulta_cand_2020_PE.csv', '../semana_2/base_dados/consulta_cand_2020_RN.csv']"
   ]
  },
  {
   "cell_type": "code",
   "execution_count": 16,
   "id": "d6c44eef",
   "metadata": {},
   "outputs": [],
   "source": [
    "lista_df = []\n",
    "\n",
    "for dados_estado in dados_pe_rn:\n",
    "    df_estado = pd.read_csv(dados_estado, sep=';', encoding='latin_1')\n",
    "    lista_df.append(df_estado)"
   ]
  },
  {
   "cell_type": "code",
   "execution_count": 17,
   "id": "31ddff3b",
   "metadata": {},
   "outputs": [],
   "source": [
    "df_completo = pd.concat(lista_df, axis=0, ignore_index=True)"
   ]
  },
  {
   "cell_type": "markdown",
   "id": "d4cc48d0",
   "metadata": {},
   "source": [
    "É possível criar um dataframe apenas com os dados de candidaturas para as Câmeras de Vereados dos estados."
   ]
  },
  {
   "cell_type": "code",
   "execution_count": 18,
   "id": "4e05d8d6",
   "metadata": {},
   "outputs": [],
   "source": [
    "df_vereadores = df_completo[df_completo['CD_CARGO'] == 13].copy()"
   ]
  },
  {
   "cell_type": "code",
   "execution_count": 19,
   "id": "2c80d4c0",
   "metadata": {},
   "outputs": [
    {
     "data": {
      "text/plain": [
       "Index(['DT_GERACAO', 'HH_GERACAO', 'ANO_ELEICAO', 'CD_TIPO_ELEICAO',\n",
       "       'NM_TIPO_ELEICAO', 'NR_TURNO', 'CD_ELEICAO', 'DS_ELEICAO', 'DT_ELEICAO',\n",
       "       'TP_ABRANGENCIA', 'SG_UF', 'SG_UE', 'NM_UE', 'CD_CARGO', 'DS_CARGO',\n",
       "       'SQ_CANDIDATO', 'NR_CANDIDATO', 'NM_CANDIDATO', 'NM_URNA_CANDIDATO',\n",
       "       'NM_SOCIAL_CANDIDATO', 'NR_CPF_CANDIDATO', 'NM_EMAIL',\n",
       "       'CD_SITUACAO_CANDIDATURA', 'DS_SITUACAO_CANDIDATURA',\n",
       "       'CD_DETALHE_SITUACAO_CAND', 'DS_DETALHE_SITUACAO_CAND', 'TP_AGREMIACAO',\n",
       "       'NR_PARTIDO', 'SG_PARTIDO', 'NM_PARTIDO', 'SQ_COLIGACAO',\n",
       "       'NM_COLIGACAO', 'DS_COMPOSICAO_COLIGACAO', 'CD_NACIONALIDADE',\n",
       "       'DS_NACIONALIDADE', 'SG_UF_NASCIMENTO', 'CD_MUNICIPIO_NASCIMENTO',\n",
       "       'NM_MUNICIPIO_NASCIMENTO', 'DT_NASCIMENTO', 'NR_IDADE_DATA_POSSE',\n",
       "       'NR_TITULO_ELEITORAL_CANDIDATO', 'CD_GENERO', 'DS_GENERO',\n",
       "       'CD_GRAU_INSTRUCAO', 'DS_GRAU_INSTRUCAO', 'CD_ESTADO_CIVIL',\n",
       "       'DS_ESTADO_CIVIL', 'CD_COR_RACA', 'DS_COR_RACA', 'CD_OCUPACAO',\n",
       "       'DS_OCUPACAO', 'VR_DESPESA_MAX_CAMPANHA', 'CD_SIT_TOT_TURNO',\n",
       "       'DS_SIT_TOT_TURNO', 'ST_REELEICAO', 'ST_DECLARAR_BENS',\n",
       "       'NR_PROTOCOLO_CANDIDATURA', 'NR_PROCESSO',\n",
       "       'CD_SITUACAO_CANDIDATO_PLEITO', 'DS_SITUACAO_CANDIDATO_PLEITO',\n",
       "       'CD_SITUACAO_CANDIDATO_URNA', 'DS_SITUACAO_CANDIDATO_URNA',\n",
       "       'ST_CANDIDATO_INSERIDO_URNA'],\n",
       "      dtype='object')"
      ]
     },
     "execution_count": 19,
     "metadata": {},
     "output_type": "execute_result"
    }
   ],
   "source": [
    "df_vereadores.columns"
   ]
  },
  {
   "cell_type": "markdown",
   "id": "5dca9125",
   "metadata": {},
   "source": [
    "O método `pd.describe` traz um quadro com algumas medidas da estatística descritiva, como as medidas de tendência central, medidas de dispersão e quartis, excluindo os valores NaN (not a number)."
   ]
  },
  {
   "cell_type": "code",
   "execution_count": 20,
   "id": "979940fa",
   "metadata": {},
   "outputs": [
    {
     "data": {
      "text/html": [
       "<div>\n",
       "<style scoped>\n",
       "    .dataframe tbody tr th:only-of-type {\n",
       "        vertical-align: middle;\n",
       "    }\n",
       "\n",
       "    .dataframe tbody tr th {\n",
       "        vertical-align: top;\n",
       "    }\n",
       "\n",
       "    .dataframe thead th {\n",
       "        text-align: right;\n",
       "    }\n",
       "</style>\n",
       "<table border=\"1\" class=\"dataframe\">\n",
       "  <thead>\n",
       "    <tr style=\"text-align: right;\">\n",
       "      <th></th>\n",
       "      <th>ANO_ELEICAO</th>\n",
       "      <th>CD_TIPO_ELEICAO</th>\n",
       "      <th>NR_TURNO</th>\n",
       "      <th>CD_ELEICAO</th>\n",
       "      <th>SG_UE</th>\n",
       "      <th>CD_CARGO</th>\n",
       "      <th>SQ_CANDIDATO</th>\n",
       "      <th>NR_CANDIDATO</th>\n",
       "      <th>NR_CPF_CANDIDATO</th>\n",
       "      <th>CD_SITUACAO_CANDIDATURA</th>\n",
       "      <th>...</th>\n",
       "      <th>CD_GRAU_INSTRUCAO</th>\n",
       "      <th>CD_ESTADO_CIVIL</th>\n",
       "      <th>CD_COR_RACA</th>\n",
       "      <th>CD_OCUPACAO</th>\n",
       "      <th>VR_DESPESA_MAX_CAMPANHA</th>\n",
       "      <th>CD_SIT_TOT_TURNO</th>\n",
       "      <th>NR_PROTOCOLO_CANDIDATURA</th>\n",
       "      <th>NR_PROCESSO</th>\n",
       "      <th>CD_SITUACAO_CANDIDATO_PLEITO</th>\n",
       "      <th>CD_SITUACAO_CANDIDATO_URNA</th>\n",
       "    </tr>\n",
       "  </thead>\n",
       "  <tbody>\n",
       "    <tr>\n",
       "      <th>count</th>\n",
       "      <td>29269.0</td>\n",
       "      <td>29269.0</td>\n",
       "      <td>29269.0</td>\n",
       "      <td>29269.0</td>\n",
       "      <td>29269.000000</td>\n",
       "      <td>29269.0</td>\n",
       "      <td>2.926900e+04</td>\n",
       "      <td>29269.000000</td>\n",
       "      <td>2.926900e+04</td>\n",
       "      <td>29269.000000</td>\n",
       "      <td>...</td>\n",
       "      <td>29269.000000</td>\n",
       "      <td>29269.000000</td>\n",
       "      <td>29269.000000</td>\n",
       "      <td>29269.000000</td>\n",
       "      <td>2.926900e+04</td>\n",
       "      <td>29269.000000</td>\n",
       "      <td>29269.0</td>\n",
       "      <td>2.926900e+04</td>\n",
       "      <td>29269.000000</td>\n",
       "      <td>29269.000000</td>\n",
       "    </tr>\n",
       "    <tr>\n",
       "      <th>mean</th>\n",
       "      <td>2020.0</td>\n",
       "      <td>2.0</td>\n",
       "      <td>1.0</td>\n",
       "      <td>426.0</td>\n",
       "      <td>22341.673990</td>\n",
       "      <td>13.0</td>\n",
       "      <td>1.797434e+11</td>\n",
       "      <td>32889.886569</td>\n",
       "      <td>2.922523e+10</td>\n",
       "      <td>11.559978</td>\n",
       "      <td>...</td>\n",
       "      <td>5.627387</td>\n",
       "      <td>2.658000</td>\n",
       "      <td>2.204243</td>\n",
       "      <td>532.344802</td>\n",
       "      <td>8.044686e+04</td>\n",
       "      <td>4.202569</td>\n",
       "      <td>-1.0</td>\n",
       "      <td>6.002235e+18</td>\n",
       "      <td>2.063275</td>\n",
       "      <td>2.054665</td>\n",
       "    </tr>\n",
       "    <tr>\n",
       "      <th>std</th>\n",
       "      <td>0.0</td>\n",
       "      <td>0.0</td>\n",
       "      <td>0.0</td>\n",
       "      <td>0.0</td>\n",
       "      <td>3562.350455</td>\n",
       "      <td>0.0</td>\n",
       "      <td>1.404864e+10</td>\n",
       "      <td>21536.107047</td>\n",
       "      <td>3.108040e+10</td>\n",
       "      <td>1.940800</td>\n",
       "      <td>...</td>\n",
       "      <td>1.701545</td>\n",
       "      <td>2.056771</td>\n",
       "      <td>1.007947</td>\n",
       "      <td>321.971818</td>\n",
       "      <td>1.798536e+05</td>\n",
       "      <td>1.316052</td>\n",
       "      <td>0.0</td>\n",
       "      <td>1.400676e+15</td>\n",
       "      <td>1.379490</td>\n",
       "      <td>1.379635</td>\n",
       "    </tr>\n",
       "    <tr>\n",
       "      <th>min</th>\n",
       "      <td>2020.0</td>\n",
       "      <td>2.0</td>\n",
       "      <td>1.0</td>\n",
       "      <td>426.0</td>\n",
       "      <td>16004.000000</td>\n",
       "      <td>13.0</td>\n",
       "      <td>1.700006e+11</td>\n",
       "      <td>10000.000000</td>\n",
       "      <td>1.321943e+07</td>\n",
       "      <td>3.000000</td>\n",
       "      <td>...</td>\n",
       "      <td>1.000000</td>\n",
       "      <td>1.000000</td>\n",
       "      <td>1.000000</td>\n",
       "      <td>101.000000</td>\n",
       "      <td>1.230775e+04</td>\n",
       "      <td>-1.000000</td>\n",
       "      <td>-1.0</td>\n",
       "      <td>6.000126e+18</td>\n",
       "      <td>-1.000000</td>\n",
       "      <td>-1.000000</td>\n",
       "    </tr>\n",
       "    <tr>\n",
       "      <th>25%</th>\n",
       "      <td>2020.0</td>\n",
       "      <td>2.0</td>\n",
       "      <td>1.0</td>\n",
       "      <td>426.0</td>\n",
       "      <td>18031.000000</td>\n",
       "      <td>13.0</td>\n",
       "      <td>1.700009e+11</td>\n",
       "      <td>15123.000000</td>\n",
       "      <td>4.714564e+09</td>\n",
       "      <td>12.000000</td>\n",
       "      <td>...</td>\n",
       "      <td>4.000000</td>\n",
       "      <td>1.000000</td>\n",
       "      <td>1.000000</td>\n",
       "      <td>257.000000</td>\n",
       "      <td>1.230775e+04</td>\n",
       "      <td>4.000000</td>\n",
       "      <td>-1.0</td>\n",
       "      <td>6.001217e+18</td>\n",
       "      <td>2.000000</td>\n",
       "      <td>2.000000</td>\n",
       "    </tr>\n",
       "    <tr>\n",
       "      <th>50%</th>\n",
       "      <td>2020.0</td>\n",
       "      <td>2.0</td>\n",
       "      <td>1.0</td>\n",
       "      <td>426.0</td>\n",
       "      <td>23833.000000</td>\n",
       "      <td>13.0</td>\n",
       "      <td>1.700011e+11</td>\n",
       "      <td>23600.000000</td>\n",
       "      <td>1.015996e+10</td>\n",
       "      <td>12.000000</td>\n",
       "      <td>...</td>\n",
       "      <td>6.000000</td>\n",
       "      <td>3.000000</td>\n",
       "      <td>3.000000</td>\n",
       "      <td>532.000000</td>\n",
       "      <td>2.461775e+04</td>\n",
       "      <td>5.000000</td>\n",
       "      <td>-1.0</td>\n",
       "      <td>6.001913e+18</td>\n",
       "      <td>2.000000</td>\n",
       "      <td>2.000000</td>\n",
       "    </tr>\n",
       "    <tr>\n",
       "      <th>75%</th>\n",
       "      <td>2020.0</td>\n",
       "      <td>2.0</td>\n",
       "      <td>1.0</td>\n",
       "      <td>426.0</td>\n",
       "      <td>25135.000000</td>\n",
       "      <td>13.0</td>\n",
       "      <td>2.000008e+11</td>\n",
       "      <td>45333.000000</td>\n",
       "      <td>5.514077e+10</td>\n",
       "      <td>12.000000</td>\n",
       "      <td>...</td>\n",
       "      <td>6.000000</td>\n",
       "      <td>3.000000</td>\n",
       "      <td>3.000000</td>\n",
       "      <td>931.000000</td>\n",
       "      <td>5.226632e+04</td>\n",
       "      <td>5.000000</td>\n",
       "      <td>-1.0</td>\n",
       "      <td>6.002876e+18</td>\n",
       "      <td>2.000000</td>\n",
       "      <td>2.000000</td>\n",
       "    </tr>\n",
       "    <tr>\n",
       "      <th>max</th>\n",
       "      <td>2020.0</td>\n",
       "      <td>2.0</td>\n",
       "      <td>1.0</td>\n",
       "      <td>426.0</td>\n",
       "      <td>30031.000000</td>\n",
       "      <td>13.0</td>\n",
       "      <td>2.000014e+11</td>\n",
       "      <td>90999.000000</td>\n",
       "      <td>9.997776e+10</td>\n",
       "      <td>12.000000</td>\n",
       "      <td>...</td>\n",
       "      <td>8.000000</td>\n",
       "      <td>9.000000</td>\n",
       "      <td>6.000000</td>\n",
       "      <td>999.000000</td>\n",
       "      <td>1.011150e+06</td>\n",
       "      <td>5.000000</td>\n",
       "      <td>-1.0</td>\n",
       "      <td>6.011688e+18</td>\n",
       "      <td>17.000000</td>\n",
       "      <td>20.000000</td>\n",
       "    </tr>\n",
       "  </tbody>\n",
       "</table>\n",
       "<p>8 rows × 28 columns</p>\n",
       "</div>"
      ],
      "text/plain": [
       "       ANO_ELEICAO  CD_TIPO_ELEICAO  NR_TURNO  CD_ELEICAO         SG_UE  \\\n",
       "count      29269.0          29269.0   29269.0     29269.0  29269.000000   \n",
       "mean        2020.0              2.0       1.0       426.0  22341.673990   \n",
       "std            0.0              0.0       0.0         0.0   3562.350455   \n",
       "min         2020.0              2.0       1.0       426.0  16004.000000   \n",
       "25%         2020.0              2.0       1.0       426.0  18031.000000   \n",
       "50%         2020.0              2.0       1.0       426.0  23833.000000   \n",
       "75%         2020.0              2.0       1.0       426.0  25135.000000   \n",
       "max         2020.0              2.0       1.0       426.0  30031.000000   \n",
       "\n",
       "       CD_CARGO  SQ_CANDIDATO  NR_CANDIDATO  NR_CPF_CANDIDATO  \\\n",
       "count   29269.0  2.926900e+04  29269.000000      2.926900e+04   \n",
       "mean       13.0  1.797434e+11  32889.886569      2.922523e+10   \n",
       "std         0.0  1.404864e+10  21536.107047      3.108040e+10   \n",
       "min        13.0  1.700006e+11  10000.000000      1.321943e+07   \n",
       "25%        13.0  1.700009e+11  15123.000000      4.714564e+09   \n",
       "50%        13.0  1.700011e+11  23600.000000      1.015996e+10   \n",
       "75%        13.0  2.000008e+11  45333.000000      5.514077e+10   \n",
       "max        13.0  2.000014e+11  90999.000000      9.997776e+10   \n",
       "\n",
       "       CD_SITUACAO_CANDIDATURA  ...  CD_GRAU_INSTRUCAO  CD_ESTADO_CIVIL  \\\n",
       "count             29269.000000  ...       29269.000000     29269.000000   \n",
       "mean                 11.559978  ...           5.627387         2.658000   \n",
       "std                   1.940800  ...           1.701545         2.056771   \n",
       "min                   3.000000  ...           1.000000         1.000000   \n",
       "25%                  12.000000  ...           4.000000         1.000000   \n",
       "50%                  12.000000  ...           6.000000         3.000000   \n",
       "75%                  12.000000  ...           6.000000         3.000000   \n",
       "max                  12.000000  ...           8.000000         9.000000   \n",
       "\n",
       "        CD_COR_RACA   CD_OCUPACAO  VR_DESPESA_MAX_CAMPANHA  CD_SIT_TOT_TURNO  \\\n",
       "count  29269.000000  29269.000000             2.926900e+04      29269.000000   \n",
       "mean       2.204243    532.344802             8.044686e+04          4.202569   \n",
       "std        1.007947    321.971818             1.798536e+05          1.316052   \n",
       "min        1.000000    101.000000             1.230775e+04         -1.000000   \n",
       "25%        1.000000    257.000000             1.230775e+04          4.000000   \n",
       "50%        3.000000    532.000000             2.461775e+04          5.000000   \n",
       "75%        3.000000    931.000000             5.226632e+04          5.000000   \n",
       "max        6.000000    999.000000             1.011150e+06          5.000000   \n",
       "\n",
       "       NR_PROTOCOLO_CANDIDATURA   NR_PROCESSO  CD_SITUACAO_CANDIDATO_PLEITO  \\\n",
       "count                   29269.0  2.926900e+04                  29269.000000   \n",
       "mean                       -1.0  6.002235e+18                      2.063275   \n",
       "std                         0.0  1.400676e+15                      1.379490   \n",
       "min                        -1.0  6.000126e+18                     -1.000000   \n",
       "25%                        -1.0  6.001217e+18                      2.000000   \n",
       "50%                        -1.0  6.001913e+18                      2.000000   \n",
       "75%                        -1.0  6.002876e+18                      2.000000   \n",
       "max                        -1.0  6.011688e+18                     17.000000   \n",
       "\n",
       "       CD_SITUACAO_CANDIDATO_URNA  \n",
       "count                29269.000000  \n",
       "mean                     2.054665  \n",
       "std                      1.379635  \n",
       "min                     -1.000000  \n",
       "25%                      2.000000  \n",
       "50%                      2.000000  \n",
       "75%                      2.000000  \n",
       "max                     20.000000  \n",
       "\n",
       "[8 rows x 28 columns]"
      ]
     },
     "execution_count": 20,
     "metadata": {},
     "output_type": "execute_result"
    }
   ],
   "source": [
    "df_vereadores.describe()"
   ]
  },
  {
   "cell_type": "markdown",
   "id": "5fb2032f",
   "metadata": {},
   "source": [
    "Para gerar relatórios interativos em HTML a partir de um dataframe do pandas usaremos a biblioteca Pandas Profiling, com ele para cada coluna será apresentado estatístico correspondente ao tipo de dado."
   ]
  },
  {
   "cell_type": "code",
   "execution_count": 21,
   "id": "7add4172",
   "metadata": {},
   "outputs": [],
   "source": [
    "import numpy as np\n",
    "from pandas_profiling import ProfileReport"
   ]
  },
  {
   "cell_type": "code",
   "execution_count": 22,
   "id": "adc73219",
   "metadata": {},
   "outputs": [],
   "source": [
    "profile = ProfileReport(df_vereadores, title=\"Introdução - Pandas Profiling Report\")"
   ]
  },
  {
   "cell_type": "code",
   "execution_count": 17,
   "id": "4c530b6f",
   "metadata": {
    "scrolled": true
   },
   "outputs": [
    {
     "data": {
      "application/vnd.jupyter.widget-view+json": {
       "model_id": "51022374691f483a88af579e1cfd0db9",
       "version_major": 2,
       "version_minor": 0
      },
      "text/plain": [
       "Summarize dataset:   0%|          | 0/77 [00:00<?, ?it/s]"
      ]
     },
     "metadata": {},
     "output_type": "display_data"
    },
    {
     "ename": "KeyboardInterrupt",
     "evalue": "",
     "output_type": "error",
     "traceback": [
      "\u001b[0;31m---------------------------------------------------------------------------\u001b[0m",
      "\u001b[0;31mKeyboardInterrupt\u001b[0m                         Traceback (most recent call last)",
      "\u001b[0;32m/tmp/ipykernel_29863/729193886.py\u001b[0m in \u001b[0;36m<module>\u001b[0;34m\u001b[0m\n\u001b[0;32m----> 1\u001b[0;31m \u001b[0mprofile\u001b[0m\u001b[0;34m.\u001b[0m\u001b[0mto_file\u001b[0m\u001b[0;34m(\u001b[0m\u001b[0moutput_file\u001b[0m\u001b[0;34m=\u001b[0m\u001b[0;34m\"relatorio_eleicoes_vereadores_2020_pe_rn.html\"\u001b[0m\u001b[0;34m)\u001b[0m\u001b[0;34m\u001b[0m\u001b[0;34m\u001b[0m\u001b[0m\n\u001b[0m",
      "\u001b[0;32m~/Documents/python-inovacao-civica/venv/lib/python3.8/site-packages/pandas_profiling/profile_report.py\u001b[0m in \u001b[0;36mto_file\u001b[0;34m(self, output_file, silent)\u001b[0m\n\u001b[1;32m    259\u001b[0m                 \u001b[0mcreate_html_assets\u001b[0m\u001b[0;34m(\u001b[0m\u001b[0mself\u001b[0m\u001b[0;34m.\u001b[0m\u001b[0mconfig\u001b[0m\u001b[0;34m,\u001b[0m \u001b[0moutput_file\u001b[0m\u001b[0;34m)\u001b[0m\u001b[0;34m\u001b[0m\u001b[0;34m\u001b[0m\u001b[0m\n\u001b[1;32m    260\u001b[0m \u001b[0;34m\u001b[0m\u001b[0m\n\u001b[0;32m--> 261\u001b[0;31m             \u001b[0mdata\u001b[0m \u001b[0;34m=\u001b[0m \u001b[0mself\u001b[0m\u001b[0;34m.\u001b[0m\u001b[0mto_html\u001b[0m\u001b[0;34m(\u001b[0m\u001b[0;34m)\u001b[0m\u001b[0;34m\u001b[0m\u001b[0;34m\u001b[0m\u001b[0m\n\u001b[0m\u001b[1;32m    262\u001b[0m \u001b[0;34m\u001b[0m\u001b[0m\n\u001b[1;32m    263\u001b[0m             \u001b[0;32mif\u001b[0m \u001b[0moutput_file\u001b[0m\u001b[0;34m.\u001b[0m\u001b[0msuffix\u001b[0m \u001b[0;34m!=\u001b[0m \u001b[0;34m\".html\"\u001b[0m\u001b[0;34m:\u001b[0m\u001b[0;34m\u001b[0m\u001b[0;34m\u001b[0m\u001b[0m\n",
      "\u001b[0;32m~/Documents/python-inovacao-civica/venv/lib/python3.8/site-packages/pandas_profiling/profile_report.py\u001b[0m in \u001b[0;36mto_html\u001b[0;34m(self)\u001b[0m\n\u001b[1;32m    370\u001b[0m \u001b[0;34m\u001b[0m\u001b[0m\n\u001b[1;32m    371\u001b[0m         \"\"\"\n\u001b[0;32m--> 372\u001b[0;31m         \u001b[0;32mreturn\u001b[0m \u001b[0mself\u001b[0m\u001b[0;34m.\u001b[0m\u001b[0mhtml\u001b[0m\u001b[0;34m\u001b[0m\u001b[0;34m\u001b[0m\u001b[0m\n\u001b[0m\u001b[1;32m    373\u001b[0m \u001b[0;34m\u001b[0m\u001b[0m\n\u001b[1;32m    374\u001b[0m     \u001b[0;32mdef\u001b[0m \u001b[0mto_json\u001b[0m\u001b[0;34m(\u001b[0m\u001b[0mself\u001b[0m\u001b[0;34m)\u001b[0m \u001b[0;34m->\u001b[0m \u001b[0mstr\u001b[0m\u001b[0;34m:\u001b[0m\u001b[0;34m\u001b[0m\u001b[0;34m\u001b[0m\u001b[0m\n",
      "\u001b[0;32m~/Documents/python-inovacao-civica/venv/lib/python3.8/site-packages/pandas_profiling/profile_report.py\u001b[0m in \u001b[0;36mhtml\u001b[0;34m(self)\u001b[0m\n\u001b[1;32m    187\u001b[0m     \u001b[0;32mdef\u001b[0m \u001b[0mhtml\u001b[0m\u001b[0;34m(\u001b[0m\u001b[0mself\u001b[0m\u001b[0;34m)\u001b[0m \u001b[0;34m->\u001b[0m \u001b[0mstr\u001b[0m\u001b[0;34m:\u001b[0m\u001b[0;34m\u001b[0m\u001b[0;34m\u001b[0m\u001b[0m\n\u001b[1;32m    188\u001b[0m         \u001b[0;32mif\u001b[0m \u001b[0mself\u001b[0m\u001b[0;34m.\u001b[0m\u001b[0m_html\u001b[0m \u001b[0;32mis\u001b[0m \u001b[0;32mNone\u001b[0m\u001b[0;34m:\u001b[0m\u001b[0;34m\u001b[0m\u001b[0;34m\u001b[0m\u001b[0m\n\u001b[0;32m--> 189\u001b[0;31m             \u001b[0mself\u001b[0m\u001b[0;34m.\u001b[0m\u001b[0m_html\u001b[0m \u001b[0;34m=\u001b[0m \u001b[0mself\u001b[0m\u001b[0;34m.\u001b[0m\u001b[0m_render_html\u001b[0m\u001b[0;34m(\u001b[0m\u001b[0;34m)\u001b[0m\u001b[0;34m\u001b[0m\u001b[0;34m\u001b[0m\u001b[0m\n\u001b[0m\u001b[1;32m    190\u001b[0m         \u001b[0;32mreturn\u001b[0m \u001b[0mself\u001b[0m\u001b[0;34m.\u001b[0m\u001b[0m_html\u001b[0m\u001b[0;34m\u001b[0m\u001b[0;34m\u001b[0m\u001b[0m\n\u001b[1;32m    191\u001b[0m \u001b[0;34m\u001b[0m\u001b[0m\n",
      "\u001b[0;32m~/Documents/python-inovacao-civica/venv/lib/python3.8/site-packages/pandas_profiling/profile_report.py\u001b[0m in \u001b[0;36m_render_html\u001b[0;34m(self)\u001b[0m\n\u001b[1;32m    289\u001b[0m         \u001b[0;32mfrom\u001b[0m \u001b[0mpandas_profiling\u001b[0m\u001b[0;34m.\u001b[0m\u001b[0mreport\u001b[0m\u001b[0;34m.\u001b[0m\u001b[0mpresentation\u001b[0m\u001b[0;34m.\u001b[0m\u001b[0mflavours\u001b[0m \u001b[0;32mimport\u001b[0m \u001b[0mHTMLReport\u001b[0m\u001b[0;34m\u001b[0m\u001b[0;34m\u001b[0m\u001b[0m\n\u001b[1;32m    290\u001b[0m \u001b[0;34m\u001b[0m\u001b[0m\n\u001b[0;32m--> 291\u001b[0;31m         \u001b[0mreport\u001b[0m \u001b[0;34m=\u001b[0m \u001b[0mself\u001b[0m\u001b[0;34m.\u001b[0m\u001b[0mreport\u001b[0m\u001b[0;34m\u001b[0m\u001b[0;34m\u001b[0m\u001b[0m\n\u001b[0m\u001b[1;32m    292\u001b[0m \u001b[0;34m\u001b[0m\u001b[0m\n\u001b[1;32m    293\u001b[0m         with tqdm(\n",
      "\u001b[0;32m~/Documents/python-inovacao-civica/venv/lib/python3.8/site-packages/pandas_profiling/profile_report.py\u001b[0m in \u001b[0;36mreport\u001b[0;34m(self)\u001b[0m\n\u001b[1;32m    181\u001b[0m     \u001b[0;32mdef\u001b[0m \u001b[0mreport\u001b[0m\u001b[0;34m(\u001b[0m\u001b[0mself\u001b[0m\u001b[0;34m)\u001b[0m \u001b[0;34m->\u001b[0m \u001b[0mRoot\u001b[0m\u001b[0;34m:\u001b[0m\u001b[0;34m\u001b[0m\u001b[0;34m\u001b[0m\u001b[0m\n\u001b[1;32m    182\u001b[0m         \u001b[0;32mif\u001b[0m \u001b[0mself\u001b[0m\u001b[0;34m.\u001b[0m\u001b[0m_report\u001b[0m \u001b[0;32mis\u001b[0m \u001b[0;32mNone\u001b[0m\u001b[0;34m:\u001b[0m\u001b[0;34m\u001b[0m\u001b[0;34m\u001b[0m\u001b[0m\n\u001b[0;32m--> 183\u001b[0;31m             \u001b[0mself\u001b[0m\u001b[0;34m.\u001b[0m\u001b[0m_report\u001b[0m \u001b[0;34m=\u001b[0m \u001b[0mget_report_structure\u001b[0m\u001b[0;34m(\u001b[0m\u001b[0mself\u001b[0m\u001b[0;34m.\u001b[0m\u001b[0mconfig\u001b[0m\u001b[0;34m,\u001b[0m \u001b[0mself\u001b[0m\u001b[0;34m.\u001b[0m\u001b[0mdescription_set\u001b[0m\u001b[0;34m)\u001b[0m\u001b[0;34m\u001b[0m\u001b[0;34m\u001b[0m\u001b[0m\n\u001b[0m\u001b[1;32m    184\u001b[0m         \u001b[0;32mreturn\u001b[0m \u001b[0mself\u001b[0m\u001b[0;34m.\u001b[0m\u001b[0m_report\u001b[0m\u001b[0;34m\u001b[0m\u001b[0;34m\u001b[0m\u001b[0m\n\u001b[1;32m    185\u001b[0m \u001b[0;34m\u001b[0m\u001b[0m\n",
      "\u001b[0;32m~/Documents/python-inovacao-civica/venv/lib/python3.8/site-packages/pandas_profiling/profile_report.py\u001b[0m in \u001b[0;36mdescription_set\u001b[0;34m(self)\u001b[0m\n\u001b[1;32m    163\u001b[0m     \u001b[0;32mdef\u001b[0m \u001b[0mdescription_set\u001b[0m\u001b[0;34m(\u001b[0m\u001b[0mself\u001b[0m\u001b[0;34m)\u001b[0m \u001b[0;34m->\u001b[0m \u001b[0mDict\u001b[0m\u001b[0;34m[\u001b[0m\u001b[0mstr\u001b[0m\u001b[0;34m,\u001b[0m \u001b[0mAny\u001b[0m\u001b[0;34m]\u001b[0m\u001b[0;34m:\u001b[0m\u001b[0;34m\u001b[0m\u001b[0;34m\u001b[0m\u001b[0m\n\u001b[1;32m    164\u001b[0m         \u001b[0;32mif\u001b[0m \u001b[0mself\u001b[0m\u001b[0;34m.\u001b[0m\u001b[0m_description_set\u001b[0m \u001b[0;32mis\u001b[0m \u001b[0;32mNone\u001b[0m\u001b[0;34m:\u001b[0m\u001b[0;34m\u001b[0m\u001b[0;34m\u001b[0m\u001b[0m\n\u001b[0;32m--> 165\u001b[0;31m             self._description_set = describe_df(\n\u001b[0m\u001b[1;32m    166\u001b[0m                 \u001b[0mself\u001b[0m\u001b[0;34m.\u001b[0m\u001b[0mconfig\u001b[0m\u001b[0;34m,\u001b[0m\u001b[0;34m\u001b[0m\u001b[0;34m\u001b[0m\u001b[0m\n\u001b[1;32m    167\u001b[0m                 \u001b[0mself\u001b[0m\u001b[0;34m.\u001b[0m\u001b[0mdf\u001b[0m\u001b[0;34m,\u001b[0m\u001b[0;34m\u001b[0m\u001b[0;34m\u001b[0m\u001b[0m\n",
      "\u001b[0;32m~/Documents/python-inovacao-civica/venv/lib/python3.8/site-packages/pandas_profiling/model/describe.py\u001b[0m in \u001b[0;36mdescribe\u001b[0;34m(config, df, summarizer, typeset, sample)\u001b[0m\n\u001b[1;32m     97\u001b[0m         \u001b[0;32mfor\u001b[0m \u001b[0mcorrelation_name\u001b[0m \u001b[0;32min\u001b[0m \u001b[0mcorrelation_names\u001b[0m\u001b[0;34m:\u001b[0m\u001b[0;34m\u001b[0m\u001b[0;34m\u001b[0m\u001b[0m\n\u001b[1;32m     98\u001b[0m             \u001b[0mpbar\u001b[0m\u001b[0;34m.\u001b[0m\u001b[0mset_postfix_str\u001b[0m\u001b[0;34m(\u001b[0m\u001b[0;34mf\"Calculate {correlation_name} correlation\"\u001b[0m\u001b[0;34m)\u001b[0m\u001b[0;34m\u001b[0m\u001b[0;34m\u001b[0m\u001b[0m\n\u001b[0;32m---> 99\u001b[0;31m             correlations[correlation_name] = calculate_correlation(\n\u001b[0m\u001b[1;32m    100\u001b[0m                 \u001b[0mconfig\u001b[0m\u001b[0;34m,\u001b[0m \u001b[0mdf\u001b[0m\u001b[0;34m,\u001b[0m \u001b[0mcorrelation_name\u001b[0m\u001b[0;34m,\u001b[0m \u001b[0mseries_description\u001b[0m\u001b[0;34m\u001b[0m\u001b[0;34m\u001b[0m\u001b[0m\n\u001b[1;32m    101\u001b[0m             )\n",
      "\u001b[0;32m~/Documents/python-inovacao-civica/venv/lib/python3.8/site-packages/pandas_profiling/model/correlations.py\u001b[0m in \u001b[0;36mcalculate_correlation\u001b[0;34m(config, df, correlation_name, summary)\u001b[0m\n\u001b[1;32m    182\u001b[0m     \u001b[0mcorrelation\u001b[0m \u001b[0;34m=\u001b[0m \u001b[0;32mNone\u001b[0m\u001b[0;34m\u001b[0m\u001b[0;34m\u001b[0m\u001b[0m\n\u001b[1;32m    183\u001b[0m     \u001b[0;32mtry\u001b[0m\u001b[0;34m:\u001b[0m\u001b[0;34m\u001b[0m\u001b[0;34m\u001b[0m\u001b[0m\n\u001b[0;32m--> 184\u001b[0;31m         correlation = correlation_measures[correlation_name].compute(\n\u001b[0m\u001b[1;32m    185\u001b[0m             \u001b[0mconfig\u001b[0m\u001b[0;34m,\u001b[0m \u001b[0mdf\u001b[0m\u001b[0;34m,\u001b[0m \u001b[0msummary\u001b[0m\u001b[0;34m\u001b[0m\u001b[0;34m\u001b[0m\u001b[0m\n\u001b[1;32m    186\u001b[0m         )\n",
      "\u001b[0;32m~/Documents/python-inovacao-civica/venv/lib/python3.8/site-packages/pandas_profiling/model/correlations.py\u001b[0m in \u001b[0;36mcompute\u001b[0;34m(config, df, summary)\u001b[0m\n\u001b[1;32m     41\u001b[0m         \u001b[0mconfig\u001b[0m\u001b[0;34m:\u001b[0m \u001b[0mSettings\u001b[0m\u001b[0;34m,\u001b[0m \u001b[0mdf\u001b[0m\u001b[0;34m:\u001b[0m \u001b[0mpd\u001b[0m\u001b[0;34m.\u001b[0m\u001b[0mDataFrame\u001b[0m\u001b[0;34m,\u001b[0m \u001b[0msummary\u001b[0m\u001b[0;34m:\u001b[0m \u001b[0mdict\u001b[0m\u001b[0;34m\u001b[0m\u001b[0;34m\u001b[0m\u001b[0m\n\u001b[1;32m     42\u001b[0m     ) -> Optional[pd.DataFrame]:\n\u001b[0;32m---> 43\u001b[0;31m         \u001b[0;32mreturn\u001b[0m \u001b[0mdf\u001b[0m\u001b[0;34m.\u001b[0m\u001b[0mcorr\u001b[0m\u001b[0;34m(\u001b[0m\u001b[0mmethod\u001b[0m\u001b[0;34m=\u001b[0m\u001b[0;34m\"kendall\"\u001b[0m\u001b[0;34m)\u001b[0m\u001b[0;34m\u001b[0m\u001b[0;34m\u001b[0m\u001b[0m\n\u001b[0m\u001b[1;32m     44\u001b[0m \u001b[0;34m\u001b[0m\u001b[0m\n\u001b[1;32m     45\u001b[0m \u001b[0;34m\u001b[0m\u001b[0m\n",
      "\u001b[0;32m~/Documents/python-inovacao-civica/venv/lib/python3.8/site-packages/pandas/core/frame.py\u001b[0m in \u001b[0;36mcorr\u001b[0;34m(self, method, min_periods)\u001b[0m\n\u001b[1;32m   9376\u001b[0m             \u001b[0mcorrel\u001b[0m \u001b[0;34m=\u001b[0m \u001b[0mlibalgos\u001b[0m\u001b[0;34m.\u001b[0m\u001b[0mnancorr_spearman\u001b[0m\u001b[0;34m(\u001b[0m\u001b[0mmat\u001b[0m\u001b[0;34m,\u001b[0m \u001b[0mminp\u001b[0m\u001b[0;34m=\u001b[0m\u001b[0mmin_periods\u001b[0m\u001b[0;34m)\u001b[0m\u001b[0;34m\u001b[0m\u001b[0;34m\u001b[0m\u001b[0m\n\u001b[1;32m   9377\u001b[0m         \u001b[0;32melif\u001b[0m \u001b[0mmethod\u001b[0m \u001b[0;34m==\u001b[0m \u001b[0;34m\"kendall\"\u001b[0m\u001b[0;34m:\u001b[0m\u001b[0;34m\u001b[0m\u001b[0;34m\u001b[0m\u001b[0m\n\u001b[0;32m-> 9378\u001b[0;31m             \u001b[0mcorrel\u001b[0m \u001b[0;34m=\u001b[0m \u001b[0mlibalgos\u001b[0m\u001b[0;34m.\u001b[0m\u001b[0mnancorr_kendall\u001b[0m\u001b[0;34m(\u001b[0m\u001b[0mmat\u001b[0m\u001b[0;34m,\u001b[0m \u001b[0mminp\u001b[0m\u001b[0;34m=\u001b[0m\u001b[0mmin_periods\u001b[0m\u001b[0;34m)\u001b[0m\u001b[0;34m\u001b[0m\u001b[0;34m\u001b[0m\u001b[0m\n\u001b[0m\u001b[1;32m   9379\u001b[0m         \u001b[0;32melif\u001b[0m \u001b[0mcallable\u001b[0m\u001b[0;34m(\u001b[0m\u001b[0mmethod\u001b[0m\u001b[0;34m)\u001b[0m\u001b[0;34m:\u001b[0m\u001b[0;34m\u001b[0m\u001b[0;34m\u001b[0m\u001b[0m\n\u001b[1;32m   9380\u001b[0m             \u001b[0;32mif\u001b[0m \u001b[0mmin_periods\u001b[0m \u001b[0;32mis\u001b[0m \u001b[0;32mNone\u001b[0m\u001b[0;34m:\u001b[0m\u001b[0;34m\u001b[0m\u001b[0;34m\u001b[0m\u001b[0m\n",
      "\u001b[0;32m~/Documents/python-inovacao-civica/venv/lib/python3.8/site-packages/pandas/_libs/algos.pyx\u001b[0m in \u001b[0;36mpandas._libs.algos.nancorr_kendall\u001b[0;34m()\u001b[0m\n",
      "\u001b[0;32m~/Documents/python-inovacao-civica/venv/lib/python3.8/site-packages/numpy/core/_methods.py\u001b[0m in \u001b[0;36m_sum\u001b[0;34m(a, axis, dtype, out, keepdims, initial, where)\u001b[0m\n\u001b[1;32m     44\u001b[0m     \u001b[0;32mreturn\u001b[0m \u001b[0mumr_minimum\u001b[0m\u001b[0;34m(\u001b[0m\u001b[0ma\u001b[0m\u001b[0;34m,\u001b[0m \u001b[0maxis\u001b[0m\u001b[0;34m,\u001b[0m \u001b[0;32mNone\u001b[0m\u001b[0;34m,\u001b[0m \u001b[0mout\u001b[0m\u001b[0;34m,\u001b[0m \u001b[0mkeepdims\u001b[0m\u001b[0;34m,\u001b[0m \u001b[0minitial\u001b[0m\u001b[0;34m,\u001b[0m \u001b[0mwhere\u001b[0m\u001b[0;34m)\u001b[0m\u001b[0;34m\u001b[0m\u001b[0;34m\u001b[0m\u001b[0m\n\u001b[1;32m     45\u001b[0m \u001b[0;34m\u001b[0m\u001b[0m\n\u001b[0;32m---> 46\u001b[0;31m def _sum(a, axis=None, dtype=None, out=None, keepdims=False,\n\u001b[0m\u001b[1;32m     47\u001b[0m          initial=_NoValue, where=True):\n\u001b[1;32m     48\u001b[0m     \u001b[0;32mreturn\u001b[0m \u001b[0mumr_sum\u001b[0m\u001b[0;34m(\u001b[0m\u001b[0ma\u001b[0m\u001b[0;34m,\u001b[0m \u001b[0maxis\u001b[0m\u001b[0;34m,\u001b[0m \u001b[0mdtype\u001b[0m\u001b[0;34m,\u001b[0m \u001b[0mout\u001b[0m\u001b[0;34m,\u001b[0m \u001b[0mkeepdims\u001b[0m\u001b[0;34m,\u001b[0m \u001b[0minitial\u001b[0m\u001b[0;34m,\u001b[0m \u001b[0mwhere\u001b[0m\u001b[0;34m)\u001b[0m\u001b[0;34m\u001b[0m\u001b[0;34m\u001b[0m\u001b[0m\n",
      "\u001b[0;31mKeyboardInterrupt\u001b[0m: "
     ]
    }
   ],
   "source": [
    "profile.to_file(output_file=\"relatorio_eleicoes_vereadores_2020_pe_rn.html\")"
   ]
  },
  {
   "cell_type": "markdown",
   "id": "ea1dbad2",
   "metadata": {},
   "source": [
    "## Em PE e RN, houveram quantas candidaturas para a prefeitura?"
   ]
  },
  {
   "cell_type": "code",
   "execution_count": 23,
   "id": "a7ae5dad",
   "metadata": {},
   "outputs": [
    {
     "data": {
      "text/plain": [
       "VEREADOR    29269\n",
       "Name: DS_CARGO, dtype: int64"
      ]
     },
     "execution_count": 23,
     "metadata": {},
     "output_type": "execute_result"
    }
   ],
   "source": [
    "df_vereadores['DS_CARGO'].value_counts()\n",
    "\n"
   ]
  },
  {
   "cell_type": "markdown",
   "id": "c18681a1",
   "metadata": {},
   "source": [
    "### Aula 9: medidas de tendência central e dispersão\n",
    "\n",
    "As medidas de tendência central servem para determinar o valor central de uma distribuição. Vamos explorar mais um pouco nosso dataframe e descobrir qual a moda (valor que mais se repete) da colina 'SG_PARTIDO'"
   ]
  },
  {
   "cell_type": "code",
   "execution_count": 24,
   "id": "a1896ac0",
   "metadata": {},
   "outputs": [
    {
     "data": {
      "text/plain": [
       "0    PSB\n",
       "dtype: object"
      ]
     },
     "execution_count": 24,
     "metadata": {},
     "output_type": "execute_result"
    }
   ],
   "source": [
    "df_vereadores['SG_PARTIDO'].mode()"
   ]
  },
  {
   "cell_type": "markdown",
   "id": "9760d49a",
   "metadata": {},
   "source": [
    "A média aritmética da coluna 'NR_IDADE_DATA_POSSE' é:"
   ]
  },
  {
   "cell_type": "code",
   "execution_count": 25,
   "id": "525f59a3",
   "metadata": {},
   "outputs": [
    {
     "data": {
      "text/plain": [
       "44.09252109740681"
      ]
     },
     "execution_count": 25,
     "metadata": {},
     "output_type": "execute_result"
    }
   ],
   "source": [
    "df_vereadores['NR_IDADE_DATA_POSSE'].mean()"
   ]
  },
  {
   "cell_type": "markdown",
   "id": "11f8b9cb",
   "metadata": {},
   "source": [
    "Continuando a explorar a idade das pessoas candidatas na data da posse, queremos saber qual é o valor que ocupa a posição central do conjunto de dados, após a ordenação dos valores (mediana).\n"
   ]
  },
  {
   "cell_type": "code",
   "execution_count": 26,
   "id": "3db873c0",
   "metadata": {},
   "outputs": [
    {
     "data": {
      "text/plain": [
       "44.0"
      ]
     },
     "execution_count": 26,
     "metadata": {},
     "output_type": "execute_result"
    }
   ],
   "source": [
    "df_vereadores['NR_IDADE_DATA_POSSE'].median()"
   ]
  },
  {
   "cell_type": "markdown",
   "id": "5e26e703",
   "metadata": {},
   "source": [
    "Qual a variância do dado 'NR_IDADE_DATA_POSSE'?"
   ]
  },
  {
   "cell_type": "code",
   "execution_count": 27,
   "id": "e4241393",
   "metadata": {},
   "outputs": [
    {
     "data": {
      "text/plain": [
       "128.33037627675878"
      ]
     },
     "execution_count": 27,
     "metadata": {},
     "output_type": "execute_result"
    }
   ],
   "source": [
    "df_vereadores['NR_IDADE_DATA_POSSE'].var()"
   ]
  },
  {
   "cell_type": "markdown",
   "id": "880c407e",
   "metadata": {},
   "source": [
    "Qual o desvio padrão do dado 'NR_IDADE_DATA_POSSE'?"
   ]
  },
  {
   "cell_type": "code",
   "execution_count": 28,
   "id": "5031f1f4",
   "metadata": {},
   "outputs": [
    {
     "data": {
      "text/plain": [
       "11.32829979638422"
      ]
     },
     "execution_count": 28,
     "metadata": {},
     "output_type": "execute_result"
    }
   ],
   "source": [
    "df_vereadores['NR_IDADE_DATA_POSSE'].std()"
   ]
  },
  {
   "cell_type": "markdown",
   "id": "c6fbfb0b",
   "metadata": {},
   "source": [
    "## Qual a média, moda e mediana do 'VR_DESPESA_MAX_CAMPANHA'?"
   ]
  },
  {
   "cell_type": "code",
   "execution_count": 29,
   "id": "6c0154e6",
   "metadata": {},
   "outputs": [
    {
     "name": "stdout",
     "output_type": "stream",
     "text": [
      "A média é 80446.86\n",
      "A moda é 12307\n",
      "E a mediana é 24617.75\n"
     ]
    }
   ],
   "source": [
    "mediana = df_vereadores['VR_DESPESA_MAX_CAMPANHA'].median()\n",
    "moda = df_vereadores['VR_DESPESA_MAX_CAMPANHA'].mode()\n",
    "media = df_vereadores['VR_DESPESA_MAX_CAMPANHA'].mean()\n",
    "\n",
    "print('A média é {:.2f}'.format(media))\n",
    "print(f'A moda é {int(moda)}')\n",
    "print('E a mediana é {}'.format(mediana))"
   ]
  },
  {
   "cell_type": "code",
   "execution_count": 30,
   "id": "f529725a",
   "metadata": {},
   "outputs": [
    {
     "data": {
      "text/plain": [
       "0    12307.75\n",
       "1        3.00\n",
       "dtype: float64"
      ]
     },
     "execution_count": 30,
     "metadata": {},
     "output_type": "execute_result"
    }
   ],
   "source": [
    "moda[1]=3\n",
    "moda\n"
   ]
  },
  {
   "cell_type": "markdown",
   "id": "818a2d50",
   "metadata": {},
   "source": [
    "### Aula 10: Outliers e valores faltantes\n",
    "\n",
    "\n",
    "De acordo com o dicionário de dados do conjunto de dados do TSE, os valores faltantes estão preenchidos com #NULO#, no entanto o Pandas não reconhece essa palavra como um missing. Faremos a substituição da string \"#NULO#\" pelo valor `None` nas colunas com valores categóricos."
   ]
  },
  {
   "cell_type": "code",
   "execution_count": 31,
   "id": "273c6db3",
   "metadata": {},
   "outputs": [],
   "source": [
    "colunas_categoricas = ['NM_TIPO_ELEICAO', 'DS_ELEICAO', 'TP_ABRANGENCIA', 'SG_UF', 'NM_UE', 'DS_CARGO', \n",
    "                       'NM_CANDIDATO', 'NM_URNA_CANDIDATO', 'NM_SOCIAL_CANDIDATO', 'NM_EMAIL', \n",
    "                       'DS_SITUACAO_CANDIDATURA', 'DS_DETALHE_SITUACAO_CAND', 'TP_AGREMIACAO', 'SG_PARTIDO', \n",
    "                       'NM_PARTIDO', 'NM_COLIGACAO', 'DS_COMPOSICAO_COLIGACAO', 'DS_NACIONALIDADE', \n",
    "                       'SG_UF_NASCIMENTO', 'NM_MUNICIPIO_NASCIMENTO', 'DS_GENERO', 'DS_GRAU_INSTRUCAO', \n",
    "                       'DS_ESTADO_CIVIL', 'DS_COR_RACA', 'DS_OCUPACAO', 'VR_DESPESA_MAX_CAMPANHA', \n",
    "                       'DS_SIT_TOT_TURNO', 'ST_REELEICAO', 'ST_DECLARAR_BENS', 'DS_SITUACAO_CANDIDATO_PLEITO', \n",
    "                       'DS_SITUACAO_CANDIDATO_URNA', 'ST_CANDIDATO_INSERIDO_URNA'\n",
    "                      ]\n"
   ]
  },
  {
   "cell_type": "code",
   "execution_count": 32,
   "id": "ee7060d4",
   "metadata": {},
   "outputs": [],
   "source": [
    "df_vereadores[colunas_categoricas] = df_vereadores.loc[:, colunas_categoricas].replace({'#NULO#': None})"
   ]
  },
  {
   "cell_type": "code",
   "execution_count": 33,
   "id": "3a263f5b",
   "metadata": {},
   "outputs": [
    {
     "name": "stdout",
     "output_type": "stream",
     "text": [
      "<class 'pandas.core.frame.DataFrame'>\n",
      "Int64Index: 29269 entries, 0 to 31654\n",
      "Data columns (total 63 columns):\n",
      " #   Column                         Non-Null Count  Dtype  \n",
      "---  ------                         --------------  -----  \n",
      " 0   DT_GERACAO                     29269 non-null  object \n",
      " 1   HH_GERACAO                     29269 non-null  object \n",
      " 2   ANO_ELEICAO                    29269 non-null  int64  \n",
      " 3   CD_TIPO_ELEICAO                29269 non-null  int64  \n",
      " 4   NM_TIPO_ELEICAO                29269 non-null  object \n",
      " 5   NR_TURNO                       29269 non-null  int64  \n",
      " 6   CD_ELEICAO                     29269 non-null  int64  \n",
      " 7   DS_ELEICAO                     29269 non-null  object \n",
      " 8   DT_ELEICAO                     29269 non-null  object \n",
      " 9   TP_ABRANGENCIA                 29269 non-null  object \n",
      " 10  SG_UF                          29269 non-null  object \n",
      " 11  SG_UE                          29269 non-null  int64  \n",
      " 12  NM_UE                          29269 non-null  object \n",
      " 13  CD_CARGO                       29269 non-null  int64  \n",
      " 14  DS_CARGO                       29269 non-null  object \n",
      " 15  SQ_CANDIDATO                   29269 non-null  int64  \n",
      " 16  NR_CANDIDATO                   29269 non-null  int64  \n",
      " 17  NM_CANDIDATO                   29269 non-null  object \n",
      " 18  NM_URNA_CANDIDATO              29269 non-null  object \n",
      " 19  NM_SOCIAL_CANDIDATO            13 non-null     object \n",
      " 20  NR_CPF_CANDIDATO               29269 non-null  int64  \n",
      " 21  NM_EMAIL                       29269 non-null  object \n",
      " 22  CD_SITUACAO_CANDIDATURA        29269 non-null  int64  \n",
      " 23  DS_SITUACAO_CANDIDATURA        29269 non-null  object \n",
      " 24  CD_DETALHE_SITUACAO_CAND       29269 non-null  int64  \n",
      " 25  DS_DETALHE_SITUACAO_CAND       29269 non-null  object \n",
      " 26  TP_AGREMIACAO                  29269 non-null  object \n",
      " 27  NR_PARTIDO                     29269 non-null  int64  \n",
      " 28  SG_PARTIDO                     29269 non-null  object \n",
      " 29  NM_PARTIDO                     29269 non-null  object \n",
      " 30  SQ_COLIGACAO                   29269 non-null  int64  \n",
      " 31  NM_COLIGACAO                   29269 non-null  object \n",
      " 32  DS_COMPOSICAO_COLIGACAO        29269 non-null  object \n",
      " 33  CD_NACIONALIDADE               29269 non-null  int64  \n",
      " 34  DS_NACIONALIDADE               29269 non-null  object \n",
      " 35  SG_UF_NASCIMENTO               29269 non-null  object \n",
      " 36  CD_MUNICIPIO_NASCIMENTO        29269 non-null  int64  \n",
      " 37  NM_MUNICIPIO_NASCIMENTO        29269 non-null  object \n",
      " 38  DT_NASCIMENTO                  29269 non-null  object \n",
      " 39  NR_IDADE_DATA_POSSE            29269 non-null  int64  \n",
      " 40  NR_TITULO_ELEITORAL_CANDIDATO  29269 non-null  int64  \n",
      " 41  CD_GENERO                      29269 non-null  int64  \n",
      " 42  DS_GENERO                      29269 non-null  object \n",
      " 43  CD_GRAU_INSTRUCAO              29269 non-null  int64  \n",
      " 44  DS_GRAU_INSTRUCAO              29269 non-null  object \n",
      " 45  CD_ESTADO_CIVIL                29269 non-null  int64  \n",
      " 46  DS_ESTADO_CIVIL                29269 non-null  object \n",
      " 47  CD_COR_RACA                    29269 non-null  int64  \n",
      " 48  DS_COR_RACA                    29269 non-null  object \n",
      " 49  CD_OCUPACAO                    29269 non-null  int64  \n",
      " 50  DS_OCUPACAO                    29269 non-null  object \n",
      " 51  VR_DESPESA_MAX_CAMPANHA        29269 non-null  float64\n",
      " 52  CD_SIT_TOT_TURNO               29269 non-null  int64  \n",
      " 53  DS_SIT_TOT_TURNO               28372 non-null  object \n",
      " 54  ST_REELEICAO                   29269 non-null  object \n",
      " 55  ST_DECLARAR_BENS               29269 non-null  object \n",
      " 56  NR_PROTOCOLO_CANDIDATURA       29269 non-null  int64  \n",
      " 57  NR_PROCESSO                    29269 non-null  int64  \n",
      " 58  CD_SITUACAO_CANDIDATO_PLEITO   29269 non-null  int64  \n",
      " 59  DS_SITUACAO_CANDIDATO_PLEITO   28372 non-null  object \n",
      " 60  CD_SITUACAO_CANDIDATO_URNA     29269 non-null  int64  \n",
      " 61  DS_SITUACAO_CANDIDATO_URNA     28372 non-null  object \n",
      " 62  ST_CANDIDATO_INSERIDO_URNA     29269 non-null  object \n",
      "dtypes: float64(1), int64(27), object(35)\n",
      "memory usage: 14.3+ MB\n"
     ]
    }
   ],
   "source": [
    "df_vereadores.info()"
   ]
  },
  {
   "cell_type": "markdown",
   "id": "a770540f",
   "metadata": {},
   "source": [
    "Geraremos um novo relatório usando o Pandas Profiling para visualizar as mudanças."
   ]
  },
  {
   "cell_type": "code",
   "execution_count": 34,
   "id": "b3642341",
   "metadata": {},
   "outputs": [
    {
     "data": {
      "application/vnd.jupyter.widget-view+json": {
       "model_id": "f97193e50691464dbbbd6a6fb586896f",
       "version_major": 2,
       "version_minor": 0
      },
      "text/plain": [
       "Summarize dataset:   0%|          | 0/77 [00:00<?, ?it/s]"
      ]
     },
     "metadata": {},
     "output_type": "display_data"
    },
    {
     "ename": "KeyboardInterrupt",
     "evalue": "",
     "output_type": "error",
     "traceback": [
      "\u001b[0;31m---------------------------------------------------------------------------\u001b[0m",
      "\u001b[0;31mIndexError\u001b[0m                                Traceback (most recent call last)",
      "\u001b[0;32m~/.pyenv/versions/3.8.2/lib/python3.8/multiprocessing/pool.py\u001b[0m in \u001b[0;36mnext\u001b[0;34m(self, timeout)\u001b[0m\n\u001b[1;32m    847\u001b[0m             \u001b[0;32mtry\u001b[0m\u001b[0;34m:\u001b[0m\u001b[0;34m\u001b[0m\u001b[0;34m\u001b[0m\u001b[0m\n\u001b[0;32m--> 848\u001b[0;31m                 \u001b[0mitem\u001b[0m \u001b[0;34m=\u001b[0m \u001b[0mself\u001b[0m\u001b[0;34m.\u001b[0m\u001b[0m_items\u001b[0m\u001b[0;34m.\u001b[0m\u001b[0mpopleft\u001b[0m\u001b[0;34m(\u001b[0m\u001b[0;34m)\u001b[0m\u001b[0;34m\u001b[0m\u001b[0;34m\u001b[0m\u001b[0m\n\u001b[0m\u001b[1;32m    849\u001b[0m             \u001b[0;32mexcept\u001b[0m \u001b[0mIndexError\u001b[0m\u001b[0;34m:\u001b[0m\u001b[0;34m\u001b[0m\u001b[0;34m\u001b[0m\u001b[0m\n",
      "\u001b[0;31mIndexError\u001b[0m: pop from an empty deque",
      "\nDuring handling of the above exception, another exception occurred:\n",
      "\u001b[0;31mKeyboardInterrupt\u001b[0m                         Traceback (most recent call last)",
      "\u001b[0;32m/tmp/ipykernel_19106/3590878835.py\u001b[0m in \u001b[0;36m<module>\u001b[0;34m\u001b[0m\n\u001b[1;32m      1\u001b[0m \u001b[0mprofile\u001b[0m \u001b[0;34m=\u001b[0m \u001b[0mProfileReport\u001b[0m\u001b[0;34m(\u001b[0m\u001b[0mdf_vereadores\u001b[0m\u001b[0;34m,\u001b[0m \u001b[0mtitle\u001b[0m\u001b[0;34m=\u001b[0m\u001b[0;34m\"Limpeza dos dados - Pandas Profiling Report\"\u001b[0m\u001b[0;34m)\u001b[0m\u001b[0;34m\u001b[0m\u001b[0;34m\u001b[0m\u001b[0m\n\u001b[0;32m----> 2\u001b[0;31m \u001b[0mprofile\u001b[0m\u001b[0;34m.\u001b[0m\u001b[0mto_file\u001b[0m\u001b[0;34m(\u001b[0m\u001b[0moutput_file\u001b[0m\u001b[0;34m=\u001b[0m\u001b[0;34m\"relatorio_eleicoes_vereadores_2020_pe_rn_limpo.html\"\u001b[0m\u001b[0;34m)\u001b[0m\u001b[0;34m\u001b[0m\u001b[0;34m\u001b[0m\u001b[0m\n\u001b[0m",
      "\u001b[0;32m~/Documents/python-inovacao-civica/venv/lib/python3.8/site-packages/pandas_profiling/profile_report.py\u001b[0m in \u001b[0;36mto_file\u001b[0;34m(self, output_file, silent)\u001b[0m\n\u001b[1;32m    259\u001b[0m                 \u001b[0mcreate_html_assets\u001b[0m\u001b[0;34m(\u001b[0m\u001b[0mself\u001b[0m\u001b[0;34m.\u001b[0m\u001b[0mconfig\u001b[0m\u001b[0;34m,\u001b[0m \u001b[0moutput_file\u001b[0m\u001b[0;34m)\u001b[0m\u001b[0;34m\u001b[0m\u001b[0;34m\u001b[0m\u001b[0m\n\u001b[1;32m    260\u001b[0m \u001b[0;34m\u001b[0m\u001b[0m\n\u001b[0;32m--> 261\u001b[0;31m             \u001b[0mdata\u001b[0m \u001b[0;34m=\u001b[0m \u001b[0mself\u001b[0m\u001b[0;34m.\u001b[0m\u001b[0mto_html\u001b[0m\u001b[0;34m(\u001b[0m\u001b[0;34m)\u001b[0m\u001b[0;34m\u001b[0m\u001b[0;34m\u001b[0m\u001b[0m\n\u001b[0m\u001b[1;32m    262\u001b[0m \u001b[0;34m\u001b[0m\u001b[0m\n\u001b[1;32m    263\u001b[0m             \u001b[0;32mif\u001b[0m \u001b[0moutput_file\u001b[0m\u001b[0;34m.\u001b[0m\u001b[0msuffix\u001b[0m \u001b[0;34m!=\u001b[0m \u001b[0;34m\".html\"\u001b[0m\u001b[0;34m:\u001b[0m\u001b[0;34m\u001b[0m\u001b[0;34m\u001b[0m\u001b[0m\n",
      "\u001b[0;32m~/Documents/python-inovacao-civica/venv/lib/python3.8/site-packages/pandas_profiling/profile_report.py\u001b[0m in \u001b[0;36mto_html\u001b[0;34m(self)\u001b[0m\n\u001b[1;32m    370\u001b[0m \u001b[0;34m\u001b[0m\u001b[0m\n\u001b[1;32m    371\u001b[0m         \"\"\"\n\u001b[0;32m--> 372\u001b[0;31m         \u001b[0;32mreturn\u001b[0m \u001b[0mself\u001b[0m\u001b[0;34m.\u001b[0m\u001b[0mhtml\u001b[0m\u001b[0;34m\u001b[0m\u001b[0;34m\u001b[0m\u001b[0m\n\u001b[0m\u001b[1;32m    373\u001b[0m \u001b[0;34m\u001b[0m\u001b[0m\n\u001b[1;32m    374\u001b[0m     \u001b[0;32mdef\u001b[0m \u001b[0mto_json\u001b[0m\u001b[0;34m(\u001b[0m\u001b[0mself\u001b[0m\u001b[0;34m)\u001b[0m \u001b[0;34m->\u001b[0m \u001b[0mstr\u001b[0m\u001b[0;34m:\u001b[0m\u001b[0;34m\u001b[0m\u001b[0;34m\u001b[0m\u001b[0m\n",
      "\u001b[0;32m~/Documents/python-inovacao-civica/venv/lib/python3.8/site-packages/pandas_profiling/profile_report.py\u001b[0m in \u001b[0;36mhtml\u001b[0;34m(self)\u001b[0m\n\u001b[1;32m    187\u001b[0m     \u001b[0;32mdef\u001b[0m \u001b[0mhtml\u001b[0m\u001b[0;34m(\u001b[0m\u001b[0mself\u001b[0m\u001b[0;34m)\u001b[0m \u001b[0;34m->\u001b[0m \u001b[0mstr\u001b[0m\u001b[0;34m:\u001b[0m\u001b[0;34m\u001b[0m\u001b[0;34m\u001b[0m\u001b[0m\n\u001b[1;32m    188\u001b[0m         \u001b[0;32mif\u001b[0m \u001b[0mself\u001b[0m\u001b[0;34m.\u001b[0m\u001b[0m_html\u001b[0m \u001b[0;32mis\u001b[0m \u001b[0;32mNone\u001b[0m\u001b[0;34m:\u001b[0m\u001b[0;34m\u001b[0m\u001b[0;34m\u001b[0m\u001b[0m\n\u001b[0;32m--> 189\u001b[0;31m             \u001b[0mself\u001b[0m\u001b[0;34m.\u001b[0m\u001b[0m_html\u001b[0m \u001b[0;34m=\u001b[0m \u001b[0mself\u001b[0m\u001b[0;34m.\u001b[0m\u001b[0m_render_html\u001b[0m\u001b[0;34m(\u001b[0m\u001b[0;34m)\u001b[0m\u001b[0;34m\u001b[0m\u001b[0;34m\u001b[0m\u001b[0m\n\u001b[0m\u001b[1;32m    190\u001b[0m         \u001b[0;32mreturn\u001b[0m \u001b[0mself\u001b[0m\u001b[0;34m.\u001b[0m\u001b[0m_html\u001b[0m\u001b[0;34m\u001b[0m\u001b[0;34m\u001b[0m\u001b[0m\n\u001b[1;32m    191\u001b[0m \u001b[0;34m\u001b[0m\u001b[0m\n",
      "\u001b[0;32m~/Documents/python-inovacao-civica/venv/lib/python3.8/site-packages/pandas_profiling/profile_report.py\u001b[0m in \u001b[0;36m_render_html\u001b[0;34m(self)\u001b[0m\n\u001b[1;32m    289\u001b[0m         \u001b[0;32mfrom\u001b[0m \u001b[0mpandas_profiling\u001b[0m\u001b[0;34m.\u001b[0m\u001b[0mreport\u001b[0m\u001b[0;34m.\u001b[0m\u001b[0mpresentation\u001b[0m\u001b[0;34m.\u001b[0m\u001b[0mflavours\u001b[0m \u001b[0;32mimport\u001b[0m \u001b[0mHTMLReport\u001b[0m\u001b[0;34m\u001b[0m\u001b[0;34m\u001b[0m\u001b[0m\n\u001b[1;32m    290\u001b[0m \u001b[0;34m\u001b[0m\u001b[0m\n\u001b[0;32m--> 291\u001b[0;31m         \u001b[0mreport\u001b[0m \u001b[0;34m=\u001b[0m \u001b[0mself\u001b[0m\u001b[0;34m.\u001b[0m\u001b[0mreport\u001b[0m\u001b[0;34m\u001b[0m\u001b[0;34m\u001b[0m\u001b[0m\n\u001b[0m\u001b[1;32m    292\u001b[0m \u001b[0;34m\u001b[0m\u001b[0m\n\u001b[1;32m    293\u001b[0m         with tqdm(\n",
      "\u001b[0;32m~/Documents/python-inovacao-civica/venv/lib/python3.8/site-packages/pandas_profiling/profile_report.py\u001b[0m in \u001b[0;36mreport\u001b[0;34m(self)\u001b[0m\n\u001b[1;32m    181\u001b[0m     \u001b[0;32mdef\u001b[0m \u001b[0mreport\u001b[0m\u001b[0;34m(\u001b[0m\u001b[0mself\u001b[0m\u001b[0;34m)\u001b[0m \u001b[0;34m->\u001b[0m \u001b[0mRoot\u001b[0m\u001b[0;34m:\u001b[0m\u001b[0;34m\u001b[0m\u001b[0;34m\u001b[0m\u001b[0m\n\u001b[1;32m    182\u001b[0m         \u001b[0;32mif\u001b[0m \u001b[0mself\u001b[0m\u001b[0;34m.\u001b[0m\u001b[0m_report\u001b[0m \u001b[0;32mis\u001b[0m \u001b[0;32mNone\u001b[0m\u001b[0;34m:\u001b[0m\u001b[0;34m\u001b[0m\u001b[0;34m\u001b[0m\u001b[0m\n\u001b[0;32m--> 183\u001b[0;31m             \u001b[0mself\u001b[0m\u001b[0;34m.\u001b[0m\u001b[0m_report\u001b[0m \u001b[0;34m=\u001b[0m \u001b[0mget_report_structure\u001b[0m\u001b[0;34m(\u001b[0m\u001b[0mself\u001b[0m\u001b[0;34m.\u001b[0m\u001b[0mconfig\u001b[0m\u001b[0;34m,\u001b[0m \u001b[0mself\u001b[0m\u001b[0;34m.\u001b[0m\u001b[0mdescription_set\u001b[0m\u001b[0;34m)\u001b[0m\u001b[0;34m\u001b[0m\u001b[0;34m\u001b[0m\u001b[0m\n\u001b[0m\u001b[1;32m    184\u001b[0m         \u001b[0;32mreturn\u001b[0m \u001b[0mself\u001b[0m\u001b[0;34m.\u001b[0m\u001b[0m_report\u001b[0m\u001b[0;34m\u001b[0m\u001b[0;34m\u001b[0m\u001b[0m\n\u001b[1;32m    185\u001b[0m \u001b[0;34m\u001b[0m\u001b[0m\n",
      "\u001b[0;32m~/Documents/python-inovacao-civica/venv/lib/python3.8/site-packages/pandas_profiling/profile_report.py\u001b[0m in \u001b[0;36mdescription_set\u001b[0;34m(self)\u001b[0m\n\u001b[1;32m    163\u001b[0m     \u001b[0;32mdef\u001b[0m \u001b[0mdescription_set\u001b[0m\u001b[0;34m(\u001b[0m\u001b[0mself\u001b[0m\u001b[0;34m)\u001b[0m \u001b[0;34m->\u001b[0m \u001b[0mDict\u001b[0m\u001b[0;34m[\u001b[0m\u001b[0mstr\u001b[0m\u001b[0;34m,\u001b[0m \u001b[0mAny\u001b[0m\u001b[0;34m]\u001b[0m\u001b[0;34m:\u001b[0m\u001b[0;34m\u001b[0m\u001b[0;34m\u001b[0m\u001b[0m\n\u001b[1;32m    164\u001b[0m         \u001b[0;32mif\u001b[0m \u001b[0mself\u001b[0m\u001b[0;34m.\u001b[0m\u001b[0m_description_set\u001b[0m \u001b[0;32mis\u001b[0m \u001b[0;32mNone\u001b[0m\u001b[0;34m:\u001b[0m\u001b[0;34m\u001b[0m\u001b[0;34m\u001b[0m\u001b[0m\n\u001b[0;32m--> 165\u001b[0;31m             self._description_set = describe_df(\n\u001b[0m\u001b[1;32m    166\u001b[0m                 \u001b[0mself\u001b[0m\u001b[0;34m.\u001b[0m\u001b[0mconfig\u001b[0m\u001b[0;34m,\u001b[0m\u001b[0;34m\u001b[0m\u001b[0;34m\u001b[0m\u001b[0m\n\u001b[1;32m    167\u001b[0m                 \u001b[0mself\u001b[0m\u001b[0;34m.\u001b[0m\u001b[0mdf\u001b[0m\u001b[0;34m,\u001b[0m\u001b[0;34m\u001b[0m\u001b[0;34m\u001b[0m\u001b[0m\n",
      "\u001b[0;32m~/Documents/python-inovacao-civica/venv/lib/python3.8/site-packages/pandas_profiling/model/describe.py\u001b[0m in \u001b[0;36mdescribe\u001b[0;34m(config, df, summarizer, typeset, sample)\u001b[0m\n\u001b[1;32m     74\u001b[0m         \u001b[0mtotal\u001b[0m\u001b[0;34m=\u001b[0m\u001b[0mnumber_of_tasks\u001b[0m\u001b[0;34m,\u001b[0m \u001b[0mdesc\u001b[0m\u001b[0;34m=\u001b[0m\u001b[0;34m\"Summarize dataset\"\u001b[0m\u001b[0;34m,\u001b[0m \u001b[0mdisable\u001b[0m\u001b[0;34m=\u001b[0m\u001b[0mdisable_progress_bar\u001b[0m\u001b[0;34m\u001b[0m\u001b[0;34m\u001b[0m\u001b[0m\n\u001b[1;32m     75\u001b[0m     ) as pbar:\n\u001b[0;32m---> 76\u001b[0;31m         series_description = get_series_descriptions(\n\u001b[0m\u001b[1;32m     77\u001b[0m             \u001b[0mconfig\u001b[0m\u001b[0;34m,\u001b[0m \u001b[0mdf\u001b[0m\u001b[0;34m,\u001b[0m \u001b[0msummarizer\u001b[0m\u001b[0;34m,\u001b[0m \u001b[0mtypeset\u001b[0m\u001b[0;34m,\u001b[0m \u001b[0mpbar\u001b[0m\u001b[0;34m\u001b[0m\u001b[0;34m\u001b[0m\u001b[0m\n\u001b[1;32m     78\u001b[0m         )\n",
      "\u001b[0;32m~/Documents/python-inovacao-civica/venv/lib/python3.8/site-packages/pandas_profiling/model/summary.py\u001b[0m in \u001b[0;36mget_series_descriptions\u001b[0;34m(config, df, summarizer, typeset, pbar)\u001b[0m\n\u001b[1;32m    115\u001b[0m         \u001b[0;31m# TODO: use `Pool` for Linux-based systems\u001b[0m\u001b[0;34m\u001b[0m\u001b[0;34m\u001b[0m\u001b[0;34m\u001b[0m\u001b[0m\n\u001b[1;32m    116\u001b[0m         \u001b[0;32mwith\u001b[0m \u001b[0mmultiprocessing\u001b[0m\u001b[0;34m.\u001b[0m\u001b[0mpool\u001b[0m\u001b[0;34m.\u001b[0m\u001b[0mThreadPool\u001b[0m\u001b[0;34m(\u001b[0m\u001b[0mpool_size\u001b[0m\u001b[0;34m)\u001b[0m \u001b[0;32mas\u001b[0m \u001b[0mexecutor\u001b[0m\u001b[0;34m:\u001b[0m\u001b[0;34m\u001b[0m\u001b[0;34m\u001b[0m\u001b[0m\n\u001b[0;32m--> 117\u001b[0;31m             for i, (column, description) in enumerate(\n\u001b[0m\u001b[1;32m    118\u001b[0m                 \u001b[0mexecutor\u001b[0m\u001b[0;34m.\u001b[0m\u001b[0mimap_unordered\u001b[0m\u001b[0;34m(\u001b[0m\u001b[0mmultiprocess_1d\u001b[0m\u001b[0;34m,\u001b[0m \u001b[0margs\u001b[0m\u001b[0;34m)\u001b[0m\u001b[0;34m\u001b[0m\u001b[0;34m\u001b[0m\u001b[0m\n\u001b[1;32m    119\u001b[0m             ):\n",
      "\u001b[0;32m~/.pyenv/versions/3.8.2/lib/python3.8/multiprocessing/pool.py\u001b[0m in \u001b[0;36mnext\u001b[0;34m(self, timeout)\u001b[0m\n\u001b[1;32m    851\u001b[0m                     \u001b[0mself\u001b[0m\u001b[0;34m.\u001b[0m\u001b[0m_pool\u001b[0m \u001b[0;34m=\u001b[0m \u001b[0;32mNone\u001b[0m\u001b[0;34m\u001b[0m\u001b[0;34m\u001b[0m\u001b[0m\n\u001b[1;32m    852\u001b[0m                     \u001b[0;32mraise\u001b[0m \u001b[0mStopIteration\u001b[0m \u001b[0;32mfrom\u001b[0m \u001b[0;32mNone\u001b[0m\u001b[0;34m\u001b[0m\u001b[0;34m\u001b[0m\u001b[0m\n\u001b[0;32m--> 853\u001b[0;31m                 \u001b[0mself\u001b[0m\u001b[0;34m.\u001b[0m\u001b[0m_cond\u001b[0m\u001b[0;34m.\u001b[0m\u001b[0mwait\u001b[0m\u001b[0;34m(\u001b[0m\u001b[0mtimeout\u001b[0m\u001b[0;34m)\u001b[0m\u001b[0;34m\u001b[0m\u001b[0;34m\u001b[0m\u001b[0m\n\u001b[0m\u001b[1;32m    854\u001b[0m                 \u001b[0;32mtry\u001b[0m\u001b[0;34m:\u001b[0m\u001b[0;34m\u001b[0m\u001b[0;34m\u001b[0m\u001b[0m\n\u001b[1;32m    855\u001b[0m                     \u001b[0mitem\u001b[0m \u001b[0;34m=\u001b[0m \u001b[0mself\u001b[0m\u001b[0;34m.\u001b[0m\u001b[0m_items\u001b[0m\u001b[0;34m.\u001b[0m\u001b[0mpopleft\u001b[0m\u001b[0;34m(\u001b[0m\u001b[0;34m)\u001b[0m\u001b[0;34m\u001b[0m\u001b[0;34m\u001b[0m\u001b[0m\n",
      "\u001b[0;32m~/.pyenv/versions/3.8.2/lib/python3.8/threading.py\u001b[0m in \u001b[0;36mwait\u001b[0;34m(self, timeout)\u001b[0m\n\u001b[1;32m    300\u001b[0m         \u001b[0;32mtry\u001b[0m\u001b[0;34m:\u001b[0m    \u001b[0;31m# restore state no matter what (e.g., KeyboardInterrupt)\u001b[0m\u001b[0;34m\u001b[0m\u001b[0;34m\u001b[0m\u001b[0m\n\u001b[1;32m    301\u001b[0m             \u001b[0;32mif\u001b[0m \u001b[0mtimeout\u001b[0m \u001b[0;32mis\u001b[0m \u001b[0;32mNone\u001b[0m\u001b[0;34m:\u001b[0m\u001b[0;34m\u001b[0m\u001b[0;34m\u001b[0m\u001b[0m\n\u001b[0;32m--> 302\u001b[0;31m                 \u001b[0mwaiter\u001b[0m\u001b[0;34m.\u001b[0m\u001b[0macquire\u001b[0m\u001b[0;34m(\u001b[0m\u001b[0;34m)\u001b[0m\u001b[0;34m\u001b[0m\u001b[0;34m\u001b[0m\u001b[0m\n\u001b[0m\u001b[1;32m    303\u001b[0m                 \u001b[0mgotit\u001b[0m \u001b[0;34m=\u001b[0m \u001b[0;32mTrue\u001b[0m\u001b[0;34m\u001b[0m\u001b[0;34m\u001b[0m\u001b[0m\n\u001b[1;32m    304\u001b[0m             \u001b[0;32melse\u001b[0m\u001b[0;34m:\u001b[0m\u001b[0;34m\u001b[0m\u001b[0;34m\u001b[0m\u001b[0m\n",
      "\u001b[0;31mKeyboardInterrupt\u001b[0m: "
     ]
    }
   ],
   "source": [
    "profile = ProfileReport(df_vereadores, title=\"Limpeza dos dados - Pandas Profiling Report\")\n",
    "profile.to_file(output_file=\"relatorio_eleicoes_vereadores_2020_pe_rn_limpo.html\")"
   ]
  },
  {
   "cell_type": "markdown",
   "id": "afe7637c",
   "metadata": {},
   "source": [
    "### Aula 12: Operações básicas com dados\n",
    "\n",
    "Costumamos construir um subdataframe apenas com as colunas que usaremos na nossa análise. Existem várias formas de filtrar as linhas e colunas. Vamos aprender como fazer isso separadamente: \n",
    "\n",
    "Filtrar as 26 colunas pertinentes para nosso estudo."
   ]
  },
  {
   "cell_type": "code",
   "execution_count": 35,
   "id": "a0aaec5a",
   "metadata": {},
   "outputs": [],
   "source": [
    "df_vereadores_pe_rn_reduzido = df_vereadores[\n",
    "    ['ANO_ELEICAO','TP_ABRANGENCIA', 'SG_UF', 'SG_UE', 'NM_UE', 'CD_CARGO', 'DS_CARGO',\n",
    "     'NR_CANDIDATO', 'NM_CANDIDATO', 'NM_URNA_CANDIDATO','NM_SOCIAL_CANDIDATO', 'NR_PARTIDO',\n",
    "     'SG_PARTIDO', 'NR_IDADE_DATA_POSSE','CD_GENERO', 'DS_GENERO', 'CD_COR_RACA', 'DS_COR_RACA',\n",
    "     'VR_DESPESA_MAX_CAMPANHA', 'CD_SIT_TOT_TURNO','DS_SIT_TOT_TURNO', 'ST_REELEICAO', 'CD_SITUACAO_CANDIDATURA',\n",
    "     'DS_SITUACAO_CANDIDATURA', 'CD_DETALHE_SITUACAO_CAND', 'DS_DETALHE_SITUACAO_CAND']\n",
    "].copy()"
   ]
  },
  {
   "cell_type": "code",
   "execution_count": 36,
   "id": "2b693814",
   "metadata": {},
   "outputs": [
    {
     "data": {
      "text/plain": [
       "(29269, 26)"
      ]
     },
     "execution_count": 36,
     "metadata": {},
     "output_type": "execute_result"
    }
   ],
   "source": [
    "df_vereadores_pe_rn_reduzido.shape"
   ]
  },
  {
   "cell_type": "markdown",
   "id": "a6f5d4fd",
   "metadata": {},
   "source": [
    "Agora selecionaremos apenas as pessoas que tem sua candidaturas \"apto\", \"deferido\" e \"deferido com recurso\"."
   ]
  },
  {
   "cell_type": "code",
   "execution_count": 37,
   "id": "ab7dd4bc",
   "metadata": {},
   "outputs": [],
   "source": [
    "df_vereadores_pe_rn_reduzido_aptas = df_vereadores_pe_rn_reduzido[\n",
    "    df_vereadores_pe_rn_reduzido['CD_SITUACAO_CANDIDATURA'] == 12\n",
    "]"
   ]
  },
  {
   "cell_type": "code",
   "execution_count": 38,
   "id": "b7b13b2e",
   "metadata": {},
   "outputs": [],
   "source": [
    "df_vereadores_pe_rn_reduzido_aptas_deferidas = df_vereadores_pe_rn_reduzido_aptas[\n",
    "    (df_vereadores_pe_rn_reduzido_aptas['DS_DETALHE_SITUACAO_CAND'] == 'DEFERIDO') | \n",
    "    (df_vereadores_pe_rn_reduzido_aptas['DS_DETALHE_SITUACAO_CAND'] == 'DEFERIDO COM RECURSO')\n",
    "]"
   ]
  },
  {
   "cell_type": "code",
   "execution_count": 39,
   "id": "971ac4c8",
   "metadata": {},
   "outputs": [
    {
     "data": {
      "text/plain": [
       "(27793, 26)"
      ]
     },
     "execution_count": 39,
     "metadata": {},
     "output_type": "execute_result"
    }
   ],
   "source": [
    "df_vereadores_pe_rn_reduzido_aptas_deferidas.shape"
   ]
  },
  {
   "cell_type": "markdown",
   "id": "708c26c6",
   "metadata": {},
   "source": [
    "Agora, aprenderemos a filtrar usando a função `pd.loc`:"
   ]
  },
  {
   "cell_type": "code",
   "execution_count": 40,
   "id": "159a5a64",
   "metadata": {},
   "outputs": [],
   "source": [
    "colunas_desejadas = ['ANO_ELEICAO','TP_ABRANGENCIA', 'SG_UF', 'SG_UE', 'NM_UE', 'CD_CARGO', 'DS_CARGO',\n",
    "     'NR_CANDIDATO', 'NM_CANDIDATO', 'NM_URNA_CANDIDATO','NM_SOCIAL_CANDIDATO', 'NR_PARTIDO',\n",
    "     'SG_PARTIDO', 'NR_IDADE_DATA_POSSE','CD_GENERO', 'DS_GENERO', 'CD_COR_RACA', 'DS_COR_RACA',\n",
    "     'VR_DESPESA_MAX_CAMPANHA', 'CD_SIT_TOT_TURNO','DS_SIT_TOT_TURNO', 'ST_REELEICAO', 'CD_SITUACAO_CANDIDATURA',\n",
    "     'DS_SITUACAO_CANDIDATURA', 'CD_DETALHE_SITUACAO_CAND', 'DS_DETALHE_SITUACAO_CAND']"
   ]
  },
  {
   "cell_type": "code",
   "execution_count": 41,
   "id": "eaf24bfe",
   "metadata": {},
   "outputs": [],
   "source": [
    "filtro_linhas = (df_vereadores['CD_SITUACAO_CANDIDATURA'] == 12) & (\n",
    "    (df_vereadores['DS_DETALHE_SITUACAO_CAND'] == 'DEFERIDO') | \n",
    "    (df_vereadores['DS_DETALHE_SITUACAO_CAND'] == 'DEFERIDO COM RECURSO')\n",
    ")"
   ]
  },
  {
   "cell_type": "code",
   "execution_count": 42,
   "id": "5b46534a",
   "metadata": {},
   "outputs": [],
   "source": [
    "df_vereadores_pe_rn_reduzido_aptas_deferidas_2 = df_vereadores.loc[filtro_linhas, colunas_desejadas]"
   ]
  },
  {
   "cell_type": "code",
   "execution_count": 43,
   "id": "1a71d793",
   "metadata": {},
   "outputs": [
    {
     "data": {
      "text/plain": [
       "(27793, 26)"
      ]
     },
     "execution_count": 43,
     "metadata": {},
     "output_type": "execute_result"
    }
   ],
   "source": [
    "df_vereadores_pe_rn_reduzido_aptas_deferidas_2.shape"
   ]
  },
  {
   "cell_type": "code",
   "execution_count": 46,
   "id": "a345bdfc",
   "metadata": {},
   "outputs": [
    {
     "data": {
      "text/plain": [
       "array(['PARDA', 'BRANCA', 'PRETA', 'SEM INFORMAÇÃO', 'INDÍGENA',\n",
       "       'AMARELA'], dtype=object)"
      ]
     },
     "execution_count": 46,
     "metadata": {},
     "output_type": "execute_result"
    }
   ],
   "source": [
    "df_vereadores_pe_rn = df_vereadores_pe_rn_reduzido_aptas_deferidas_2.copy()\n",
    "df_vereadores_pe_rn['DS_COR_RACA'].unique()"
   ]
  },
  {
   "cell_type": "markdown",
   "id": "bee75b32",
   "metadata": {},
   "source": [
    "## Sua vez, crie um dataframe com apenas os nomes e partidos das pessoas candidatas que se autodeclararam como 'PARDA', 'PRETA' e 'INDÍGENA'"
   ]
  },
  {
   "cell_type": "code",
   "execution_count": 47,
   "id": "2c0c506f",
   "metadata": {},
   "outputs": [
    {
     "data": {
      "text/html": [
       "<div>\n",
       "<style scoped>\n",
       "    .dataframe tbody tr th:only-of-type {\n",
       "        vertical-align: middle;\n",
       "    }\n",
       "\n",
       "    .dataframe tbody tr th {\n",
       "        vertical-align: top;\n",
       "    }\n",
       "\n",
       "    .dataframe thead th {\n",
       "        text-align: right;\n",
       "    }\n",
       "</style>\n",
       "<table border=\"1\" class=\"dataframe\">\n",
       "  <thead>\n",
       "    <tr style=\"text-align: right;\">\n",
       "      <th></th>\n",
       "      <th>NM_CANDIDATO</th>\n",
       "      <th>SG_PARTIDO</th>\n",
       "      <th>DS_COR_RACA</th>\n",
       "      <th>DS_GENERO</th>\n",
       "    </tr>\n",
       "  </thead>\n",
       "  <tbody>\n",
       "    <tr>\n",
       "      <th>20667</th>\n",
       "      <td>HEZEQUIAS JOSE DOS SANTOS</td>\n",
       "      <td>PP</td>\n",
       "      <td>PARDA</td>\n",
       "      <td>MASCULINO</td>\n",
       "    </tr>\n",
       "    <tr>\n",
       "      <th>8671</th>\n",
       "      <td>AGUINALDO JEOVA DA SILVA</td>\n",
       "      <td>REPUBLICANOS</td>\n",
       "      <td>PARDA</td>\n",
       "      <td>MASCULINO</td>\n",
       "    </tr>\n",
       "    <tr>\n",
       "      <th>23941</th>\n",
       "      <td>JOSE OSVALDO DA SILVA</td>\n",
       "      <td>MDB</td>\n",
       "      <td>PARDA</td>\n",
       "      <td>MASCULINO</td>\n",
       "    </tr>\n",
       "    <tr>\n",
       "      <th>12644</th>\n",
       "      <td>BENTO TEOTONIO FILHO</td>\n",
       "      <td>PATRIOTA</td>\n",
       "      <td>PARDA</td>\n",
       "      <td>MASCULINO</td>\n",
       "    </tr>\n",
       "    <tr>\n",
       "      <th>21972</th>\n",
       "      <td>JOSÉ CÍCERO DO NASCIMENTO</td>\n",
       "      <td>PSDB</td>\n",
       "      <td>PARDA</td>\n",
       "      <td>MASCULINO</td>\n",
       "    </tr>\n",
       "    <tr>\n",
       "      <th>4278</th>\n",
       "      <td>DANIEL TAVARES LEANDRO</td>\n",
       "      <td>DEM</td>\n",
       "      <td>PARDA</td>\n",
       "      <td>MASCULINO</td>\n",
       "    </tr>\n",
       "    <tr>\n",
       "      <th>8632</th>\n",
       "      <td>JOSE ROBERTO TEIXEIRA COSMO</td>\n",
       "      <td>PT</td>\n",
       "      <td>PARDA</td>\n",
       "      <td>MASCULINO</td>\n",
       "    </tr>\n",
       "    <tr>\n",
       "      <th>16026</th>\n",
       "      <td>ALEX MENDES DA SILVA</td>\n",
       "      <td>PSB</td>\n",
       "      <td>PARDA</td>\n",
       "      <td>MASCULINO</td>\n",
       "    </tr>\n",
       "    <tr>\n",
       "      <th>6752</th>\n",
       "      <td>SOCORRO JAQUELINE DE ALMEIDA MORAES</td>\n",
       "      <td>PSB</td>\n",
       "      <td>PARDA</td>\n",
       "      <td>FEMININO</td>\n",
       "    </tr>\n",
       "    <tr>\n",
       "      <th>529</th>\n",
       "      <td>MARIA EDNA ANACLETA PEREIRA SANTOS</td>\n",
       "      <td>PT</td>\n",
       "      <td>PRETA</td>\n",
       "      <td>FEMININO</td>\n",
       "    </tr>\n",
       "  </tbody>\n",
       "</table>\n",
       "</div>"
      ],
      "text/plain": [
       "                              NM_CANDIDATO    SG_PARTIDO DS_COR_RACA  \\\n",
       "20667            HEZEQUIAS JOSE DOS SANTOS            PP       PARDA   \n",
       "8671              AGUINALDO JEOVA DA SILVA  REPUBLICANOS       PARDA   \n",
       "23941                JOSE OSVALDO DA SILVA           MDB       PARDA   \n",
       "12644                 BENTO TEOTONIO FILHO      PATRIOTA       PARDA   \n",
       "21972            JOSÉ CÍCERO DO NASCIMENTO          PSDB       PARDA   \n",
       "4278                DANIEL TAVARES LEANDRO           DEM       PARDA   \n",
       "8632           JOSE ROBERTO TEIXEIRA COSMO            PT       PARDA   \n",
       "16026                 ALEX MENDES DA SILVA           PSB       PARDA   \n",
       "6752   SOCORRO JAQUELINE DE ALMEIDA MORAES           PSB       PARDA   \n",
       "529     MARIA EDNA ANACLETA PEREIRA SANTOS            PT       PRETA   \n",
       "\n",
       "       DS_GENERO  \n",
       "20667  MASCULINO  \n",
       "8671   MASCULINO  \n",
       "23941  MASCULINO  \n",
       "12644  MASCULINO  \n",
       "21972  MASCULINO  \n",
       "4278   MASCULINO  \n",
       "8632   MASCULINO  \n",
       "16026  MASCULINO  \n",
       "6752    FEMININO  \n",
       "529     FEMININO  "
      ]
     },
     "execution_count": 47,
     "metadata": {},
     "output_type": "execute_result"
    }
   ],
   "source": [
    "colu = ['NM_CANDIDATO', 'SG_PARTIDO', 'DS_COR_RACA', 'DS_GENERO']\n",
    "fltro = ((df_vereadores_pe_rn['DS_COR_RACA'] == 'PARDA') | \n",
    "         (df_vereadores_pe_rn['DS_COR_RACA'] == 'PRETA') |\n",
    "         (df_vereadores_pe_rn['DS_COR_RACA'] == 'INDÍGENA'))\n",
    "df_veradores_etnia = df_vereadores_pe_rn.loc[fltro, colu]\n",
    "df_veradores_etnia.sample(10)"
   ]
  },
  {
   "cell_type": "markdown",
   "id": "31117422",
   "metadata": {},
   "source": [
    "### Aula 13: Métodos `filter` e `sort_values`\n",
    "\n",
    "Vamos filtrar todas as colunas que possuam as letras \"DIDATO\" no seu título:"
   ]
  },
  {
   "cell_type": "code",
   "execution_count": 48,
   "id": "ae91a3eb",
   "metadata": {},
   "outputs": [
    {
     "data": {
      "text/html": [
       "<div>\n",
       "<style scoped>\n",
       "    .dataframe tbody tr th:only-of-type {\n",
       "        vertical-align: middle;\n",
       "    }\n",
       "\n",
       "    .dataframe tbody tr th {\n",
       "        vertical-align: top;\n",
       "    }\n",
       "\n",
       "    .dataframe thead th {\n",
       "        text-align: right;\n",
       "    }\n",
       "</style>\n",
       "<table border=\"1\" class=\"dataframe\">\n",
       "  <thead>\n",
       "    <tr style=\"text-align: right;\">\n",
       "      <th></th>\n",
       "      <th>NR_CANDIDATO</th>\n",
       "      <th>NM_CANDIDATO</th>\n",
       "      <th>NM_URNA_CANDIDATO</th>\n",
       "      <th>NM_SOCIAL_CANDIDATO</th>\n",
       "    </tr>\n",
       "  </thead>\n",
       "  <tbody>\n",
       "    <tr>\n",
       "      <th>0</th>\n",
       "      <td>17008</td>\n",
       "      <td>MARIA DE LOURDES ALVES DE SOUZA</td>\n",
       "      <td>DONA LOURDES DA BONANÇA</td>\n",
       "      <td>None</td>\n",
       "    </tr>\n",
       "    <tr>\n",
       "      <th>1</th>\n",
       "      <td>15515</td>\n",
       "      <td>JOSÉ MAREVALDO BARROS DE OLIVEIRA</td>\n",
       "      <td>MAREVALDO DA RUA 15</td>\n",
       "      <td>None</td>\n",
       "    </tr>\n",
       "    <tr>\n",
       "      <th>2</th>\n",
       "      <td>25033</td>\n",
       "      <td>JOSÉ AGNIS PERKLES RÊGO</td>\n",
       "      <td>JOSÉ AGNIS</td>\n",
       "      <td>None</td>\n",
       "    </tr>\n",
       "    <tr>\n",
       "      <th>3</th>\n",
       "      <td>45777</td>\n",
       "      <td>DELVANI SILVA SOBRAL</td>\n",
       "      <td>DELVANIA SOBRAL</td>\n",
       "      <td>None</td>\n",
       "    </tr>\n",
       "    <tr>\n",
       "      <th>7</th>\n",
       "      <td>70444</td>\n",
       "      <td>ANTONIO JOANDSON DE ALENCAR AMORIM</td>\n",
       "      <td>PEPI</td>\n",
       "      <td>None</td>\n",
       "    </tr>\n",
       "  </tbody>\n",
       "</table>\n",
       "</div>"
      ],
      "text/plain": [
       "   NR_CANDIDATO                        NM_CANDIDATO        NM_URNA_CANDIDATO  \\\n",
       "0         17008     MARIA DE LOURDES ALVES DE SOUZA  DONA LOURDES DA BONANÇA   \n",
       "1         15515   JOSÉ MAREVALDO BARROS DE OLIVEIRA      MAREVALDO DA RUA 15   \n",
       "2         25033             JOSÉ AGNIS PERKLES RÊGO               JOSÉ AGNIS   \n",
       "3         45777                DELVANI SILVA SOBRAL          DELVANIA SOBRAL   \n",
       "7         70444  ANTONIO JOANDSON DE ALENCAR AMORIM                     PEPI   \n",
       "\n",
       "  NM_SOCIAL_CANDIDATO  \n",
       "0                None  \n",
       "1                None  \n",
       "2                None  \n",
       "3                None  \n",
       "7                None  "
      ]
     },
     "execution_count": 48,
     "metadata": {},
     "output_type": "execute_result"
    }
   ],
   "source": [
    "df_vereadores_pe_rn_nomes = df_vereadores_pe_rn.filter(like='DIDATO', axis=1)\n",
    "df_vereadores_pe_rn_nomes.head()"
   ]
  },
  {
   "cell_type": "code",
   "execution_count": 49,
   "id": "398b37db",
   "metadata": {},
   "outputs": [
    {
     "data": {
      "text/plain": [
       "4.5"
      ]
     },
     "execution_count": 49,
     "metadata": {},
     "output_type": "execute_result"
    }
   ],
   "source": [
    "a = [2,3,4, 5,5,6, ]\n",
    "b= pd.Series(a)\n",
    "b.median()"
   ]
  },
  {
   "cell_type": "markdown",
   "id": "a4061a52",
   "metadata": {},
   "source": [
    "Para ordenar as linhas a partir das colunas 'NM_SOCIAL_CANDIDATO' e 'NM_CANDIDATO, usamos o método df.sort_values:"
   ]
  },
  {
   "cell_type": "code",
   "execution_count": 50,
   "id": "5deb367b",
   "metadata": {},
   "outputs": [
    {
     "data": {
      "text/html": [
       "<div>\n",
       "<style scoped>\n",
       "    .dataframe tbody tr th:only-of-type {\n",
       "        vertical-align: middle;\n",
       "    }\n",
       "\n",
       "    .dataframe tbody tr th {\n",
       "        vertical-align: top;\n",
       "    }\n",
       "\n",
       "    .dataframe thead th {\n",
       "        text-align: right;\n",
       "    }\n",
       "</style>\n",
       "<table border=\"1\" class=\"dataframe\">\n",
       "  <thead>\n",
       "    <tr style=\"text-align: right;\">\n",
       "      <th></th>\n",
       "      <th>NR_CANDIDATO</th>\n",
       "      <th>NM_CANDIDATO</th>\n",
       "      <th>NM_URNA_CANDIDATO</th>\n",
       "      <th>NM_SOCIAL_CANDIDATO</th>\n",
       "    </tr>\n",
       "  </thead>\n",
       "  <tbody>\n",
       "    <tr>\n",
       "      <th>19514</th>\n",
       "      <td>40400</td>\n",
       "      <td>ADRIANO PEREIRA DINIZ</td>\n",
       "      <td>ADRIANO DINIZ</td>\n",
       "      <td>ADRIANO DINIZ</td>\n",
       "    </tr>\n",
       "    <tr>\n",
       "      <th>295</th>\n",
       "      <td>12111</td>\n",
       "      <td>ADRYELLY FERRAZ</td>\n",
       "      <td>ADRIELLY FERRAZ</td>\n",
       "      <td>ADRYELLY FERRAZ</td>\n",
       "    </tr>\n",
       "    <tr>\n",
       "      <th>13931</th>\n",
       "      <td>65333</td>\n",
       "      <td>BRUNA RAFAELA NASCIMENTO</td>\n",
       "      <td>BRUNA</td>\n",
       "      <td>BRUNA RAFAELA NASCIMENTO</td>\n",
       "    </tr>\n",
       "    <tr>\n",
       "      <th>22476</th>\n",
       "      <td>13777</td>\n",
       "      <td>DANIELLE MEDEIROS DE ARAUJO</td>\n",
       "      <td>DANIELLE RONDINELE</td>\n",
       "      <td>DANIELLE MEDEIROS DE ARAUJO</td>\n",
       "    </tr>\n",
       "    <tr>\n",
       "      <th>30609</th>\n",
       "      <td>40111</td>\n",
       "      <td>DÁVILA SALUSTIANO DA CRUZ</td>\n",
       "      <td>DÁVILA MEDEIROS</td>\n",
       "      <td>DAVILA MEDEIROS SALUSTIANO DA CRUZ</td>\n",
       "    </tr>\n",
       "    <tr>\n",
       "      <th>...</th>\n",
       "      <td>...</td>\n",
       "      <td>...</td>\n",
       "      <td>...</td>\n",
       "      <td>...</td>\n",
       "    </tr>\n",
       "    <tr>\n",
       "      <th>18198</th>\n",
       "      <td>45555</td>\n",
       "      <td>ÍTALO HENRIQUE GOMES DE MEDEIROS</td>\n",
       "      <td>ÍTALO HENRIQUE</td>\n",
       "      <td>None</td>\n",
       "    </tr>\n",
       "    <tr>\n",
       "      <th>9139</th>\n",
       "      <td>65666</td>\n",
       "      <td>ÍTALO HENRIQUE KOKAY</td>\n",
       "      <td>DR ÍTALO KOKAY</td>\n",
       "      <td>None</td>\n",
       "    </tr>\n",
       "    <tr>\n",
       "      <th>30316</th>\n",
       "      <td>13333</td>\n",
       "      <td>ÍTALO MATHEUS ARAÚJO DE MENEZES</td>\n",
       "      <td>ÍTALO</td>\n",
       "      <td>None</td>\n",
       "    </tr>\n",
       "    <tr>\n",
       "      <th>26745</th>\n",
       "      <td>40111</td>\n",
       "      <td>ÍTALO VICTOR DE SOUZA DANTAS</td>\n",
       "      <td>ITINHO</td>\n",
       "      <td>None</td>\n",
       "    </tr>\n",
       "    <tr>\n",
       "      <th>14389</th>\n",
       "      <td>11456</td>\n",
       "      <td>ÚRSULA MARIA BARBOSA NUNES</td>\n",
       "      <td>URSULA NUNES</td>\n",
       "      <td>None</td>\n",
       "    </tr>\n",
       "  </tbody>\n",
       "</table>\n",
       "<p>27793 rows × 4 columns</p>\n",
       "</div>"
      ],
      "text/plain": [
       "       NR_CANDIDATO                      NM_CANDIDATO   NM_URNA_CANDIDATO  \\\n",
       "19514         40400             ADRIANO PEREIRA DINIZ       ADRIANO DINIZ   \n",
       "295           12111                   ADRYELLY FERRAZ     ADRIELLY FERRAZ   \n",
       "13931         65333          BRUNA RAFAELA NASCIMENTO               BRUNA   \n",
       "22476         13777       DANIELLE MEDEIROS DE ARAUJO  DANIELLE RONDINELE   \n",
       "30609         40111         DÁVILA SALUSTIANO DA CRUZ     DÁVILA MEDEIROS   \n",
       "...             ...                               ...                 ...   \n",
       "18198         45555  ÍTALO HENRIQUE GOMES DE MEDEIROS      ÍTALO HENRIQUE   \n",
       "9139          65666              ÍTALO HENRIQUE KOKAY      DR ÍTALO KOKAY   \n",
       "30316         13333   ÍTALO MATHEUS ARAÚJO DE MENEZES               ÍTALO   \n",
       "26745         40111      ÍTALO VICTOR DE SOUZA DANTAS              ITINHO   \n",
       "14389         11456        ÚRSULA MARIA BARBOSA NUNES        URSULA NUNES   \n",
       "\n",
       "                      NM_SOCIAL_CANDIDATO  \n",
       "19514                       ADRIANO DINIZ  \n",
       "295                       ADRYELLY FERRAZ  \n",
       "13931            BRUNA RAFAELA NASCIMENTO  \n",
       "22476         DANIELLE MEDEIROS DE ARAUJO  \n",
       "30609  DAVILA MEDEIROS SALUSTIANO DA CRUZ  \n",
       "...                                   ...  \n",
       "18198                                None  \n",
       "9139                                 None  \n",
       "30316                                None  \n",
       "26745                                None  \n",
       "14389                                None  \n",
       "\n",
       "[27793 rows x 4 columns]"
      ]
     },
     "execution_count": 50,
     "metadata": {},
     "output_type": "execute_result"
    }
   ],
   "source": [
    "df_vereadores_pe_rn_nomes.sort_values(by=['NM_SOCIAL_CANDIDATO', 'NM_CANDIDATO'], \n",
    "                                      ascending=True, \n",
    "                                      na_position='last', \n",
    "                                      ignore_index=False\n",
    ")"
   ]
  },
  {
   "cell_type": "markdown",
   "id": "1b2e273a",
   "metadata": {},
   "source": [
    "## Selecione apenas as colunas cujo o título possua \"DS\" e organize em ordem descrescente. Qual o gênero das candidaturas das 3 primeiras linhas?\n",
    "R: feminino, masculino e masculino"
   ]
  },
  {
   "cell_type": "code",
   "execution_count": 61,
   "id": "7803da95",
   "metadata": {},
   "outputs": [
    {
     "data": {
      "text/html": [
       "<div>\n",
       "<style scoped>\n",
       "    .dataframe tbody tr th:only-of-type {\n",
       "        vertical-align: middle;\n",
       "    }\n",
       "\n",
       "    .dataframe tbody tr th {\n",
       "        vertical-align: top;\n",
       "    }\n",
       "\n",
       "    .dataframe thead th {\n",
       "        text-align: right;\n",
       "    }\n",
       "</style>\n",
       "<table border=\"1\" class=\"dataframe\">\n",
       "  <thead>\n",
       "    <tr style=\"text-align: right;\">\n",
       "      <th></th>\n",
       "      <th>DS_CARGO</th>\n",
       "      <th>DS_GENERO</th>\n",
       "      <th>DS_COR_RACA</th>\n",
       "      <th>DS_SIT_TOT_TURNO</th>\n",
       "      <th>DS_SITUACAO_CANDIDATURA</th>\n",
       "      <th>DS_DETALHE_SITUACAO_CAND</th>\n",
       "    </tr>\n",
       "  </thead>\n",
       "  <tbody>\n",
       "    <tr>\n",
       "      <th>0</th>\n",
       "      <td>VEREADOR</td>\n",
       "      <td>MASCULINO</td>\n",
       "      <td>PARDA</td>\n",
       "      <td>SUPLENTE</td>\n",
       "      <td>APTO</td>\n",
       "      <td>DEFERIDO</td>\n",
       "    </tr>\n",
       "    <tr>\n",
       "      <th>1</th>\n",
       "      <td>VEREADOR</td>\n",
       "      <td>MASCULINO</td>\n",
       "      <td>BRANCA</td>\n",
       "      <td>NÃO ELEITO</td>\n",
       "      <td>APTO</td>\n",
       "      <td>DEFERIDO</td>\n",
       "    </tr>\n",
       "    <tr>\n",
       "      <th>2</th>\n",
       "      <td>VEREADOR</td>\n",
       "      <td>MASCULINO</td>\n",
       "      <td>BRANCA</td>\n",
       "      <td>SUPLENTE</td>\n",
       "      <td>APTO</td>\n",
       "      <td>DEFERIDO</td>\n",
       "    </tr>\n",
       "    <tr>\n",
       "      <th>3</th>\n",
       "      <td>VEREADOR</td>\n",
       "      <td>MASCULINO</td>\n",
       "      <td>BRANCA</td>\n",
       "      <td>SUPLENTE</td>\n",
       "      <td>APTO</td>\n",
       "      <td>DEFERIDO</td>\n",
       "    </tr>\n",
       "    <tr>\n",
       "      <th>4</th>\n",
       "      <td>VEREADOR</td>\n",
       "      <td>MASCULINO</td>\n",
       "      <td>PARDA</td>\n",
       "      <td>SUPLENTE</td>\n",
       "      <td>APTO</td>\n",
       "      <td>DEFERIDO</td>\n",
       "    </tr>\n",
       "    <tr>\n",
       "      <th>...</th>\n",
       "      <td>...</td>\n",
       "      <td>...</td>\n",
       "      <td>...</td>\n",
       "      <td>...</td>\n",
       "      <td>...</td>\n",
       "      <td>...</td>\n",
       "    </tr>\n",
       "    <tr>\n",
       "      <th>27788</th>\n",
       "      <td>VEREADOR</td>\n",
       "      <td>FEMININO</td>\n",
       "      <td>BRANCA</td>\n",
       "      <td>NÃO ELEITO</td>\n",
       "      <td>APTO</td>\n",
       "      <td>DEFERIDO</td>\n",
       "    </tr>\n",
       "    <tr>\n",
       "      <th>27789</th>\n",
       "      <td>VEREADOR</td>\n",
       "      <td>FEMININO</td>\n",
       "      <td>BRANCA</td>\n",
       "      <td>SUPLENTE</td>\n",
       "      <td>APTO</td>\n",
       "      <td>DEFERIDO</td>\n",
       "    </tr>\n",
       "    <tr>\n",
       "      <th>27790</th>\n",
       "      <td>VEREADOR</td>\n",
       "      <td>FEMININO</td>\n",
       "      <td>BRANCA</td>\n",
       "      <td>NÃO ELEITO</td>\n",
       "      <td>APTO</td>\n",
       "      <td>DEFERIDO</td>\n",
       "    </tr>\n",
       "    <tr>\n",
       "      <th>27791</th>\n",
       "      <td>VEREADOR</td>\n",
       "      <td>FEMININO</td>\n",
       "      <td>BRANCA</td>\n",
       "      <td>NÃO ELEITO</td>\n",
       "      <td>APTO</td>\n",
       "      <td>DEFERIDO</td>\n",
       "    </tr>\n",
       "    <tr>\n",
       "      <th>27792</th>\n",
       "      <td>VEREADOR</td>\n",
       "      <td>FEMININO</td>\n",
       "      <td>BRANCA</td>\n",
       "      <td>SUPLENTE</td>\n",
       "      <td>APTO</td>\n",
       "      <td>DEFERIDO</td>\n",
       "    </tr>\n",
       "  </tbody>\n",
       "</table>\n",
       "<p>27793 rows × 6 columns</p>\n",
       "</div>"
      ],
      "text/plain": [
       "       DS_CARGO  DS_GENERO DS_COR_RACA DS_SIT_TOT_TURNO  \\\n",
       "0      VEREADOR  MASCULINO       PARDA         SUPLENTE   \n",
       "1      VEREADOR  MASCULINO      BRANCA       NÃO ELEITO   \n",
       "2      VEREADOR  MASCULINO      BRANCA         SUPLENTE   \n",
       "3      VEREADOR  MASCULINO      BRANCA         SUPLENTE   \n",
       "4      VEREADOR  MASCULINO       PARDA         SUPLENTE   \n",
       "...         ...        ...         ...              ...   \n",
       "27788  VEREADOR   FEMININO      BRANCA       NÃO ELEITO   \n",
       "27789  VEREADOR   FEMININO      BRANCA         SUPLENTE   \n",
       "27790  VEREADOR   FEMININO      BRANCA       NÃO ELEITO   \n",
       "27791  VEREADOR   FEMININO      BRANCA       NÃO ELEITO   \n",
       "27792  VEREADOR   FEMININO      BRANCA         SUPLENTE   \n",
       "\n",
       "      DS_SITUACAO_CANDIDATURA DS_DETALHE_SITUACAO_CAND  \n",
       "0                        APTO                 DEFERIDO  \n",
       "1                        APTO                 DEFERIDO  \n",
       "2                        APTO                 DEFERIDO  \n",
       "3                        APTO                 DEFERIDO  \n",
       "4                        APTO                 DEFERIDO  \n",
       "...                       ...                      ...  \n",
       "27788                    APTO                 DEFERIDO  \n",
       "27789                    APTO                 DEFERIDO  \n",
       "27790                    APTO                 DEFERIDO  \n",
       "27791                    APTO                 DEFERIDO  \n",
       "27792                    APTO                 DEFERIDO  \n",
       "\n",
       "[27793 rows x 6 columns]"
      ]
     },
     "execution_count": 61,
     "metadata": {},
     "output_type": "execute_result"
    }
   ],
   "source": [
    "df_vereadores_pe_rn.filter(like='DS', axis=1).sort_values(by=['DS_GENERO'], ignore_index = True, ascending = False)"
   ]
  },
  {
   "cell_type": "markdown",
   "id": "60791f6c",
   "metadata": {},
   "source": [
    "### Aula 14: Operações com dados e método `apply`\n",
    "\n",
    "Podemos criar uma nova coluna a partir de operações sobre outras colunas. No exemplo abaixo vamos descobrir o gasto médio diário declarado por cada candidatura."
   ]
  },
  {
   "cell_type": "code",
   "execution_count": 32,
   "id": "eed7e75d",
   "metadata": {},
   "outputs": [],
   "source": [
    "total_dias_campanha = 45\n",
    "df_vereadores_pe_rn['GASTO_DIARIO'] = df_vereadores_pe_rn['VR_DESPESA_MAX_CAMPANHA'] / total_dias_campanha"
   ]
  },
  {
   "cell_type": "code",
   "execution_count": 33,
   "id": "a136009c",
   "metadata": {},
   "outputs": [
    {
     "data": {
      "text/html": [
       "<div>\n",
       "<style scoped>\n",
       "    .dataframe tbody tr th:only-of-type {\n",
       "        vertical-align: middle;\n",
       "    }\n",
       "\n",
       "    .dataframe tbody tr th {\n",
       "        vertical-align: top;\n",
       "    }\n",
       "\n",
       "    .dataframe thead th {\n",
       "        text-align: right;\n",
       "    }\n",
       "</style>\n",
       "<table border=\"1\" class=\"dataframe\">\n",
       "  <thead>\n",
       "    <tr style=\"text-align: right;\">\n",
       "      <th></th>\n",
       "      <th>ANO_ELEICAO</th>\n",
       "      <th>TP_ABRANGENCIA</th>\n",
       "      <th>SG_UF</th>\n",
       "      <th>SG_UE</th>\n",
       "      <th>NM_UE</th>\n",
       "      <th>CD_CARGO</th>\n",
       "      <th>DS_CARGO</th>\n",
       "      <th>NR_CANDIDATO</th>\n",
       "      <th>NM_CANDIDATO</th>\n",
       "      <th>NM_URNA_CANDIDATO</th>\n",
       "      <th>...</th>\n",
       "      <th>DS_COR_RACA</th>\n",
       "      <th>VR_DESPESA_MAX_CAMPANHA</th>\n",
       "      <th>CD_SIT_TOT_TURNO</th>\n",
       "      <th>DS_SIT_TOT_TURNO</th>\n",
       "      <th>ST_REELEICAO</th>\n",
       "      <th>CD_SITUACAO_CANDIDATURA</th>\n",
       "      <th>DS_SITUACAO_CANDIDATURA</th>\n",
       "      <th>CD_DETALHE_SITUACAO_CAND</th>\n",
       "      <th>DS_DETALHE_SITUACAO_CAND</th>\n",
       "      <th>GASTO_DIARIO</th>\n",
       "    </tr>\n",
       "  </thead>\n",
       "  <tbody>\n",
       "    <tr>\n",
       "      <th>0</th>\n",
       "      <td>2020</td>\n",
       "      <td>MUNICIPAL</td>\n",
       "      <td>PE</td>\n",
       "      <td>24171</td>\n",
       "      <td>GAMELEIRA</td>\n",
       "      <td>13</td>\n",
       "      <td>VEREADOR</td>\n",
       "      <td>11789</td>\n",
       "      <td>ANDREIA LÚCIA DE FREITAS PEIXOTO</td>\n",
       "      <td>ANDREIA DE JUNIOR</td>\n",
       "      <td>...</td>\n",
       "      <td>BRANCA</td>\n",
       "      <td>12307.75</td>\n",
       "      <td>5</td>\n",
       "      <td>SUPLENTE</td>\n",
       "      <td>N</td>\n",
       "      <td>12</td>\n",
       "      <td>APTO</td>\n",
       "      <td>2</td>\n",
       "      <td>DEFERIDO</td>\n",
       "      <td>273.505556</td>\n",
       "    </tr>\n",
       "    <tr>\n",
       "      <th>1</th>\n",
       "      <td>2020</td>\n",
       "      <td>MUNICIPAL</td>\n",
       "      <td>PE</td>\n",
       "      <td>23574</td>\n",
       "      <td>CABO DE SANTO AGOSTINHO</td>\n",
       "      <td>13</td>\n",
       "      <td>VEREADOR</td>\n",
       "      <td>12612</td>\n",
       "      <td>MIZAEL JOSÉ DA SILVA</td>\n",
       "      <td>MIZAEL DO POVO</td>\n",
       "      <td>...</td>\n",
       "      <td>PARDA</td>\n",
       "      <td>109902.99</td>\n",
       "      <td>5</td>\n",
       "      <td>SUPLENTE</td>\n",
       "      <td>N</td>\n",
       "      <td>12</td>\n",
       "      <td>APTO</td>\n",
       "      <td>2</td>\n",
       "      <td>DEFERIDO</td>\n",
       "      <td>2442.288667</td>\n",
       "    </tr>\n",
       "    <tr>\n",
       "      <th>2</th>\n",
       "      <td>2020</td>\n",
       "      <td>MUNICIPAL</td>\n",
       "      <td>PE</td>\n",
       "      <td>26174</td>\n",
       "      <td>TUPARETAMA</td>\n",
       "      <td>13</td>\n",
       "      <td>VEREADOR</td>\n",
       "      <td>40400</td>\n",
       "      <td>CARLOS ANTONIO NOGUEIRA</td>\n",
       "      <td>CARLINHOS DE CIBIU</td>\n",
       "      <td>...</td>\n",
       "      <td>PARDA</td>\n",
       "      <td>12307.75</td>\n",
       "      <td>5</td>\n",
       "      <td>SUPLENTE</td>\n",
       "      <td>N</td>\n",
       "      <td>12</td>\n",
       "      <td>APTO</td>\n",
       "      <td>2</td>\n",
       "      <td>DEFERIDO</td>\n",
       "      <td>273.505556</td>\n",
       "    </tr>\n",
       "    <tr>\n",
       "      <th>3</th>\n",
       "      <td>2020</td>\n",
       "      <td>MUNICIPAL</td>\n",
       "      <td>PE</td>\n",
       "      <td>24279</td>\n",
       "      <td>GRAVATÁ</td>\n",
       "      <td>13</td>\n",
       "      <td>VEREADOR</td>\n",
       "      <td>36222</td>\n",
       "      <td>JOSÉ SOARES DA SILVA</td>\n",
       "      <td>JUCA SOARES</td>\n",
       "      <td>...</td>\n",
       "      <td>BRANCA</td>\n",
       "      <td>134612.46</td>\n",
       "      <td>4</td>\n",
       "      <td>NÃO ELEITO</td>\n",
       "      <td>N</td>\n",
       "      <td>12</td>\n",
       "      <td>APTO</td>\n",
       "      <td>2</td>\n",
       "      <td>DEFERIDO</td>\n",
       "      <td>2991.388000</td>\n",
       "    </tr>\n",
       "    <tr>\n",
       "      <th>4</th>\n",
       "      <td>2020</td>\n",
       "      <td>MUNICIPAL</td>\n",
       "      <td>PE</td>\n",
       "      <td>25798</td>\n",
       "      <td>SERRITA</td>\n",
       "      <td>13</td>\n",
       "      <td>VEREADOR</td>\n",
       "      <td>55999</td>\n",
       "      <td>MARIA ZULEIDE DOMINGOS</td>\n",
       "      <td>CÊ DE ASSIS VAQUEIRO</td>\n",
       "      <td>...</td>\n",
       "      <td>PARDA</td>\n",
       "      <td>12307.75</td>\n",
       "      <td>5</td>\n",
       "      <td>SUPLENTE</td>\n",
       "      <td>N</td>\n",
       "      <td>12</td>\n",
       "      <td>APTO</td>\n",
       "      <td>2</td>\n",
       "      <td>DEFERIDO</td>\n",
       "      <td>273.505556</td>\n",
       "    </tr>\n",
       "  </tbody>\n",
       "</table>\n",
       "<p>5 rows × 27 columns</p>\n",
       "</div>"
      ],
      "text/plain": [
       "   ANO_ELEICAO TP_ABRANGENCIA SG_UF  SG_UE                    NM_UE  CD_CARGO  \\\n",
       "0         2020      MUNICIPAL    PE  24171                GAMELEIRA        13   \n",
       "1         2020      MUNICIPAL    PE  23574  CABO DE SANTO AGOSTINHO        13   \n",
       "2         2020      MUNICIPAL    PE  26174               TUPARETAMA        13   \n",
       "3         2020      MUNICIPAL    PE  24279                  GRAVATÁ        13   \n",
       "4         2020      MUNICIPAL    PE  25798                  SERRITA        13   \n",
       "\n",
       "   DS_CARGO  NR_CANDIDATO                      NM_CANDIDATO  \\\n",
       "0  VEREADOR         11789  ANDREIA LÚCIA DE FREITAS PEIXOTO   \n",
       "1  VEREADOR         12612              MIZAEL JOSÉ DA SILVA   \n",
       "2  VEREADOR         40400           CARLOS ANTONIO NOGUEIRA   \n",
       "3  VEREADOR         36222              JOSÉ SOARES DA SILVA   \n",
       "4  VEREADOR         55999            MARIA ZULEIDE DOMINGOS   \n",
       "\n",
       "      NM_URNA_CANDIDATO  ... DS_COR_RACA  VR_DESPESA_MAX_CAMPANHA  \\\n",
       "0     ANDREIA DE JUNIOR  ...      BRANCA                 12307.75   \n",
       "1        MIZAEL DO POVO  ...       PARDA                109902.99   \n",
       "2    CARLINHOS DE CIBIU  ...       PARDA                 12307.75   \n",
       "3           JUCA SOARES  ...      BRANCA                134612.46   \n",
       "4  CÊ DE ASSIS VAQUEIRO  ...       PARDA                 12307.75   \n",
       "\n",
       "  CD_SIT_TOT_TURNO  DS_SIT_TOT_TURNO  ST_REELEICAO CD_SITUACAO_CANDIDATURA  \\\n",
       "0                5          SUPLENTE             N                      12   \n",
       "1                5          SUPLENTE             N                      12   \n",
       "2                5          SUPLENTE             N                      12   \n",
       "3                4        NÃO ELEITO             N                      12   \n",
       "4                5          SUPLENTE             N                      12   \n",
       "\n",
       "   DS_SITUACAO_CANDIDATURA CD_DETALHE_SITUACAO_CAND  DS_DETALHE_SITUACAO_CAND  \\\n",
       "0                     APTO                        2                  DEFERIDO   \n",
       "1                     APTO                        2                  DEFERIDO   \n",
       "2                     APTO                        2                  DEFERIDO   \n",
       "3                     APTO                        2                  DEFERIDO   \n",
       "4                     APTO                        2                  DEFERIDO   \n",
       "\n",
       "   GASTO_DIARIO  \n",
       "0    273.505556  \n",
       "1   2442.288667  \n",
       "2    273.505556  \n",
       "3   2991.388000  \n",
       "4    273.505556  \n",
       "\n",
       "[5 rows x 27 columns]"
      ]
     },
     "execution_count": 33,
     "metadata": {},
     "output_type": "execute_result"
    }
   ],
   "source": [
    "df_vereadores_pe_rn.head()"
   ]
  },
  {
   "cell_type": "markdown",
   "id": "488c750e",
   "metadata": {},
   "source": [
    "Explorando mais um pouco esses dados, trabalharemos apenas com os dados das candidaturas de Pernambuco e classificaremos os gastos médios diários de acordo com os conceitos de quartil e valores discrepantes que vimos nos vídeos sobre estatística:"
   ]
  },
  {
   "cell_type": "code",
   "execution_count": 34,
   "id": "c133044e",
   "metadata": {},
   "outputs": [],
   "source": [
    "df_vereadores_pe = df_vereadores_pe_rn[df_vereadores_pe_rn['SG_UF'] == 'PE'].copy()"
   ]
  },
  {
   "cell_type": "code",
   "execution_count": 35,
   "id": "d0ed61f0",
   "metadata": {},
   "outputs": [],
   "source": [
    "primeiro_quartil = df_vereadores_pe['GASTO_DIARIO'].quantile(0.25)\n",
    "terceiro_quartil = df_vereadores_pe['GASTO_DIARIO'].quantile(0.75)"
   ]
  },
  {
   "cell_type": "code",
   "execution_count": 36,
   "id": "f1418707",
   "metadata": {},
   "outputs": [],
   "source": [
    "intervalo_interquartil = terceiro_quartil - primeiro_quartil"
   ]
  },
  {
   "cell_type": "code",
   "execution_count": 37,
   "id": "7089b366",
   "metadata": {},
   "outputs": [],
   "source": [
    "limite_inferior = primeiro_quartil - (intervalo_interquartil * 1.5)\n",
    "limite_superior = terceiro_quartil + (intervalo_interquartil * 1.5)"
   ]
  },
  {
   "cell_type": "code",
   "execution_count": 38,
   "id": "75bb43a9",
   "metadata": {},
   "outputs": [],
   "source": [
    "def classificacao_gasto(row):\n",
    "    if row < limite_inferior:\n",
    "        return 'muito abaixo da média'\n",
    "    elif row >= limite_inferior and row < primeiro_quartil:\n",
    "        return 'abaixo da média'\n",
    "    elif row >= primeiro_quartil and row <= terceiro_quartil:\n",
    "        return 'na média'\n",
    "    elif row > terceiro_quartil and row <= limite_superior:\n",
    "        return 'acima da média'\n",
    "    else:\n",
    "        return 'muito acima da média'"
   ]
  },
  {
   "cell_type": "code",
   "execution_count": 39,
   "id": "ed50a728",
   "metadata": {},
   "outputs": [],
   "source": [
    "df_vereadores_pe['CLASSIFICACAO_GASTO_DIARIO'] = df_vereadores_pe['GASTO_DIARIO'].apply(classificacao_gasto)"
   ]
  },
  {
   "cell_type": "code",
   "execution_count": 40,
   "id": "13da289a",
   "metadata": {},
   "outputs": [
    {
     "data": {
      "text/html": [
       "<div>\n",
       "<style scoped>\n",
       "    .dataframe tbody tr th:only-of-type {\n",
       "        vertical-align: middle;\n",
       "    }\n",
       "\n",
       "    .dataframe tbody tr th {\n",
       "        vertical-align: top;\n",
       "    }\n",
       "\n",
       "    .dataframe thead th {\n",
       "        text-align: right;\n",
       "    }\n",
       "</style>\n",
       "<table border=\"1\" class=\"dataframe\">\n",
       "  <thead>\n",
       "    <tr style=\"text-align: right;\">\n",
       "      <th></th>\n",
       "      <th>ANO_ELEICAO</th>\n",
       "      <th>TP_ABRANGENCIA</th>\n",
       "      <th>SG_UF</th>\n",
       "      <th>SG_UE</th>\n",
       "      <th>NM_UE</th>\n",
       "      <th>CD_CARGO</th>\n",
       "      <th>DS_CARGO</th>\n",
       "      <th>NR_CANDIDATO</th>\n",
       "      <th>NM_CANDIDATO</th>\n",
       "      <th>NM_URNA_CANDIDATO</th>\n",
       "      <th>...</th>\n",
       "      <th>VR_DESPESA_MAX_CAMPANHA</th>\n",
       "      <th>CD_SIT_TOT_TURNO</th>\n",
       "      <th>DS_SIT_TOT_TURNO</th>\n",
       "      <th>ST_REELEICAO</th>\n",
       "      <th>CD_SITUACAO_CANDIDATURA</th>\n",
       "      <th>DS_SITUACAO_CANDIDATURA</th>\n",
       "      <th>CD_DETALHE_SITUACAO_CAND</th>\n",
       "      <th>DS_DETALHE_SITUACAO_CAND</th>\n",
       "      <th>GASTO_DIARIO</th>\n",
       "      <th>CLASSIFICACAO_GASTO_DIARIO</th>\n",
       "    </tr>\n",
       "  </thead>\n",
       "  <tbody>\n",
       "    <tr>\n",
       "      <th>0</th>\n",
       "      <td>2020</td>\n",
       "      <td>MUNICIPAL</td>\n",
       "      <td>PE</td>\n",
       "      <td>24171</td>\n",
       "      <td>GAMELEIRA</td>\n",
       "      <td>13</td>\n",
       "      <td>VEREADOR</td>\n",
       "      <td>11789</td>\n",
       "      <td>ANDREIA LÚCIA DE FREITAS PEIXOTO</td>\n",
       "      <td>ANDREIA DE JUNIOR</td>\n",
       "      <td>...</td>\n",
       "      <td>12307.75</td>\n",
       "      <td>5</td>\n",
       "      <td>SUPLENTE</td>\n",
       "      <td>N</td>\n",
       "      <td>12</td>\n",
       "      <td>APTO</td>\n",
       "      <td>2</td>\n",
       "      <td>DEFERIDO</td>\n",
       "      <td>273.505556</td>\n",
       "      <td>na média</td>\n",
       "    </tr>\n",
       "    <tr>\n",
       "      <th>1</th>\n",
       "      <td>2020</td>\n",
       "      <td>MUNICIPAL</td>\n",
       "      <td>PE</td>\n",
       "      <td>23574</td>\n",
       "      <td>CABO DE SANTO AGOSTINHO</td>\n",
       "      <td>13</td>\n",
       "      <td>VEREADOR</td>\n",
       "      <td>12612</td>\n",
       "      <td>MIZAEL JOSÉ DA SILVA</td>\n",
       "      <td>MIZAEL DO POVO</td>\n",
       "      <td>...</td>\n",
       "      <td>109902.99</td>\n",
       "      <td>5</td>\n",
       "      <td>SUPLENTE</td>\n",
       "      <td>N</td>\n",
       "      <td>12</td>\n",
       "      <td>APTO</td>\n",
       "      <td>2</td>\n",
       "      <td>DEFERIDO</td>\n",
       "      <td>2442.288667</td>\n",
       "      <td>acima da média</td>\n",
       "    </tr>\n",
       "    <tr>\n",
       "      <th>2</th>\n",
       "      <td>2020</td>\n",
       "      <td>MUNICIPAL</td>\n",
       "      <td>PE</td>\n",
       "      <td>26174</td>\n",
       "      <td>TUPARETAMA</td>\n",
       "      <td>13</td>\n",
       "      <td>VEREADOR</td>\n",
       "      <td>40400</td>\n",
       "      <td>CARLOS ANTONIO NOGUEIRA</td>\n",
       "      <td>CARLINHOS DE CIBIU</td>\n",
       "      <td>...</td>\n",
       "      <td>12307.75</td>\n",
       "      <td>5</td>\n",
       "      <td>SUPLENTE</td>\n",
       "      <td>N</td>\n",
       "      <td>12</td>\n",
       "      <td>APTO</td>\n",
       "      <td>2</td>\n",
       "      <td>DEFERIDO</td>\n",
       "      <td>273.505556</td>\n",
       "      <td>na média</td>\n",
       "    </tr>\n",
       "    <tr>\n",
       "      <th>3</th>\n",
       "      <td>2020</td>\n",
       "      <td>MUNICIPAL</td>\n",
       "      <td>PE</td>\n",
       "      <td>24279</td>\n",
       "      <td>GRAVATÁ</td>\n",
       "      <td>13</td>\n",
       "      <td>VEREADOR</td>\n",
       "      <td>36222</td>\n",
       "      <td>JOSÉ SOARES DA SILVA</td>\n",
       "      <td>JUCA SOARES</td>\n",
       "      <td>...</td>\n",
       "      <td>134612.46</td>\n",
       "      <td>4</td>\n",
       "      <td>NÃO ELEITO</td>\n",
       "      <td>N</td>\n",
       "      <td>12</td>\n",
       "      <td>APTO</td>\n",
       "      <td>2</td>\n",
       "      <td>DEFERIDO</td>\n",
       "      <td>2991.388000</td>\n",
       "      <td>muito acima da média</td>\n",
       "    </tr>\n",
       "    <tr>\n",
       "      <th>4</th>\n",
       "      <td>2020</td>\n",
       "      <td>MUNICIPAL</td>\n",
       "      <td>PE</td>\n",
       "      <td>25798</td>\n",
       "      <td>SERRITA</td>\n",
       "      <td>13</td>\n",
       "      <td>VEREADOR</td>\n",
       "      <td>55999</td>\n",
       "      <td>MARIA ZULEIDE DOMINGOS</td>\n",
       "      <td>CÊ DE ASSIS VAQUEIRO</td>\n",
       "      <td>...</td>\n",
       "      <td>12307.75</td>\n",
       "      <td>5</td>\n",
       "      <td>SUPLENTE</td>\n",
       "      <td>N</td>\n",
       "      <td>12</td>\n",
       "      <td>APTO</td>\n",
       "      <td>2</td>\n",
       "      <td>DEFERIDO</td>\n",
       "      <td>273.505556</td>\n",
       "      <td>na média</td>\n",
       "    </tr>\n",
       "  </tbody>\n",
       "</table>\n",
       "<p>5 rows × 28 columns</p>\n",
       "</div>"
      ],
      "text/plain": [
       "   ANO_ELEICAO TP_ABRANGENCIA SG_UF  SG_UE                    NM_UE  CD_CARGO  \\\n",
       "0         2020      MUNICIPAL    PE  24171                GAMELEIRA        13   \n",
       "1         2020      MUNICIPAL    PE  23574  CABO DE SANTO AGOSTINHO        13   \n",
       "2         2020      MUNICIPAL    PE  26174               TUPARETAMA        13   \n",
       "3         2020      MUNICIPAL    PE  24279                  GRAVATÁ        13   \n",
       "4         2020      MUNICIPAL    PE  25798                  SERRITA        13   \n",
       "\n",
       "   DS_CARGO  NR_CANDIDATO                      NM_CANDIDATO  \\\n",
       "0  VEREADOR         11789  ANDREIA LÚCIA DE FREITAS PEIXOTO   \n",
       "1  VEREADOR         12612              MIZAEL JOSÉ DA SILVA   \n",
       "2  VEREADOR         40400           CARLOS ANTONIO NOGUEIRA   \n",
       "3  VEREADOR         36222              JOSÉ SOARES DA SILVA   \n",
       "4  VEREADOR         55999            MARIA ZULEIDE DOMINGOS   \n",
       "\n",
       "      NM_URNA_CANDIDATO  ... VR_DESPESA_MAX_CAMPANHA  CD_SIT_TOT_TURNO  \\\n",
       "0     ANDREIA DE JUNIOR  ...                12307.75                 5   \n",
       "1        MIZAEL DO POVO  ...               109902.99                 5   \n",
       "2    CARLINHOS DE CIBIU  ...                12307.75                 5   \n",
       "3           JUCA SOARES  ...               134612.46                 4   \n",
       "4  CÊ DE ASSIS VAQUEIRO  ...                12307.75                 5   \n",
       "\n",
       "  DS_SIT_TOT_TURNO  ST_REELEICAO  CD_SITUACAO_CANDIDATURA  \\\n",
       "0         SUPLENTE             N                       12   \n",
       "1         SUPLENTE             N                       12   \n",
       "2         SUPLENTE             N                       12   \n",
       "3       NÃO ELEITO             N                       12   \n",
       "4         SUPLENTE             N                       12   \n",
       "\n",
       "  DS_SITUACAO_CANDIDATURA  CD_DETALHE_SITUACAO_CAND DS_DETALHE_SITUACAO_CAND  \\\n",
       "0                    APTO                         2                 DEFERIDO   \n",
       "1                    APTO                         2                 DEFERIDO   \n",
       "2                    APTO                         2                 DEFERIDO   \n",
       "3                    APTO                         2                 DEFERIDO   \n",
       "4                    APTO                         2                 DEFERIDO   \n",
       "\n",
       "   GASTO_DIARIO  CLASSIFICACAO_GASTO_DIARIO  \n",
       "0    273.505556                    na média  \n",
       "1   2442.288667              acima da média  \n",
       "2    273.505556                    na média  \n",
       "3   2991.388000        muito acima da média  \n",
       "4    273.505556                    na média  \n",
       "\n",
       "[5 rows x 28 columns]"
      ]
     },
     "execution_count": 40,
     "metadata": {},
     "output_type": "execute_result"
    }
   ],
   "source": [
    "df_vereadores_pe.head()"
   ]
  },
  {
   "cell_type": "markdown",
   "id": "8b96f806",
   "metadata": {},
   "source": [
    "Para facilitar a visualização faremos um gráfico de barras usando a biblioteca matplotlib:"
   ]
  },
  {
   "cell_type": "code",
   "execution_count": 41,
   "id": "c9d2cf02",
   "metadata": {},
   "outputs": [],
   "source": [
    "from matplotlib import pyplot as plt"
   ]
  },
  {
   "cell_type": "code",
   "execution_count": 42,
   "id": "9a2afa00",
   "metadata": {},
   "outputs": [],
   "source": [
    "# guarda na variável \"classificacao\" uma lista com os rótulos usados para classificar os gastos\n",
    "classificacao = df_vereadores_pe['CLASSIFICACAO_GASTO_DIARIO'].unique().tolist()"
   ]
  },
  {
   "cell_type": "code",
   "execution_count": 43,
   "id": "216ca920",
   "metadata": {},
   "outputs": [],
   "source": [
    "#guarda na variável \"total_por_classificacao\" uma lista a quantidade de ocorrência de cada rótulo\n",
    "total_por_classificacao = df_vereadores_pe['CLASSIFICACAO_GASTO_DIARIO'].value_counts().to_list()"
   ]
  },
  {
   "cell_type": "code",
   "execution_count": 44,
   "id": "30b26e0c",
   "metadata": {},
   "outputs": [
    {
     "data": {
      "image/png": "[encoded data removed]",
      "text/plain": [
       "<Figure size 432x288 with 1 Axes>"
      ]
     },
     "metadata": {
      "needs_background": "light"
     },
     "output_type": "display_data"
    }
   ],
   "source": [
    "plt.bar(classificacao, total_por_classificacao)\n",
    "plt.title('Gastos diários declarados por candidatura')\n",
    "plt.ylabel('Quantitativo de municípios por classificação')\n",
    "\n",
    "plt.show()"
   ]
  },
  {
   "cell_type": "markdown",
   "id": "827e1acf",
   "metadata": {},
   "source": [
    "### Aula 15: Operações com dados e método `groupby`\n",
    "\n",
    "Usando o método groupby podemos agrupar dados segundo informações de uma coluna e fazer operações com o agrupamento.\n",
    "\n",
    "As perguntas que queremos responder são: quantas mulheres são candidatas? Qual a distribuição de pessoas por grupo racial? Quantidade de mulheres por grupo racial? E qual partido tem mais mulheres em cada grupo racial?\n"
   ]
  },
  {
   "cell_type": "code",
   "execution_count": 45,
   "id": "6b9b70e3",
   "metadata": {},
   "outputs": [],
   "source": [
    "colunas_desejadas = ['SG_PARTIDO', 'DS_GENERO', 'DS_COR_RACA']\n",
    "filtro = df_vereadores_pe_rn['SG_UF'] == 'PE'"
   ]
  },
  {
   "cell_type": "code",
   "execution_count": 46,
   "id": "b003a30a",
   "metadata": {},
   "outputs": [],
   "source": [
    "df_vereadores_pe_sexo_raca = df_vereadores_pe_rn.loc[filtro, colunas_desejadas]"
   ]
  },
  {
   "cell_type": "code",
   "execution_count": 47,
   "id": "a036411d",
   "metadata": {},
   "outputs": [
    {
     "data": {
      "text/html": [
       "<div>\n",
       "<style scoped>\n",
       "    .dataframe tbody tr th:only-of-type {\n",
       "        vertical-align: middle;\n",
       "    }\n",
       "\n",
       "    .dataframe tbody tr th {\n",
       "        vertical-align: top;\n",
       "    }\n",
       "\n",
       "    .dataframe thead th {\n",
       "        text-align: right;\n",
       "    }\n",
       "</style>\n",
       "<table border=\"1\" class=\"dataframe\">\n",
       "  <thead>\n",
       "    <tr style=\"text-align: right;\">\n",
       "      <th></th>\n",
       "      <th>SG_PARTIDO</th>\n",
       "      <th>DS_GENERO</th>\n",
       "      <th>DS_COR_RACA</th>\n",
       "    </tr>\n",
       "  </thead>\n",
       "  <tbody>\n",
       "    <tr>\n",
       "      <th>0</th>\n",
       "      <td>PP</td>\n",
       "      <td>FEMININO</td>\n",
       "      <td>BRANCA</td>\n",
       "    </tr>\n",
       "    <tr>\n",
       "      <th>1</th>\n",
       "      <td>PDT</td>\n",
       "      <td>MASCULINO</td>\n",
       "      <td>PARDA</td>\n",
       "    </tr>\n",
       "    <tr>\n",
       "      <th>2</th>\n",
       "      <td>PSB</td>\n",
       "      <td>MASCULINO</td>\n",
       "      <td>PARDA</td>\n",
       "    </tr>\n",
       "    <tr>\n",
       "      <th>3</th>\n",
       "      <td>PTC</td>\n",
       "      <td>MASCULINO</td>\n",
       "      <td>BRANCA</td>\n",
       "    </tr>\n",
       "    <tr>\n",
       "      <th>4</th>\n",
       "      <td>PSD</td>\n",
       "      <td>FEMININO</td>\n",
       "      <td>PARDA</td>\n",
       "    </tr>\n",
       "  </tbody>\n",
       "</table>\n",
       "</div>"
      ],
      "text/plain": [
       "  SG_PARTIDO  DS_GENERO DS_COR_RACA\n",
       "0         PP   FEMININO      BRANCA\n",
       "1        PDT  MASCULINO       PARDA\n",
       "2        PSB  MASCULINO       PARDA\n",
       "3        PTC  MASCULINO      BRANCA\n",
       "4        PSD   FEMININO       PARDA"
      ]
     },
     "execution_count": 47,
     "metadata": {},
     "output_type": "execute_result"
    }
   ],
   "source": [
    "df_vereadores_pe_sexo_raca.head()"
   ]
  },
  {
   "cell_type": "markdown",
   "id": "9fc3e4f7",
   "metadata": {},
   "source": [
    "Agrupando por gênero, quantas candidaturas temos em cada um?"
   ]
  },
  {
   "cell_type": "code",
   "execution_count": 48,
   "id": "69e9046f",
   "metadata": {},
   "outputs": [
    {
     "data": {
      "text/html": [
       "<div>\n",
       "<style scoped>\n",
       "    .dataframe tbody tr th:only-of-type {\n",
       "        vertical-align: middle;\n",
       "    }\n",
       "\n",
       "    .dataframe tbody tr th {\n",
       "        vertical-align: top;\n",
       "    }\n",
       "\n",
       "    .dataframe thead th {\n",
       "        text-align: right;\n",
       "    }\n",
       "</style>\n",
       "<table border=\"1\" class=\"dataframe\">\n",
       "  <thead>\n",
       "    <tr style=\"text-align: right;\">\n",
       "      <th></th>\n",
       "      <th>SG_PARTIDO</th>\n",
       "      <th>DS_COR_RACA</th>\n",
       "    </tr>\n",
       "    <tr>\n",
       "      <th>DS_GENERO</th>\n",
       "      <th></th>\n",
       "      <th></th>\n",
       "    </tr>\n",
       "  </thead>\n",
       "  <tbody>\n",
       "    <tr>\n",
       "      <th>FEMININO</th>\n",
       "      <td>6226</td>\n",
       "      <td>6226</td>\n",
       "    </tr>\n",
       "    <tr>\n",
       "      <th>MASCULINO</th>\n",
       "      <td>12523</td>\n",
       "      <td>12523</td>\n",
       "    </tr>\n",
       "  </tbody>\n",
       "</table>\n",
       "</div>"
      ],
      "text/plain": [
       "           SG_PARTIDO  DS_COR_RACA\n",
       "DS_GENERO                         \n",
       "FEMININO         6226         6226\n",
       "MASCULINO       12523        12523"
      ]
     },
     "execution_count": 48,
     "metadata": {},
     "output_type": "execute_result"
    }
   ],
   "source": [
    "df_vereadores_pe_sexo_raca.groupby(['DS_GENERO']).count()"
   ]
  },
  {
   "cell_type": "markdown",
   "id": "2f01e94e",
   "metadata": {},
   "source": [
    "E por raça?"
   ]
  },
  {
   "cell_type": "code",
   "execution_count": 49,
   "id": "3f5cefbc",
   "metadata": {},
   "outputs": [
    {
     "data": {
      "text/html": [
       "<div>\n",
       "<style scoped>\n",
       "    .dataframe tbody tr th:only-of-type {\n",
       "        vertical-align: middle;\n",
       "    }\n",
       "\n",
       "    .dataframe tbody tr th {\n",
       "        vertical-align: top;\n",
       "    }\n",
       "\n",
       "    .dataframe thead th {\n",
       "        text-align: right;\n",
       "    }\n",
       "</style>\n",
       "<table border=\"1\" class=\"dataframe\">\n",
       "  <thead>\n",
       "    <tr style=\"text-align: right;\">\n",
       "      <th></th>\n",
       "      <th>SG_PARTIDO</th>\n",
       "      <th>DS_GENERO</th>\n",
       "    </tr>\n",
       "    <tr>\n",
       "      <th>DS_COR_RACA</th>\n",
       "      <th></th>\n",
       "      <th></th>\n",
       "    </tr>\n",
       "  </thead>\n",
       "  <tbody>\n",
       "    <tr>\n",
       "      <th>AMARELA</th>\n",
       "      <td>53</td>\n",
       "      <td>53</td>\n",
       "    </tr>\n",
       "    <tr>\n",
       "      <th>BRANCA</th>\n",
       "      <td>6486</td>\n",
       "      <td>6486</td>\n",
       "    </tr>\n",
       "    <tr>\n",
       "      <th>INDÍGENA</th>\n",
       "      <td>116</td>\n",
       "      <td>116</td>\n",
       "    </tr>\n",
       "    <tr>\n",
       "      <th>PARDA</th>\n",
       "      <td>9955</td>\n",
       "      <td>9955</td>\n",
       "    </tr>\n",
       "    <tr>\n",
       "      <th>PRETA</th>\n",
       "      <td>2030</td>\n",
       "      <td>2030</td>\n",
       "    </tr>\n",
       "    <tr>\n",
       "      <th>SEM INFORMAÇÃO</th>\n",
       "      <td>109</td>\n",
       "      <td>109</td>\n",
       "    </tr>\n",
       "  </tbody>\n",
       "</table>\n",
       "</div>"
      ],
      "text/plain": [
       "                SG_PARTIDO  DS_GENERO\n",
       "DS_COR_RACA                          \n",
       "AMARELA                 53         53\n",
       "BRANCA                6486       6486\n",
       "INDÍGENA               116        116\n",
       "PARDA                 9955       9955\n",
       "PRETA                 2030       2030\n",
       "SEM INFORMAÇÃO         109        109"
      ]
     },
     "execution_count": 49,
     "metadata": {},
     "output_type": "execute_result"
    }
   ],
   "source": [
    "df_vereadores_pe_sexo_raca.groupby(['DS_COR_RACA']).count()"
   ]
  },
  {
   "cell_type": "markdown",
   "id": "6347022c",
   "metadata": {},
   "source": [
    "Da candidaturas do gênero feminino, quantas temos em cada grupo racial?"
   ]
  },
  {
   "cell_type": "code",
   "execution_count": 50,
   "id": "0ebe9c99",
   "metadata": {},
   "outputs": [
    {
     "data": {
      "text/html": [
       "<div>\n",
       "<style scoped>\n",
       "    .dataframe tbody tr th:only-of-type {\n",
       "        vertical-align: middle;\n",
       "    }\n",
       "\n",
       "    .dataframe tbody tr th {\n",
       "        vertical-align: top;\n",
       "    }\n",
       "\n",
       "    .dataframe thead th {\n",
       "        text-align: right;\n",
       "    }\n",
       "</style>\n",
       "<table border=\"1\" class=\"dataframe\">\n",
       "  <thead>\n",
       "    <tr style=\"text-align: right;\">\n",
       "      <th></th>\n",
       "      <th></th>\n",
       "      <th>SG_PARTIDO</th>\n",
       "    </tr>\n",
       "    <tr>\n",
       "      <th>DS_GENERO</th>\n",
       "      <th>DS_COR_RACA</th>\n",
       "      <th></th>\n",
       "    </tr>\n",
       "  </thead>\n",
       "  <tbody>\n",
       "    <tr>\n",
       "      <th rowspan=\"6\" valign=\"top\">FEMININO</th>\n",
       "      <th>AMARELA</th>\n",
       "      <td>21</td>\n",
       "    </tr>\n",
       "    <tr>\n",
       "      <th>BRANCA</th>\n",
       "      <td>2354</td>\n",
       "    </tr>\n",
       "    <tr>\n",
       "      <th>INDÍGENA</th>\n",
       "      <td>35</td>\n",
       "    </tr>\n",
       "    <tr>\n",
       "      <th>PARDA</th>\n",
       "      <td>3148</td>\n",
       "    </tr>\n",
       "    <tr>\n",
       "      <th>PRETA</th>\n",
       "      <td>628</td>\n",
       "    </tr>\n",
       "    <tr>\n",
       "      <th>SEM INFORMAÇÃO</th>\n",
       "      <td>40</td>\n",
       "    </tr>\n",
       "  </tbody>\n",
       "</table>\n",
       "</div>"
      ],
      "text/plain": [
       "                          SG_PARTIDO\n",
       "DS_GENERO DS_COR_RACA               \n",
       "FEMININO  AMARELA                 21\n",
       "          BRANCA                2354\n",
       "          INDÍGENA                35\n",
       "          PARDA                 3148\n",
       "          PRETA                  628\n",
       "          SEM INFORMAÇÃO          40"
      ]
     },
     "execution_count": 50,
     "metadata": {},
     "output_type": "execute_result"
    }
   ],
   "source": [
    "df_vereadores_pe_sexo_raca[df_vereadores_pe_sexo_raca['DS_GENERO'] == 'FEMININO'].groupby(\n",
    "    ['DS_GENERO', 'DS_COR_RACA']).count()"
   ]
  },
  {
   "cell_type": "markdown",
   "id": "be3ec27a",
   "metadata": {},
   "source": [
    "Entre as candidaturas do gênero feminino, quais os partidos com maior número de representação em cada grupo racial?"
   ]
  },
  {
   "cell_type": "code",
   "execution_count": 51,
   "id": "65e886b4",
   "metadata": {},
   "outputs": [
    {
     "data": {
      "text/html": [
       "<div>\n",
       "<style scoped>\n",
       "    .dataframe tbody tr th:only-of-type {\n",
       "        vertical-align: middle;\n",
       "    }\n",
       "\n",
       "    .dataframe tbody tr th {\n",
       "        vertical-align: top;\n",
       "    }\n",
       "\n",
       "    .dataframe thead th {\n",
       "        text-align: right;\n",
       "    }\n",
       "</style>\n",
       "<table border=\"1\" class=\"dataframe\">\n",
       "  <thead>\n",
       "    <tr style=\"text-align: right;\">\n",
       "      <th></th>\n",
       "      <th></th>\n",
       "      <th>SG_PARTIDO</th>\n",
       "    </tr>\n",
       "    <tr>\n",
       "      <th>DS_GENERO</th>\n",
       "      <th>DS_COR_RACA</th>\n",
       "      <th></th>\n",
       "    </tr>\n",
       "  </thead>\n",
       "  <tbody>\n",
       "    <tr>\n",
       "      <th rowspan=\"6\" valign=\"top\">FEMININO</th>\n",
       "      <th>AMARELA</th>\n",
       "      <td>REPUBLICANOS</td>\n",
       "    </tr>\n",
       "    <tr>\n",
       "      <th>BRANCA</th>\n",
       "      <td>SOLIDARIEDADE</td>\n",
       "    </tr>\n",
       "    <tr>\n",
       "      <th>INDÍGENA</th>\n",
       "      <td>UP</td>\n",
       "    </tr>\n",
       "    <tr>\n",
       "      <th>PARDA</th>\n",
       "      <td>UP</td>\n",
       "    </tr>\n",
       "    <tr>\n",
       "      <th>PRETA</th>\n",
       "      <td>UP</td>\n",
       "    </tr>\n",
       "    <tr>\n",
       "      <th>SEM INFORMAÇÃO</th>\n",
       "      <td>PT</td>\n",
       "    </tr>\n",
       "  </tbody>\n",
       "</table>\n",
       "</div>"
      ],
      "text/plain": [
       "                             SG_PARTIDO\n",
       "DS_GENERO DS_COR_RACA                  \n",
       "FEMININO  AMARELA          REPUBLICANOS\n",
       "          BRANCA          SOLIDARIEDADE\n",
       "          INDÍGENA                   UP\n",
       "          PARDA                      UP\n",
       "          PRETA                      UP\n",
       "          SEM INFORMAÇÃO             PT"
      ]
     },
     "execution_count": 51,
     "metadata": {},
     "output_type": "execute_result"
    }
   ],
   "source": [
    "df_vereadores_pe_sexo_raca[df_vereadores_pe_sexo_raca['DS_GENERO'] == 'FEMININO'].groupby(\n",
    "    ['DS_GENERO', 'DS_COR_RACA']).max()"
   ]
  },
  {
   "cell_type": "markdown",
   "id": "c3522222",
   "metadata": {},
   "source": [
    "## Agora é a sua vez, entre as candidaturas do sexo masculino, quais os partidos com o menor número de representantes em cada grupo racial?"
   ]
  },
  {
   "cell_type": "code",
   "execution_count": null,
   "id": "b32635b9",
   "metadata": {},
   "outputs": [],
   "source": []
  }
 ],
 "metadata": {
  "kernelspec": {
   "display_name": "Python 3 (ipykernel)",
   "language": "python",
   "name": "python3"
  },
  "language_info": {
   "codemirror_mode": {
    "name": "ipython",
    "version": 3
   },
   "file_extension": ".py",
   "mimetype": "text/x-python",
   "name": "python",
   "nbconvert_exporter": "python",
   "pygments_lexer": "ipython3",
   "version": "3.8.2"
  }
 },
 "nbformat": 4,
 "nbformat_minor": 5
}
